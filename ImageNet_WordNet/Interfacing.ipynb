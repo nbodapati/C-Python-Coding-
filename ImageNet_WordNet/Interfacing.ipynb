{
 "cells": [
  {
   "cell_type": "code",
   "execution_count": 135,
   "metadata": {
    "collapsed": true
   },
   "outputs": [],
   "source": [
    "from nltk.corpus import wordnet as wn\n",
    "import pandas as pd\n",
    "import numpy as np\n",
    "import xml.etree.ElementTree as ET\n",
    "import requests\n",
    "import random\n",
    "import sys"
   ]
  },
  {
   "cell_type": "code",
   "execution_count": 136,
   "metadata": {},
   "outputs": [
    {
     "name": "stdout",
     "output_type": "stream",
     "text": [
      "Number of synsets:  21844\n"
     ]
    }
   ],
   "source": [
    "#get list of all synset wnids\n",
    "wnids_url='http://www.image-net.org/api/text/imagenet.synset.obtain_synset_list'\n",
    "wnids = requests.get(wnids_url).content.decode('utf-8')\n",
    "wnids=wnids.split('\\n')\n",
    "print(\"Number of synsets: \",len(wnids))"
   ]
  },
  {
   "cell_type": "code",
   "execution_count": 162,
   "metadata": {},
   "outputs": [
    {
     "name": "stdout",
     "output_type": "stream",
     "text": [
      "Number of parent-child relations:  75851\n"
     ]
    }
   ],
   "source": [
    "#is-a relation hierarchy \n",
    "#parent-child wnids\n",
    "url='http://www.image-net.org/archive/wordnet.is_a.txt'\n",
    "wnids_pc = requests.get(url).content.decode('utf-8')\n",
    "wnids_pc=wnids_pc.split('\\n')\n",
    "print('Number of parent-child relations: ',len(wnids_pc))"
   ]
  },
  {
   "cell_type": "code",
   "execution_count": 138,
   "metadata": {
    "collapsed": true
   },
   "outputs": [],
   "source": [
    "user_agent_url = 'http://www.image-net.org/api/xml/structure_released.xml'\n",
    "xml_data = requests.get(user_agent_url).content\n",
    "\n",
    "data=[]\n",
    "class XML2DataFrame:\n",
    "    def __init__(self, xml_data):\n",
    "        self.root = ET.XML(xml_data)\n",
    "\n",
    "    def parse_root(self, root):\n",
    "        \"\"\"Return a list of dictionaries from the text\n",
    "         and attributes of the children under this XML root.\"\"\"\n",
    "        global data\n",
    "        \n",
    "        for child in iter(root):\n",
    "            self.parse_element(child)            \n",
    "        return data\n",
    "\n",
    "    def parse_element(self, element,parsed=None):\n",
    "        \"\"\" Collect {key:attribute} and {tag:text} from thie XML\n",
    "         element and all its children into a single dictionary of strings.\"\"\"\n",
    "        global data\n",
    "        if parsed is None:\n",
    "            parsed = dict()\n",
    "\n",
    "        for key in element.keys():\n",
    "            parsed[key] = element.attrib.get(key)\n",
    "\n",
    "        if element.text:\n",
    "            parsed[element.tag] = element.text\n",
    "  \n",
    "        #print(parsed)\n",
    "        data.append(parsed)\n",
    "        \"\"\" Apply recursion\"\"\"\n",
    "        \n",
    "        for child in list(element):\n",
    "            self.parse_element(child)\n",
    "           \n",
    "        \n",
    "        #print(parsed)\n",
    "        return parsed\n",
    "\n",
    "    def process_data(self):\n",
    "        \"\"\" Initiate the root XML, parse it, and return a dataframe\"\"\"\n",
    "        structure_data = self.parse_root(self.root)\n",
    "        print(len(structure_data))\n",
    "        return pd.DataFrame(structure_data)\n"
   ]
  },
  {
   "cell_type": "code",
   "execution_count": 139,
   "metadata": {},
   "outputs": [
    {
     "name": "stdout",
     "output_type": "stream",
     "text": [
      "60943\n"
     ]
    }
   ],
   "source": [
    "xml2df = XML2DataFrame(xml_data)\n",
    "xml_dataframe = xml2df.process_data()\n",
    "xml_dataframe=xml_dataframe.drop(labels=['releaseData','synset'],axis=1)\n"
   ]
  },
  {
   "cell_type": "code",
   "execution_count": 140,
   "metadata": {},
   "outputs": [
    {
     "data": {
      "text/html": [
       "<div>\n",
       "<style scoped>\n",
       "    .dataframe tbody tr th:only-of-type {\n",
       "        vertical-align: middle;\n",
       "    }\n",
       "\n",
       "    .dataframe tbody tr th {\n",
       "        vertical-align: top;\n",
       "    }\n",
       "\n",
       "    .dataframe thead th {\n",
       "        text-align: right;\n",
       "    }\n",
       "</style>\n",
       "<table border=\"1\" class=\"dataframe\">\n",
       "  <thead>\n",
       "    <tr style=\"text-align: right;\">\n",
       "      <th></th>\n",
       "      <th>gloss</th>\n",
       "      <th>wnid</th>\n",
       "      <th>words</th>\n",
       "    </tr>\n",
       "  </thead>\n",
       "  <tbody>\n",
       "    <tr>\n",
       "      <th>2</th>\n",
       "      <td>(botany) a living organism lacking the power of locomotion</td>\n",
       "      <td>n00017222</td>\n",
       "      <td>plant, flora, plant life</td>\n",
       "    </tr>\n",
       "    <tr>\n",
       "      <th>3</th>\n",
       "      <td>photosynthetic or plant constituent of plankton; mainly unicellular algae</td>\n",
       "      <td>n01383896</td>\n",
       "      <td>phytoplankton</td>\n",
       "    </tr>\n",
       "    <tr>\n",
       "      <th>4</th>\n",
       "      <td>unicellular algae</td>\n",
       "      <td>n01384084</td>\n",
       "      <td>planktonic algae</td>\n",
       "    </tr>\n",
       "    <tr>\n",
       "      <th>5</th>\n",
       "      <td>microscopic unicellular marine or freshwater colonial alga having cell walls impregnated with silica</td>\n",
       "      <td>n01401106</td>\n",
       "      <td>diatom</td>\n",
       "    </tr>\n",
       "    <tr>\n",
       "      <th>6</th>\n",
       "      <td>microscopic plants; bacteria are often considered to be microflora</td>\n",
       "      <td>n11530008</td>\n",
       "      <td>microflora</td>\n",
       "    </tr>\n",
       "  </tbody>\n",
       "</table>\n",
       "</div>"
      ],
      "text/plain": [
       "                                                                                                  gloss  \\\n",
       "2                                            (botany) a living organism lacking the power of locomotion   \n",
       "3                             photosynthetic or plant constituent of plankton; mainly unicellular algae   \n",
       "4                                                                                     unicellular algae   \n",
       "5  microscopic unicellular marine or freshwater colonial alga having cell walls impregnated with silica   \n",
       "6                                    microscopic plants; bacteria are often considered to be microflora   \n",
       "\n",
       "        wnid                     words  \n",
       "2  n00017222  plant, flora, plant life  \n",
       "3  n01383896             phytoplankton  \n",
       "4  n01384084          planktonic algae  \n",
       "5  n01401106                    diatom  \n",
       "6  n11530008                microflora  "
      ]
     },
     "execution_count": 140,
     "metadata": {},
     "output_type": "execute_result"
    }
   ],
   "source": [
    "xml_dataframe=xml_dataframe.iloc[2:,:]\n",
    "xml_dataframe.head(5)"
   ]
  },
  {
   "cell_type": "code",
   "execution_count": 141,
   "metadata": {},
   "outputs": [
    {
     "data": {
      "text/plain": [
       "(                                                                                                  gloss  \\\n",
       " 0                                            (botany) a living organism lacking the power of locomotion   \n",
       " 1                             photosynthetic or plant constituent of plankton; mainly unicellular algae   \n",
       " 2                                                                                     unicellular algae   \n",
       " 3  microscopic unicellular marine or freshwater colonial alga having cell walls impregnated with silica   \n",
       " 4                                    microscopic plants; bacteria are often considered to be microflora   \n",
       " \n",
       "         wnid                     words  \n",
       " 0  n00017222  plant, flora, plant life  \n",
       " 1  n01383896             phytoplankton  \n",
       " 2  n01384084          planktonic algae  \n",
       " 3  n01401106                    diatom  \n",
       " 4  n11530008                microflora  , (32296, 3))"
      ]
     },
     "execution_count": 141,
     "metadata": {},
     "output_type": "execute_result"
    }
   ],
   "source": [
    "xml_dataframe.reset_index(drop=True,inplace=True)\n",
    "xml_dataframe=xml_dataframe.drop_duplicates(keep='first')\n",
    "xml_dataframe.head(),xml_dataframe.shape"
   ]
  },
  {
   "cell_type": "code",
   "execution_count": 189,
   "metadata": {},
   "outputs": [
    {
     "name": "stdout",
     "output_type": "stream",
     "text": [
      "rose apple\n"
     ]
    }
   ],
   "source": [
    "\n",
    "synsets=xml_dataframe['words'].tolist()\n",
    "\n",
    "rose_words=[]\n",
    "for synset in synsets:\n",
    "    if('rose' in synset):\n",
    "        rose_words.append(synset)\n",
    "        \n",
    "#pick a random rose synset.\n",
    "wnid=random.randint(0,len(rose_words))\n",
    "rose_synset=rose_words[wnid]\n",
    "print(rose_synset)"
   ]
  },
  {
   "cell_type": "code",
   "execution_count": 190,
   "metadata": {},
   "outputs": [
    {
     "name": "stdout",
     "output_type": "stream",
     "text": [
      "5397,fragrant oval yellowish tropical fruit used in jellies and confections\n",
      "5397,n07770034\n",
      "5397,rose apple\n",
      "\n"
     ]
    }
   ],
   "source": [
    "#get image names, image urls given the wnid from imagenet.\n",
    "#first get its wnid and gloss.\n",
    "rose_=xml_dataframe[xml_dataframe['words']==rose_synset]\n",
    "rose_['gloss'].to_csv(sys.stdout)\n",
    "rose_['wnid'].to_csv(sys.stdout)\n",
    "rose_['words'].to_csv(sys.stdout)\n",
    "print()\n",
    "\n",
    "wnid=rose_['wnid'].tolist()[0]\n",
    "gloss=rose_['gloss'].tolist()[0]\n",
    "words=rose_['words'].tolist()[0]"
   ]
  },
  {
   "cell_type": "code",
   "execution_count": 185,
   "metadata": {},
   "outputs": [
    {
     "name": "stdout",
     "output_type": "stream",
     "text": [
      "name,n02175569_18\n",
      "url,http://farm4.static.flickr.com/3268/2795079649_88b87eb612.jpg?v=0\n"
     ]
    }
   ],
   "source": [
    "image_names_urls='http://www.image-net.org/api/text/imagenet.synset.geturls.getmapping?wnid=%s'%wnid\n",
    "names_urls= requests.get(image_names_urls).content.decode('utf-8')\n",
    "names_urls=names_urls.split('\\r\\n')\n",
    "def map_names_urls(x):\n",
    "    x=x.split()\n",
    "    #print(x)\n",
    "    return {'name':x[0],'url':x[1]}\n",
    "\n",
    "names_urls=[map_names_urls(x) for x in names_urls if x!='']\n",
    "names_urls=pd.DataFrame(names_urls)\n",
    "names_urls.iloc[0,:].to_csv(sys.stdout)"
   ]
  },
  {
   "cell_type": "code",
   "execution_count": 156,
   "metadata": {},
   "outputs": [
    {
     "name": "stdout",
     "output_type": "stream",
     "text": [
      "(32296, 4)\n",
      "(32295, 4)\n"
     ]
    }
   ],
   "source": [
    "#write xml_data to csv file.\n",
    "xml_dataframe.to_csv('./words_wnids_gloss_imagenet.csv')\n",
    "x=pd.read_csv('./words_wnids_gloss_imagenet.csv')\n",
    "print(x.shape)\n",
    "x=x.dropna(how='any')\n",
    "print(x.shape)"
   ]
  },
  {
   "cell_type": "code",
   "execution_count": 163,
   "metadata": {},
   "outputs": [],
   "source": [
    "#write wnids_pc to csv file.\n",
    "def map_parent_child(x):\n",
    "    x=x.split()\n",
    "    return {'parent':x[0],'child':x[1]}\n",
    "\n",
    "wnids_pc=[map_parent_child(x) for x in wnids_pc if x!='']\n",
    "wnids_pc2=pd.DataFrame(wnids_pc)\n",
    "wnids_pc2.to_csv('wnids_parent_child.csv')"
   ]
  },
  {
   "cell_type": "code",
   "execution_count": 191,
   "metadata": {},
   "outputs": [
    {
     "name": "stdout",
     "output_type": "stream",
     "text": [
      "[]\n",
      "['n07705931']\n"
     ]
    }
   ],
   "source": [
    "#get all children to the wnid we chose.\n",
    "children=[]\n",
    "parents=[]\n",
    "for set_ in wnids_pc:\n",
    "    p=set_['parent']\n",
    "    c=set_['child']\n",
    "    #print(p,c)\n",
    "    if(p==wnid):\n",
    "        children.append(c)\n",
    "    if(c==wnid):\n",
    "        parents.append(p)\n",
    "        \n",
    "print(children)   \n",
    "print(parents)"
   ]
  },
  {
   "cell_type": "code",
   "execution_count": 192,
   "metadata": {},
   "outputs": [
    {
     "name": "stdout",
     "output_type": "stream",
     "text": [
      "[] []\n",
      "['edible reproductive body of a seed plant especially one having sweet flesh'] ['edible fruit']\n"
     ]
    }
   ],
   "source": [
    "children_glosses=[]\n",
    "children_words=[]\n",
    "\n",
    "parent_glosses=[]\n",
    "parent_words=[]\n",
    "\n",
    "if children:\n",
    "    #loop through and get their lists of glosses and words.\n",
    "    children_df=xml_dataframe[xml_dataframe['wnid'].isin(children)]\n",
    "    children_glosses=children_df['gloss'].tolist()\n",
    "    children_words=children_df['words'].tolist()\n",
    "    \n",
    "if parents:\n",
    "    #loop through and get their lists of glosses and words.\n",
    "    parents_df=xml_dataframe[xml_dataframe['wnid'].isin(parents)]\n",
    "    parent_glosses=parents_df['gloss'].tolist()\n",
    "    parent_words=parents_df['words'].tolist()    \n",
    "\n",
    "print(children_glosses,children_words)\n",
    "print(parent_glosses,parent_words)"
   ]
  }
 ],
 "metadata": {
  "kernelspec": {
   "display_name": "Python 3",
   "language": "python",
   "name": "python3"
  },
  "language_info": {
   "codemirror_mode": {
    "name": "ipython",
    "version": 3
   },
   "file_extension": ".py",
   "mimetype": "text/x-python",
   "name": "python",
   "nbconvert_exporter": "python",
   "pygments_lexer": "ipython3",
   "version": "3.6.1"
  }
 },
 "nbformat": 4,
 "nbformat_minor": 2
}
