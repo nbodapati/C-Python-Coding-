{
 "cells": [
  {
   "cell_type": "code",
   "execution_count": 84,
   "metadata": {
    "collapsed": true
   },
   "outputs": [],
   "source": [
    "from __future__ import division\n",
    "import pandas as pd\n",
    "import numpy as np\n",
    "from scipy.spatial.distance import cdist \n",
    "\n",
    "import warnings\n",
    "warnings.filterwarnings(\"ignore\")\n",
    "from bokeh.layouts import layout,column,row\n",
    "from bokeh.plotting import figure, show, output_file\n",
    "from bokeh.models import ColumnDataSource"
   ]
  },
  {
   "cell_type": "code",
   "execution_count": 85,
   "metadata": {},
   "outputs": [
    {
     "data": {
      "text/html": [
       "\n",
       "    <div class=\"bk-root\">\n",
       "        <a href=\"https://bokeh.pydata.org\" target=\"_blank\" class=\"bk-logo bk-logo-small bk-logo-notebook\"></a>\n",
       "        <span id=\"53998013-ecb8-4963-8732-6d99e1118b4b\">Loading BokehJS ...</span>\n",
       "    </div>"
      ]
     },
     "metadata": {},
     "output_type": "display_data"
    },
    {
     "data": {
      "application/javascript": [
       "\n",
       "(function(root) {\n",
       "  function now() {\n",
       "    return new Date();\n",
       "  }\n",
       "\n",
       "  var force = true;\n",
       "\n",
       "  if (typeof (root._bokeh_onload_callbacks) === \"undefined\" || force === true) {\n",
       "    root._bokeh_onload_callbacks = [];\n",
       "    root._bokeh_is_loading = undefined;\n",
       "  }\n",
       "\n",
       "  var JS_MIME_TYPE = 'application/javascript';\n",
       "  var HTML_MIME_TYPE = 'text/html';\n",
       "  var EXEC_MIME_TYPE = 'application/vnd.bokehjs_exec.v0+json';\n",
       "  var CLASS_NAME = 'output_bokeh rendered_html';\n",
       "\n",
       "  /**\n",
       "   * Render data to the DOM node\n",
       "   */\n",
       "  function render(props, node) {\n",
       "    var script = document.createElement(\"script\");\n",
       "    node.appendChild(script);\n",
       "  }\n",
       "\n",
       "  /**\n",
       "   * Handle when an output is cleared or removed\n",
       "   */\n",
       "  function handleClearOutput(event, handle) {\n",
       "    var cell = handle.cell;\n",
       "\n",
       "    var id = cell.output_area._bokeh_element_id;\n",
       "    var server_id = cell.output_area._bokeh_server_id;\n",
       "    // Clean up Bokeh references\n",
       "    if (id !== undefined) {\n",
       "      Bokeh.index[id].model.document.clear();\n",
       "      delete Bokeh.index[id];\n",
       "    }\n",
       "\n",
       "    if (server_id !== undefined) {\n",
       "      // Clean up Bokeh references\n",
       "      var cmd = \"from bokeh.io.state import curstate; print(curstate().uuid_to_server['\" + server_id + \"'].get_sessions()[0].document.roots[0]._id)\";\n",
       "      cell.notebook.kernel.execute(cmd, {\n",
       "        iopub: {\n",
       "          output: function(msg) {\n",
       "            var element_id = msg.content.text.trim();\n",
       "            Bokeh.index[element_id].model.document.clear();\n",
       "            delete Bokeh.index[element_id];\n",
       "          }\n",
       "        }\n",
       "      });\n",
       "      // Destroy server and session\n",
       "      var cmd = \"import bokeh.io.notebook as ion; ion.destroy_server('\" + server_id + \"')\";\n",
       "      cell.notebook.kernel.execute(cmd);\n",
       "    }\n",
       "  }\n",
       "\n",
       "  /**\n",
       "   * Handle when a new output is added\n",
       "   */\n",
       "  function handleAddOutput(event, handle) {\n",
       "    var output_area = handle.output_area;\n",
       "    var output = handle.output;\n",
       "\n",
       "    // limit handleAddOutput to display_data with EXEC_MIME_TYPE content only\n",
       "    if ((output.output_type != \"display_data\") || (!output.data.hasOwnProperty(EXEC_MIME_TYPE))) {\n",
       "      return\n",
       "    }\n",
       "\n",
       "    var toinsert = output_area.element.find(\".\" + CLASS_NAME.split(' ')[0]);\n",
       "\n",
       "    if (output.metadata[EXEC_MIME_TYPE][\"id\"] !== undefined) {\n",
       "      toinsert[0].firstChild.textContent = output.data[JS_MIME_TYPE];\n",
       "      // store reference to embed id on output_area\n",
       "      output_area._bokeh_element_id = output.metadata[EXEC_MIME_TYPE][\"id\"];\n",
       "    }\n",
       "    if (output.metadata[EXEC_MIME_TYPE][\"server_id\"] !== undefined) {\n",
       "      var bk_div = document.createElement(\"div\");\n",
       "      bk_div.innerHTML = output.data[HTML_MIME_TYPE];\n",
       "      var script_attrs = bk_div.children[0].attributes;\n",
       "      for (var i = 0; i < script_attrs.length; i++) {\n",
       "        toinsert[0].firstChild.setAttribute(script_attrs[i].name, script_attrs[i].value);\n",
       "      }\n",
       "      // store reference to server id on output_area\n",
       "      output_area._bokeh_server_id = output.metadata[EXEC_MIME_TYPE][\"server_id\"];\n",
       "    }\n",
       "  }\n",
       "\n",
       "  function register_renderer(events, OutputArea) {\n",
       "\n",
       "    function append_mime(data, metadata, element) {\n",
       "      // create a DOM node to render to\n",
       "      var toinsert = this.create_output_subarea(\n",
       "        metadata,\n",
       "        CLASS_NAME,\n",
       "        EXEC_MIME_TYPE\n",
       "      );\n",
       "      this.keyboard_manager.register_events(toinsert);\n",
       "      // Render to node\n",
       "      var props = {data: data, metadata: metadata[EXEC_MIME_TYPE]};\n",
       "      render(props, toinsert[0]);\n",
       "      element.append(toinsert);\n",
       "      return toinsert\n",
       "    }\n",
       "\n",
       "    /* Handle when an output is cleared or removed */\n",
       "    events.on('clear_output.CodeCell', handleClearOutput);\n",
       "    events.on('delete.Cell', handleClearOutput);\n",
       "\n",
       "    /* Handle when a new output is added */\n",
       "    events.on('output_added.OutputArea', handleAddOutput);\n",
       "\n",
       "    /**\n",
       "     * Register the mime type and append_mime function with output_area\n",
       "     */\n",
       "    OutputArea.prototype.register_mime_type(EXEC_MIME_TYPE, append_mime, {\n",
       "      /* Is output safe? */\n",
       "      safe: true,\n",
       "      /* Index of renderer in `output_area.display_order` */\n",
       "      index: 0\n",
       "    });\n",
       "  }\n",
       "\n",
       "  // register the mime type if in Jupyter Notebook environment and previously unregistered\n",
       "  if (root.Jupyter !== undefined) {\n",
       "    var events = require('base/js/events');\n",
       "    var OutputArea = require('notebook/js/outputarea').OutputArea;\n",
       "\n",
       "    if (OutputArea.prototype.mime_types().indexOf(EXEC_MIME_TYPE) == -1) {\n",
       "      register_renderer(events, OutputArea);\n",
       "    }\n",
       "  }\n",
       "\n",
       "  \n",
       "  if (typeof (root._bokeh_timeout) === \"undefined\" || force === true) {\n",
       "    root._bokeh_timeout = Date.now() + 5000;\n",
       "    root._bokeh_failed_load = false;\n",
       "  }\n",
       "\n",
       "  var NB_LOAD_WARNING = {'data': {'text/html':\n",
       "     \"<div style='background-color: #fdd'>\\n\"+\n",
       "     \"<p>\\n\"+\n",
       "     \"BokehJS does not appear to have successfully loaded. If loading BokehJS from CDN, this \\n\"+\n",
       "     \"may be due to a slow or bad network connection. Possible fixes:\\n\"+\n",
       "     \"</p>\\n\"+\n",
       "     \"<ul>\\n\"+\n",
       "     \"<li>re-rerun `output_notebook()` to attempt to load from CDN again, or</li>\\n\"+\n",
       "     \"<li>use INLINE resources instead, as so:</li>\\n\"+\n",
       "     \"</ul>\\n\"+\n",
       "     \"<code>\\n\"+\n",
       "     \"from bokeh.resources import INLINE\\n\"+\n",
       "     \"output_notebook(resources=INLINE)\\n\"+\n",
       "     \"</code>\\n\"+\n",
       "     \"</div>\"}};\n",
       "\n",
       "  function display_loaded() {\n",
       "    var el = document.getElementById(\"53998013-ecb8-4963-8732-6d99e1118b4b\");\n",
       "    if (el != null) {\n",
       "      el.textContent = \"BokehJS is loading...\";\n",
       "    }\n",
       "    if (root.Bokeh !== undefined) {\n",
       "      if (el != null) {\n",
       "        el.textContent = \"BokehJS \" + root.Bokeh.version + \" successfully loaded.\";\n",
       "      }\n",
       "    } else if (Date.now() < root._bokeh_timeout) {\n",
       "      setTimeout(display_loaded, 100)\n",
       "    }\n",
       "  }\n",
       "\n",
       "\n",
       "  function run_callbacks() {\n",
       "    try {\n",
       "      root._bokeh_onload_callbacks.forEach(function(callback) { callback() });\n",
       "    }\n",
       "    finally {\n",
       "      delete root._bokeh_onload_callbacks\n",
       "    }\n",
       "    console.info(\"Bokeh: all callbacks have finished\");\n",
       "  }\n",
       "\n",
       "  function load_libs(js_urls, callback) {\n",
       "    root._bokeh_onload_callbacks.push(callback);\n",
       "    if (root._bokeh_is_loading > 0) {\n",
       "      console.log(\"Bokeh: BokehJS is being loaded, scheduling callback at\", now());\n",
       "      return null;\n",
       "    }\n",
       "    if (js_urls == null || js_urls.length === 0) {\n",
       "      run_callbacks();\n",
       "      return null;\n",
       "    }\n",
       "    console.log(\"Bokeh: BokehJS not loaded, scheduling load and callback at\", now());\n",
       "    root._bokeh_is_loading = js_urls.length;\n",
       "    for (var i = 0; i < js_urls.length; i++) {\n",
       "      var url = js_urls[i];\n",
       "      var s = document.createElement('script');\n",
       "      s.src = url;\n",
       "      s.async = false;\n",
       "      s.onreadystatechange = s.onload = function() {\n",
       "        root._bokeh_is_loading--;\n",
       "        if (root._bokeh_is_loading === 0) {\n",
       "          console.log(\"Bokeh: all BokehJS libraries loaded\");\n",
       "          run_callbacks()\n",
       "        }\n",
       "      };\n",
       "      s.onerror = function() {\n",
       "        console.warn(\"failed to load library \" + url);\n",
       "      };\n",
       "      console.log(\"Bokeh: injecting script tag for BokehJS library: \", url);\n",
       "      document.getElementsByTagName(\"head\")[0].appendChild(s);\n",
       "    }\n",
       "  };var element = document.getElementById(\"53998013-ecb8-4963-8732-6d99e1118b4b\");\n",
       "  if (element == null) {\n",
       "    console.log(\"Bokeh: ERROR: autoload.js configured with elementid '53998013-ecb8-4963-8732-6d99e1118b4b' but no matching script tag was found. \")\n",
       "    return false;\n",
       "  }\n",
       "\n",
       "  var js_urls = [\"https://cdn.pydata.org/bokeh/release/bokeh-0.12.13.min.js\", \"https://cdn.pydata.org/bokeh/release/bokeh-widgets-0.12.13.min.js\", \"https://cdn.pydata.org/bokeh/release/bokeh-tables-0.12.13.min.js\", \"https://cdn.pydata.org/bokeh/release/bokeh-gl-0.12.13.min.js\"];\n",
       "\n",
       "  var inline_js = [\n",
       "    function(Bokeh) {\n",
       "      Bokeh.set_log_level(\"info\");\n",
       "    },\n",
       "    \n",
       "    function(Bokeh) {\n",
       "      \n",
       "    },\n",
       "    function(Bokeh) {\n",
       "      console.log(\"Bokeh: injecting CSS: https://cdn.pydata.org/bokeh/release/bokeh-0.12.13.min.css\");\n",
       "      Bokeh.embed.inject_css(\"https://cdn.pydata.org/bokeh/release/bokeh-0.12.13.min.css\");\n",
       "      console.log(\"Bokeh: injecting CSS: https://cdn.pydata.org/bokeh/release/bokeh-widgets-0.12.13.min.css\");\n",
       "      Bokeh.embed.inject_css(\"https://cdn.pydata.org/bokeh/release/bokeh-widgets-0.12.13.min.css\");\n",
       "      console.log(\"Bokeh: injecting CSS: https://cdn.pydata.org/bokeh/release/bokeh-tables-0.12.13.min.css\");\n",
       "      Bokeh.embed.inject_css(\"https://cdn.pydata.org/bokeh/release/bokeh-tables-0.12.13.min.css\");\n",
       "    }\n",
       "  ];\n",
       "\n",
       "  function run_inline_js() {\n",
       "    \n",
       "    if ((root.Bokeh !== undefined) || (force === true)) {\n",
       "      for (var i = 0; i < inline_js.length; i++) {\n",
       "        inline_js[i].call(root, root.Bokeh);\n",
       "      }if (force === true) {\n",
       "        display_loaded();\n",
       "      }} else if (Date.now() < root._bokeh_timeout) {\n",
       "      setTimeout(run_inline_js, 100);\n",
       "    } else if (!root._bokeh_failed_load) {\n",
       "      console.log(\"Bokeh: BokehJS failed to load within specified timeout.\");\n",
       "      root._bokeh_failed_load = true;\n",
       "    } else if (force !== true) {\n",
       "      var cell = $(document.getElementById(\"53998013-ecb8-4963-8732-6d99e1118b4b\")).parents('.cell').data().cell;\n",
       "      cell.output_area.append_execute_result(NB_LOAD_WARNING)\n",
       "    }\n",
       "\n",
       "  }\n",
       "\n",
       "  if (root._bokeh_is_loading === 0) {\n",
       "    console.log(\"Bokeh: BokehJS loaded, going straight to plotting\");\n",
       "    run_inline_js();\n",
       "  } else {\n",
       "    load_libs(js_urls, function() {\n",
       "      console.log(\"Bokeh: BokehJS plotting callback run at\", now());\n",
       "      run_inline_js();\n",
       "    });\n",
       "  }\n",
       "}(window));"
      ],
      "application/vnd.bokehjs_load.v0+json": "\n(function(root) {\n  function now() {\n    return new Date();\n  }\n\n  var force = true;\n\n  if (typeof (root._bokeh_onload_callbacks) === \"undefined\" || force === true) {\n    root._bokeh_onload_callbacks = [];\n    root._bokeh_is_loading = undefined;\n  }\n\n  \n\n  \n  if (typeof (root._bokeh_timeout) === \"undefined\" || force === true) {\n    root._bokeh_timeout = Date.now() + 5000;\n    root._bokeh_failed_load = false;\n  }\n\n  var NB_LOAD_WARNING = {'data': {'text/html':\n     \"<div style='background-color: #fdd'>\\n\"+\n     \"<p>\\n\"+\n     \"BokehJS does not appear to have successfully loaded. If loading BokehJS from CDN, this \\n\"+\n     \"may be due to a slow or bad network connection. Possible fixes:\\n\"+\n     \"</p>\\n\"+\n     \"<ul>\\n\"+\n     \"<li>re-rerun `output_notebook()` to attempt to load from CDN again, or</li>\\n\"+\n     \"<li>use INLINE resources instead, as so:</li>\\n\"+\n     \"</ul>\\n\"+\n     \"<code>\\n\"+\n     \"from bokeh.resources import INLINE\\n\"+\n     \"output_notebook(resources=INLINE)\\n\"+\n     \"</code>\\n\"+\n     \"</div>\"}};\n\n  function display_loaded() {\n    var el = document.getElementById(\"53998013-ecb8-4963-8732-6d99e1118b4b\");\n    if (el != null) {\n      el.textContent = \"BokehJS is loading...\";\n    }\n    if (root.Bokeh !== undefined) {\n      if (el != null) {\n        el.textContent = \"BokehJS \" + root.Bokeh.version + \" successfully loaded.\";\n      }\n    } else if (Date.now() < root._bokeh_timeout) {\n      setTimeout(display_loaded, 100)\n    }\n  }\n\n\n  function run_callbacks() {\n    try {\n      root._bokeh_onload_callbacks.forEach(function(callback) { callback() });\n    }\n    finally {\n      delete root._bokeh_onload_callbacks\n    }\n    console.info(\"Bokeh: all callbacks have finished\");\n  }\n\n  function load_libs(js_urls, callback) {\n    root._bokeh_onload_callbacks.push(callback);\n    if (root._bokeh_is_loading > 0) {\n      console.log(\"Bokeh: BokehJS is being loaded, scheduling callback at\", now());\n      return null;\n    }\n    if (js_urls == null || js_urls.length === 0) {\n      run_callbacks();\n      return null;\n    }\n    console.log(\"Bokeh: BokehJS not loaded, scheduling load and callback at\", now());\n    root._bokeh_is_loading = js_urls.length;\n    for (var i = 0; i < js_urls.length; i++) {\n      var url = js_urls[i];\n      var s = document.createElement('script');\n      s.src = url;\n      s.async = false;\n      s.onreadystatechange = s.onload = function() {\n        root._bokeh_is_loading--;\n        if (root._bokeh_is_loading === 0) {\n          console.log(\"Bokeh: all BokehJS libraries loaded\");\n          run_callbacks()\n        }\n      };\n      s.onerror = function() {\n        console.warn(\"failed to load library \" + url);\n      };\n      console.log(\"Bokeh: injecting script tag for BokehJS library: \", url);\n      document.getElementsByTagName(\"head\")[0].appendChild(s);\n    }\n  };var element = document.getElementById(\"53998013-ecb8-4963-8732-6d99e1118b4b\");\n  if (element == null) {\n    console.log(\"Bokeh: ERROR: autoload.js configured with elementid '53998013-ecb8-4963-8732-6d99e1118b4b' but no matching script tag was found. \")\n    return false;\n  }\n\n  var js_urls = [\"https://cdn.pydata.org/bokeh/release/bokeh-0.12.13.min.js\", \"https://cdn.pydata.org/bokeh/release/bokeh-widgets-0.12.13.min.js\", \"https://cdn.pydata.org/bokeh/release/bokeh-tables-0.12.13.min.js\", \"https://cdn.pydata.org/bokeh/release/bokeh-gl-0.12.13.min.js\"];\n\n  var inline_js = [\n    function(Bokeh) {\n      Bokeh.set_log_level(\"info\");\n    },\n    \n    function(Bokeh) {\n      \n    },\n    function(Bokeh) {\n      console.log(\"Bokeh: injecting CSS: https://cdn.pydata.org/bokeh/release/bokeh-0.12.13.min.css\");\n      Bokeh.embed.inject_css(\"https://cdn.pydata.org/bokeh/release/bokeh-0.12.13.min.css\");\n      console.log(\"Bokeh: injecting CSS: https://cdn.pydata.org/bokeh/release/bokeh-widgets-0.12.13.min.css\");\n      Bokeh.embed.inject_css(\"https://cdn.pydata.org/bokeh/release/bokeh-widgets-0.12.13.min.css\");\n      console.log(\"Bokeh: injecting CSS: https://cdn.pydata.org/bokeh/release/bokeh-tables-0.12.13.min.css\");\n      Bokeh.embed.inject_css(\"https://cdn.pydata.org/bokeh/release/bokeh-tables-0.12.13.min.css\");\n    }\n  ];\n\n  function run_inline_js() {\n    \n    if ((root.Bokeh !== undefined) || (force === true)) {\n      for (var i = 0; i < inline_js.length; i++) {\n        inline_js[i].call(root, root.Bokeh);\n      }if (force === true) {\n        display_loaded();\n      }} else if (Date.now() < root._bokeh_timeout) {\n      setTimeout(run_inline_js, 100);\n    } else if (!root._bokeh_failed_load) {\n      console.log(\"Bokeh: BokehJS failed to load within specified timeout.\");\n      root._bokeh_failed_load = true;\n    } else if (force !== true) {\n      var cell = $(document.getElementById(\"53998013-ecb8-4963-8732-6d99e1118b4b\")).parents('.cell').data().cell;\n      cell.output_area.append_execute_result(NB_LOAD_WARNING)\n    }\n\n  }\n\n  if (root._bokeh_is_loading === 0) {\n    console.log(\"Bokeh: BokehJS loaded, going straight to plotting\");\n    run_inline_js();\n  } else {\n    load_libs(js_urls, function() {\n      console.log(\"Bokeh: BokehJS plotting callback run at\", now());\n      run_inline_js();\n    });\n  }\n}(window));"
     },
     "metadata": {},
     "output_type": "display_data"
    }
   ],
   "source": [
    "from bokeh.io import output_notebook, push_notebook\n",
    "output_notebook()"
   ]
  },
  {
   "cell_type": "code",
   "execution_count": 86,
   "metadata": {},
   "outputs": [
    {
     "name": "stdout",
     "output_type": "stream",
     "text": [
      "Num +ve instances: (762, 5)\n",
      "Num -ve instances: (610, 5)\n"
     ]
    }
   ],
   "source": [
    "df=pd.read_csv('./Datasets/data_banknote_authentication.txt',header=None)\n",
    "df.columns=['variance','skewness','curtosis','entropy','target']\n",
    "\n",
    "real_data=df[df['target']==0]\n",
    "fake_data=df[df['target']==1]\n",
    "#real_data - assume to be actual data.\n",
    "#fake data - assume to be outliers.\n",
    "print(\"Num +ve instances:\",real_data.shape)\n",
    "print(\"Num -ve instances:\",fake_data.shape)"
   ]
  },
  {
   "cell_type": "code",
   "execution_count": 87,
   "metadata": {},
   "outputs": [
    {
     "name": "stdout",
     "output_type": "stream",
     "text": [
      "Reduced number of instances of fake_data: (61, 5)\n"
     ]
    }
   ],
   "source": [
    "#sample -ve to 60.\n",
    "#pick every 10th point.\n",
    "fake_data=fake_data.iloc[::10,:]\n",
    "print(\"Reduced number of instances of fake_data:\",fake_data.shape)"
   ]
  },
  {
   "cell_type": "code",
   "execution_count": 88,
   "metadata": {},
   "outputs": [
    {
     "name": "stdout",
     "output_type": "stream",
     "text": [
      "Final data shape (823, 5)\n",
      "Dataset shape: (823, 5)\n",
      "features shape: (823, 4) (823,)\n"
     ]
    }
   ],
   "source": [
    "#get the t-sne for the original data,actual target and store in CDS for bokeh.\n",
    "original_data=pd.concat([real_data,fake_data],axis=0)\n",
    "print(\"Final data shape\",original_data.shape)\n",
    "\n",
    "#convert it into dataset which is a numpy matrix.\n",
    "dataset=original_data.as_matrix()\n",
    "print(\"Dataset shape:\",dataset.shape)\n",
    "\n",
    "#get features as the first 4 columns and target as the last column.\n",
    "features=dataset[:,:4]\n",
    "labels=dataset[:,-1]\n",
    "print(\"features shape:\",features.shape,labels.shape)"
   ]
  },
  {
   "cell_type": "code",
   "execution_count": 89,
   "metadata": {
    "collapsed": true
   },
   "outputs": [],
   "source": [
    "def get_num_neighbors(dist_list,radius=5):\n",
    "    dist_=[False]*len(dist_list)\n",
    "    dist_=[True for l in dist_list if l<=radius]\n",
    "    return sum(dist_)\n",
    "\n",
    "def LOC_Score(point,data):\n",
    "    #compute loc score of a point with all other points.\n",
    "    #use euclidean distance and loc_score=(num points within a radius r=5)/total points\n",
    "    #the more dense neighborhood - higher score. less likely to be an outlier.\n",
    "    dist_mat=cdist(point,data,'euclidean')\n",
    "    dist_mat=sorted(dist_mat.tolist()[0])\n",
    "    total_neigh=len(dist_mat)\n",
    "    num_neigh=get_num_neighbors(dist_mat,5)\n",
    "    score=num_neigh/total_neigh\n",
    "    #print(\"Num neighbors within r=5\",num_neigh)\n",
    "    #print(\"Score of the point:\",score)\n",
    "    return score\n",
    "\n",
    "def get_loc_scores(feats): \n",
    "    #feats - features matrix with shape NxF\n",
    "    loc_scores_all_features=[]\n",
    "    for i in range(feats.shape[0]):\n",
    "        score=LOC_Score(feats[i,:].reshape(-1,feats.shape[1]),feats)\n",
    "        loc_scores_all_features.append(score) \n",
    "    return loc_scores_all_features\n",
    "\n",
    "loc_scores_all_features=get_loc_scores(features)"
   ]
  },
  {
   "cell_type": "code",
   "execution_count": 90,
   "metadata": {},
   "outputs": [
    {
     "name": "stdout",
     "output_type": "stream",
     "text": [
      "MAx of outliers:  0.24787363304981774\n",
      "Min of real points:  0.020656136087484813\n"
     ]
    }
   ],
   "source": [
    "outlier_scores=loc_scores_all_features[-61:]\n",
    "real_scores=loc_scores_all_features[:-61]\n",
    "print(\"MAx of outliers: \",max(loc_scores_all_features[-61:]))\n",
    "print(\"Min of real points: \",min(loc_scores_all_features[:-61]))"
   ]
  },
  {
   "cell_type": "code",
   "execution_count": 91,
   "metadata": {
    "collapsed": true
   },
   "outputs": [],
   "source": [
    "thresholds=[0.1,0.2,0.3,0.4,0.5,0.6,0.7,0.8,0.9]"
   ]
  },
  {
   "cell_type": "code",
   "execution_count": 92,
   "metadata": {
    "collapsed": true
   },
   "outputs": [],
   "source": [
    "def classify_point(score,th):\n",
    "    #for different thresholds of scores - give differnt results\n",
    "    #false negative rate vs false positive rate\n",
    "    if(score<=th):\n",
    "        return 1 #outlier\n",
    "    else:\n",
    "        return 0 #real point\n",
    "\n",
    "def get_pred(scores,th):\n",
    "    #scores - scores matrix with the predicted LOC scores.\n",
    "    #th - to use as guide for classification.\n",
    "    pred_=[]\n",
    "    for score in scores:\n",
    "        pred_.append(classify_point(score,th)) \n",
    "    return pred_\n",
    "\n",
    "def get_predictions(scores):\n",
    "    preds=[[] for _ in range(len(thresholds))]\n",
    "    for i,th in enumerate(thresholds):\n",
    "        preds[i]= get_pred(scores,th)\n",
    "    return preds    \n",
    "\n",
    "#preds - list of lists with predictions for different thresholds.\n",
    "preds=get_predictions(loc_scores_all_features)       \n"
   ]
  },
  {
   "cell_type": "code",
   "execution_count": 93,
   "metadata": {
    "collapsed": true
   },
   "outputs": [],
   "source": [
    "def calculate_TP(y_true,y_pred):\n",
    "    #compute with respect to ouliers. - class 1\n",
    "    #num_true==1,num_pred==1 and (num_pred==num_true)\n",
    "    num_true=(y_true==1)\n",
    "    num_pred=(np.array(y_pred)==1)\n",
    "    #print(num_true,num_pred)\n",
    "    return sum(num_true==num_pred)\n",
    "\n",
    "def calculate_FP(y_true,y_pred):\n",
    "    #compute with respect to ouliers. - class 1\n",
    "    #num_true==0,num_pred==1 and (num_pred==num_true)\n",
    "    num_true=(np.array(y_true)==0)\n",
    "    num_pred=(np.array(y_pred)==1)\n",
    "    #print(num_true,num_pred)\n",
    "    return sum(num_true==num_pred)\n",
    "\n",
    "def calculate_FN(y_true,y_pred):\n",
    "    #compute with respect to ouliers. - class 1\n",
    "    #num_true==0,num_pred==1 and (num_pred==num_true)\n",
    "    num_true=(np.array(y_true)==1)\n",
    "    num_pred=(np.array(y_pred)==0)\n",
    "    #print(num_true,num_pred)\n",
    "    return sum(num_true==num_pred)\n",
    "\n",
    "def calculate_TN(y_true,y_pred):\n",
    "    #compute with respect to ouliers. - class 1\n",
    "    #num_true==0,num_pred==1 and (num_pred==num_true)\n",
    "    num_true=(np.array(y_true)==0)\n",
    "    num_pred=(np.array(y_pred)==0)\n",
    "    #print(num_true,num_pred)\n",
    "    return sum(num_true==num_pred)\n",
    "\n",
    "def get_rates(preds):\n",
    "    detection_rate=[]\n",
    "    false_rate=[]  \n",
    "    for pred in preds:\n",
    "        tp=calculate_TP(labels,pred)\n",
    "        fn=calculate_FN(labels,pred)\n",
    "        dr=tp/(tp+fn)\n",
    "        detection_rate.append(dr)\n",
    "    \n",
    "        tn=calculate_TN(labels,pred)\n",
    "        fp=calculate_FP(labels,pred)\n",
    "        fr=fp/(fp+tn)\n",
    "        false_rate.append(fr)\n",
    "        #print(tp,fn,dr,tn,fp,fr)\n",
    "    return (detection_rate,false_rate)\n",
    "\n",
    "detection_rate,false_rate=get_rates(preds)"
   ]
  },
  {
   "cell_type": "code",
   "execution_count": 94,
   "metadata": {
    "collapsed": true
   },
   "outputs": [],
   "source": [
    "def get_Nt_Features():\n",
    "    nt=4\n",
    "    global features\n",
    "    total=range(features.shape[1]) #5\n",
    "    Nt=np.random.choice(total,nt,replace=False)   \n",
    "    return Nt\n",
    "\n",
    "def get_Ft_Features(Nt):\n",
    "    #random within Nt - without replacement.\n",
    "    ft=3\n",
    "    return np.random.choice(Nt,ft,replace=False)\n",
    "\n",
    "def cumsum(scores_mat):\n",
    "    #scores_mat - np.array of shape TxN where\n",
    "    #T- Num of algorithms\n",
    "    #N- number of data points.\n",
    "    return np.mean(scores_mat,axis=0)\n",
    "\n",
    "def breadth_first(scores_mat,idxs_mat):\n",
    "    ranked_prob=[]\n",
    "    ranked_score=[]\n",
    "    #scores_mat - np.array of shape TxN where sorted scores.\n",
    "    #idxs_mat - np.array of hape TxN with ids of max score.\n",
    "    for m in range(scores_mat.shape[1]):\n",
    "        for t in range(scores_mat.shape[0]):\n",
    "            if(idxs_mat[t,m] not in ranked_prob):\n",
    "                ranked_prob.append(idxs_mat[t,m])\n",
    "                ranked_score.append(scores_mat[t,m])\n",
    "                \n",
    "    return (ranked_prob,ranked_score)            \n",
    "            \n",
    "\n",
    "#T- number of Outlier detection algorithms.\n",
    "T=10\n",
    "chosen_features=[[] for _ in range(T)]\n",
    "algo_loc_scores=[[] for _ in range(T)]\n",
    "for t in range(T):\n",
    "    Nt=get_Nt_Features()\n",
    "    Ft=get_Ft_Features(Nt)\n",
    "    chosen_features[t]=Ft\n",
    "    feats=features[:,Ft]\n",
    "    algo_loc_scores[t]=get_loc_scores(feats)"
   ]
  },
  {
   "cell_type": "code",
   "execution_count": 95,
   "metadata": {
    "collapsed": true
   },
   "outputs": [],
   "source": [
    "algo_loc_scores=np.array(algo_loc_scores)\n",
    "def sort_scores(scores):\n",
    "    sorted_scores=scores\n",
    "    sorted_idxs=list(range(len(scores)))\n",
    "    #insertion sort - like playing cards.\n",
    "    for i in range(len(scores)):\n",
    "        max_=scores[i]\n",
    "        for j in range(i+1,len(scores)):\n",
    "            if(scores[j]> max_):\n",
    "                sorted_scores[i]=sorted_scores[j]\n",
    "                sorted_scores[j]=max_\n",
    "                max_=sorted_scores[i]\n",
    "                \n",
    "                tmp=sorted_idxs[j]\n",
    "                sorted_idxs[j]=sorted_idxs[i]\n",
    "                sorted_idxs[i]=tmp \n",
    "                \n",
    "                \n",
    "    return (sorted_scores,sorted_idxs)           \n",
    "        \n",
    "sorted_algo_loc_scores=[]\n",
    "sorted_algo_loc_idxs=[]\n",
    "for scores in algo_loc_scores:\n",
    "    sorted_scores,sorted_idxs=sort_scores(scores)\n",
    "    sorted_algo_loc_scores.append(sorted_scores)\n",
    "    sorted_algo_loc_idxs.append(sorted_idxs)    "
   ]
  },
  {
   "cell_type": "code",
   "execution_count": 96,
   "metadata": {},
   "outputs": [
    {
     "name": "stdout",
     "output_type": "stream",
     "text": [
      "(10, 823) (10, 823)\n"
     ]
    }
   ],
   "source": [
    "sorted_algo_loc_scores=np.array(sorted_algo_loc_scores)\n",
    "sorted_algo_loc_idxs=np.array(sorted_algo_loc_idxs)\n",
    "print(sorted_algo_loc_scores.shape,sorted_algo_loc_idxs.shape)"
   ]
  },
  {
   "cell_type": "code",
   "execution_count": 97,
   "metadata": {
    "collapsed": true
   },
   "outputs": [],
   "source": [
    "cumsum_scores=cumsum(algo_loc_scores)\n",
    "ranked_prob,ranked_score=breadth_first(sorted_algo_loc_scores,sorted_algo_loc_idxs)\n",
    "\n",
    "def rearrange_scores(idxs,scores):\n",
    "    rearranged=[0]*len(idxs)\n",
    "    for n_i,i in enumerate(idxs):\n",
    "        rearranged[idxs[n_i]]=scores[n_i]\n",
    "    return rearranged\n",
    "\n",
    "bf_scores=rearrange_scores(ranked_prob,ranked_score)\n",
    "\n",
    "preds_cumsum=get_predictions(cumsum_scores)\n",
    "det_rate_cumsum,false_rate_cumsum=get_rates(preds_cumsum)\n",
    "\n",
    "preds_bf=get_predictions(bf_scores)\n",
    "det_rate_bf,false_rate_bf=get_rates(preds_bf)"
   ]
  },
  {
   "cell_type": "code",
   "execution_count": 98,
   "metadata": {},
   "outputs": [
    {
     "name": "stdout",
     "output_type": "stream",
     "text": [
      "0.1 0.88092345079 0.97205346294 0.927095990279\n",
      "0.2 0.710814094775 0.906439854192 0.873633049818\n",
      "0.3 0.38517618469 0.775212636695 0.767922235723\n",
      "0.4 0.0741190765492 0.588092345079 0.591737545565\n",
      "0.5 0.0741190765492 0.304981773998 0.321992709599\n",
      "0.6 0.0741190765492 0.0753341433779 0.206561360875\n",
      "0.7 0.0741190765492 0.0741190765492 0.086269744836\n",
      "0.8 0.0741190765492 0.0741190765492 0.0741190765492\n",
      "0.9 0.0741190765492 0.0741190765492 0.0741190765492\n",
      "******************\n",
      "0.1 0.11907654921 0.0279465370595 0.0729040097205\n",
      "0.2 0.289185905225 0.093560145808 0.126366950182\n",
      "0.3 0.61482381531 0.224787363305 0.232077764277\n",
      "0.4 0.925880923451 0.411907654921 0.408262454435\n",
      "0.5 0.925880923451 0.695018226002 0.678007290401\n",
      "0.6 0.925880923451 0.924665856622 0.793438639125\n",
      "0.7 0.925880923451 0.925880923451 0.913730255164\n",
      "0.8 0.925880923451 0.925880923451 0.925880923451\n",
      "0.9 0.925880923451 0.925880923451 0.925880923451\n"
     ]
    }
   ],
   "source": [
    "def print_lists(l1,l2,l3):\n",
    "    for i in range(len(l1)):\n",
    "        print(thresholds[i],l1[i],l2[i],l3[i])\n",
    "\n",
    "print_lists(detection_rate,det_rate_cumsum,det_rate_bf)\n",
    "print('******************')\n",
    "print_lists(false_rate,false_rate_cumsum,false_rate_bf)"
   ]
  },
  {
   "cell_type": "code",
   "execution_count": 99,
   "metadata": {},
   "outputs": [
    {
     "data": {
      "text/html": [
       "\n",
       "<div class=\"bk-root\">\n",
       "    <div class=\"bk-plotdiv\" id=\"23904fe0-6c16-4e53-b753-77e180743ab3\"></div>\n",
       "</div>"
      ]
     },
     "metadata": {},
     "output_type": "display_data"
    },
    {
     "data": {
      "application/javascript": [
       "(function(root) {\n",
       "  function embed_document(root) {\n",
       "    \n",
       "  var docs_json = {\"c956fabf-a71c-444b-aa51-9c1c8cd08991\":{\"roots\":{\"references\":[{\"attributes\":{},\"id\":\"a15bd975-7d97-49c2-b3f4-3b9059ada5af\",\"type\":\"LinearScale\"},{\"attributes\":{\"overlay\":{\"id\":\"88cfa1b3-0148-449e-98c3-e1d020183251\",\"type\":\"BoxAnnotation\"}},\"id\":\"df766c50-f999-4826-bed9-f05ac0b7c0e1\",\"type\":\"BoxZoomTool\"},{\"attributes\":{\"line_color\":\"red\",\"x\":{\"field\":\"fr\"},\"y\":{\"field\":\"dr\"}},\"id\":\"0e3100e8-3efb-491d-888b-dde4dab00074\",\"type\":\"Line\"},{\"attributes\":{},\"id\":\"85c1da5c-edf5-4f14-8aa1-fcd3c613b26b\",\"type\":\"WheelZoomTool\"},{\"attributes\":{},\"id\":\"39f0f315-b372-43b0-acd6-8d0e290fa2cf\",\"type\":\"LinearScale\"},{\"attributes\":{},\"id\":\"7e39b0a2-133a-4783-83a1-f3e84f0c0f05\",\"type\":\"PanTool\"},{\"attributes\":{\"plot\":{\"id\":\"70a99b45-f5c6-42a0-8a5e-df04f3d0ab14\",\"subtype\":\"Figure\",\"type\":\"Plot\"},\"ticker\":{\"id\":\"7dcc014c-50e1-42a8-b40f-d7cc88f84722\",\"type\":\"BasicTicker\"}},\"id\":\"a2c61086-3f2e-4a59-be05-d7c0fdd25647\",\"type\":\"Grid\"},{\"attributes\":{\"below\":[{\"id\":\"56055a1e-882c-4170-a74f-43fc9987a3b4\",\"type\":\"LinearAxis\"}],\"left\":[{\"id\":\"bc988b2f-a420-4e80-9b14-f293a0384165\",\"type\":\"LinearAxis\"}],\"plot_height\":400,\"plot_width\":500,\"renderers\":[{\"id\":\"56055a1e-882c-4170-a74f-43fc9987a3b4\",\"type\":\"LinearAxis\"},{\"id\":\"a2c61086-3f2e-4a59-be05-d7c0fdd25647\",\"type\":\"Grid\"},{\"id\":\"bc988b2f-a420-4e80-9b14-f293a0384165\",\"type\":\"LinearAxis\"},{\"id\":\"621b04b5-22c7-4de0-8786-79acf5583f64\",\"type\":\"Grid\"},{\"id\":\"88cfa1b3-0148-449e-98c3-e1d020183251\",\"type\":\"BoxAnnotation\"},{\"id\":\"8d0aff32-0c92-4b33-bb41-2671e8df0c2e\",\"type\":\"GlyphRenderer\"},{\"id\":\"4eeaa489-79fc-4570-9fc4-fc159f33a118\",\"type\":\"GlyphRenderer\"},{\"id\":\"13120c56-b3fb-43c8-ad46-54c049f87132\",\"type\":\"GlyphRenderer\"}],\"title\":{\"id\":\"3c5b6c8d-ae7d-4644-9d23-17b85635a6e6\",\"type\":\"Title\"},\"toolbar\":{\"id\":\"e8644eef-b9ed-4812-9136-9fe127d3a15f\",\"type\":\"Toolbar\"},\"x_range\":{\"id\":\"2ec68716-d620-43c9-af09-de670c7b960f\",\"type\":\"DataRange1d\"},\"x_scale\":{\"id\":\"39f0f315-b372-43b0-acd6-8d0e290fa2cf\",\"type\":\"LinearScale\"},\"y_range\":{\"id\":\"05454078-9d90-4ebe-8f39-ce139d82b464\",\"type\":\"DataRange1d\"},\"y_scale\":{\"id\":\"a15bd975-7d97-49c2-b3f4-3b9059ada5af\",\"type\":\"LinearScale\"}},\"id\":\"70a99b45-f5c6-42a0-8a5e-df04f3d0ab14\",\"subtype\":\"Figure\",\"type\":\"Plot\"},{\"attributes\":{\"source\":{\"id\":\"0edf2af1-95b5-418f-a325-26927a22cb35\",\"type\":\"ColumnDataSource\"}},\"id\":\"9f7e038a-6984-4170-979e-b774970ab07e\",\"type\":\"CDSView\"},{\"attributes\":{\"callback\":null},\"id\":\"05454078-9d90-4ebe-8f39-ce139d82b464\",\"type\":\"DataRange1d\"},{\"attributes\":{\"axis_label\":\"False Rate\",\"formatter\":{\"id\":\"a1a9d461-4be1-4a53-90c6-ba090fc15194\",\"type\":\"BasicTickFormatter\"},\"plot\":{\"id\":\"70a99b45-f5c6-42a0-8a5e-df04f3d0ab14\",\"subtype\":\"Figure\",\"type\":\"Plot\"},\"ticker\":{\"id\":\"7dcc014c-50e1-42a8-b40f-d7cc88f84722\",\"type\":\"BasicTicker\"}},\"id\":\"56055a1e-882c-4170-a74f-43fc9987a3b4\",\"type\":\"LinearAxis\"},{\"attributes\":{},\"id\":\"7dcc014c-50e1-42a8-b40f-d7cc88f84722\",\"type\":\"BasicTicker\"},{\"attributes\":{\"data_source\":{\"id\":\"0edf2af1-95b5-418f-a325-26927a22cb35\",\"type\":\"ColumnDataSource\"},\"glyph\":{\"id\":\"08b455b7-a678-4ea1-83c9-bb0fe7318611\",\"type\":\"Line\"},\"hover_glyph\":null,\"muted_glyph\":null,\"nonselection_glyph\":{\"id\":\"ee8444cc-0995-41fe-8571-87a99e45578f\",\"type\":\"Line\"},\"selection_glyph\":null,\"view\":{\"id\":\"9f7e038a-6984-4170-979e-b774970ab07e\",\"type\":\"CDSView\"}},\"id\":\"4eeaa489-79fc-4570-9fc4-fc159f33a118\",\"type\":\"GlyphRenderer\"},{\"attributes\":{\"source\":{\"id\":\"0edf2af1-95b5-418f-a325-26927a22cb35\",\"type\":\"ColumnDataSource\"}},\"id\":\"9f81ec0b-50c7-4703-9b66-10a19d5773c0\",\"type\":\"CDSView\"},{\"attributes\":{\"axis_label\":\"Detection Rate\",\"formatter\":{\"id\":\"b3365c1b-1ec1-4e7d-b356-771d35b8e6bf\",\"type\":\"BasicTickFormatter\"},\"plot\":{\"id\":\"70a99b45-f5c6-42a0-8a5e-df04f3d0ab14\",\"subtype\":\"Figure\",\"type\":\"Plot\"},\"ticker\":{\"id\":\"bf27ba96-1f75-4a0f-9e8a-29626551567f\",\"type\":\"BasicTicker\"}},\"id\":\"bc988b2f-a420-4e80-9b14-f293a0384165\",\"type\":\"LinearAxis\"},{\"attributes\":{\"line_alpha\":0.1,\"line_color\":\"#1f77b4\",\"x\":{\"field\":\"fr\"},\"y\":{\"field\":\"dr\"}},\"id\":\"45067510-2202-4609-9d72-cdb3634343b8\",\"type\":\"Line\"},{\"attributes\":{\"dimension\":1,\"plot\":{\"id\":\"70a99b45-f5c6-42a0-8a5e-df04f3d0ab14\",\"subtype\":\"Figure\",\"type\":\"Plot\"},\"ticker\":{\"id\":\"bf27ba96-1f75-4a0f-9e8a-29626551567f\",\"type\":\"BasicTicker\"}},\"id\":\"621b04b5-22c7-4de0-8786-79acf5583f64\",\"type\":\"Grid\"},{\"attributes\":{},\"id\":\"e88c4203-ad7c-4466-9099-698c3156e31e\",\"type\":\"SaveTool\"},{\"attributes\":{\"plot\":null,\"text\":\"ROC curve\"},\"id\":\"3c5b6c8d-ae7d-4644-9d23-17b85635a6e6\",\"type\":\"Title\"},{\"attributes\":{},\"id\":\"b3365c1b-1ec1-4e7d-b356-771d35b8e6bf\",\"type\":\"BasicTickFormatter\"},{\"attributes\":{},\"id\":\"bf27ba96-1f75-4a0f-9e8a-29626551567f\",\"type\":\"BasicTicker\"},{\"attributes\":{},\"id\":\"a1a9d461-4be1-4a53-90c6-ba090fc15194\",\"type\":\"BasicTickFormatter\"},{\"attributes\":{\"active_drag\":\"auto\",\"active_inspect\":\"auto\",\"active_scroll\":\"auto\",\"active_tap\":\"auto\",\"tools\":[{\"id\":\"7e39b0a2-133a-4783-83a1-f3e84f0c0f05\",\"type\":\"PanTool\"},{\"id\":\"85c1da5c-edf5-4f14-8aa1-fcd3c613b26b\",\"type\":\"WheelZoomTool\"},{\"id\":\"df766c50-f999-4826-bed9-f05ac0b7c0e1\",\"type\":\"BoxZoomTool\"},{\"id\":\"e88c4203-ad7c-4466-9099-698c3156e31e\",\"type\":\"SaveTool\"},{\"id\":\"311fbb3c-0d32-40a2-bef8-8c946ff8c0c7\",\"type\":\"ResetTool\"},{\"id\":\"3bbf6e0e-c591-46a2-af2d-963bd90abc20\",\"type\":\"HelpTool\"}]},\"id\":\"e8644eef-b9ed-4812-9136-9fe127d3a15f\",\"type\":\"Toolbar\"},{\"attributes\":{},\"id\":\"311fbb3c-0d32-40a2-bef8-8c946ff8c0c7\",\"type\":\"ResetTool\"},{\"attributes\":{\"callback\":null},\"id\":\"2ec68716-d620-43c9-af09-de670c7b960f\",\"type\":\"DataRange1d\"},{\"attributes\":{\"line_color\":\"lightblue\",\"x\":{\"field\":\"fr_bf\"},\"y\":{\"field\":\"dr_bf\"}},\"id\":\"5b146ddc-6743-4147-bf4f-7a3273c30bbf\",\"type\":\"Line\"},{\"attributes\":{\"callback\":null,\"column_names\":[\"dr\",\"fr\",\"dr_c\",\"fr_c\",\"dr_bf\",\"fr_bf\"],\"data\":{\"dr\":[0.8809234507897934,0.7108140947752126,0.38517618469015796,0.07411907654921021,0.07411907654921021,0.07411907654921021,0.07411907654921021,0.07411907654921021,0.07411907654921021],\"dr_bf\":[0.9270959902794653,0.8736330498177399,0.7679222357229648,0.5917375455650061,0.3219927095990279,0.2065613608748481,0.08626974483596597,0.07411907654921021,0.07411907654921021],\"dr_c\":[0.9720534629404617,0.9064398541919806,0.7752126366950183,0.5880923450789793,0.30498177399756987,0.07533414337788578,0.07411907654921021,0.07411907654921021,0.07411907654921021],\"fr\":[0.11907654921020656,0.2891859052247874,0.6148238153098421,0.9258809234507898,0.9258809234507898,0.9258809234507898,0.9258809234507898,0.9258809234507898,0.9258809234507898],\"fr_bf\":[0.07290400972053462,0.12636695018226002,0.23207776427703525,0.4082624544349939,0.6780072904009721,0.7934386391251519,0.913730255164034,0.9258809234507898,0.9258809234507898],\"fr_c\":[0.027946537059538274,0.09356014580801944,0.22478736330498178,0.41190765492102066,0.6950182260024301,0.9246658566221142,0.9258809234507898,0.9258809234507898,0.9258809234507898]}},\"id\":\"0edf2af1-95b5-418f-a325-26927a22cb35\",\"type\":\"ColumnDataSource\"},{\"attributes\":{\"data_source\":{\"id\":\"0edf2af1-95b5-418f-a325-26927a22cb35\",\"type\":\"ColumnDataSource\"},\"glyph\":{\"id\":\"0e3100e8-3efb-491d-888b-dde4dab00074\",\"type\":\"Line\"},\"hover_glyph\":null,\"muted_glyph\":null,\"nonselection_glyph\":{\"id\":\"45067510-2202-4609-9d72-cdb3634343b8\",\"type\":\"Line\"},\"selection_glyph\":null,\"view\":{\"id\":\"9f81ec0b-50c7-4703-9b66-10a19d5773c0\",\"type\":\"CDSView\"}},\"id\":\"8d0aff32-0c92-4b33-bb41-2671e8df0c2e\",\"type\":\"GlyphRenderer\"},{\"attributes\":{\"line_alpha\":0.1,\"line_color\":\"#1f77b4\",\"x\":{\"field\":\"fr_bf\"},\"y\":{\"field\":\"dr_bf\"}},\"id\":\"4d9597fe-633a-4b6e-a553-3b40cfd42048\",\"type\":\"Line\"},{\"attributes\":{\"line_color\":\"blue\",\"x\":{\"field\":\"fr_c\"},\"y\":{\"field\":\"dr_c\"}},\"id\":\"08b455b7-a678-4ea1-83c9-bb0fe7318611\",\"type\":\"Line\"},{\"attributes\":{\"bottom_units\":\"screen\",\"fill_alpha\":{\"value\":0.5},\"fill_color\":{\"value\":\"lightgrey\"},\"left_units\":\"screen\",\"level\":\"overlay\",\"line_alpha\":{\"value\":1.0},\"line_color\":{\"value\":\"black\"},\"line_dash\":[4,4],\"line_width\":{\"value\":2},\"plot\":null,\"render_mode\":\"css\",\"right_units\":\"screen\",\"top_units\":\"screen\"},\"id\":\"88cfa1b3-0148-449e-98c3-e1d020183251\",\"type\":\"BoxAnnotation\"},{\"attributes\":{\"source\":{\"id\":\"0edf2af1-95b5-418f-a325-26927a22cb35\",\"type\":\"ColumnDataSource\"}},\"id\":\"98368bc3-8bf0-4081-8771-be5db425ffbc\",\"type\":\"CDSView\"},{\"attributes\":{},\"id\":\"3bbf6e0e-c591-46a2-af2d-963bd90abc20\",\"type\":\"HelpTool\"},{\"attributes\":{\"data_source\":{\"id\":\"0edf2af1-95b5-418f-a325-26927a22cb35\",\"type\":\"ColumnDataSource\"},\"glyph\":{\"id\":\"5b146ddc-6743-4147-bf4f-7a3273c30bbf\",\"type\":\"Line\"},\"hover_glyph\":null,\"muted_glyph\":null,\"nonselection_glyph\":{\"id\":\"4d9597fe-633a-4b6e-a553-3b40cfd42048\",\"type\":\"Line\"},\"selection_glyph\":null,\"view\":{\"id\":\"98368bc3-8bf0-4081-8771-be5db425ffbc\",\"type\":\"CDSView\"}},\"id\":\"13120c56-b3fb-43c8-ad46-54c049f87132\",\"type\":\"GlyphRenderer\"},{\"attributes\":{\"line_alpha\":0.1,\"line_color\":\"#1f77b4\",\"x\":{\"field\":\"fr_c\"},\"y\":{\"field\":\"dr_c\"}},\"id\":\"ee8444cc-0995-41fe-8571-87a99e45578f\",\"type\":\"Line\"}],\"root_ids\":[\"70a99b45-f5c6-42a0-8a5e-df04f3d0ab14\"]},\"title\":\"Bokeh Application\",\"version\":\"0.12.13\"}};\n",
       "  var render_items = [{\"docid\":\"c956fabf-a71c-444b-aa51-9c1c8cd08991\",\"elementid\":\"23904fe0-6c16-4e53-b753-77e180743ab3\",\"modelid\":\"70a99b45-f5c6-42a0-8a5e-df04f3d0ab14\"}];\n",
       "  root.Bokeh.embed.embed_items_notebook(docs_json, render_items);\n",
       "\n",
       "  }\n",
       "  if (root.Bokeh !== undefined) {\n",
       "    embed_document(root);\n",
       "  } else {\n",
       "    var attempts = 0;\n",
       "    var timer = setInterval(function(root) {\n",
       "      if (root.Bokeh !== undefined) {\n",
       "        embed_document(root);\n",
       "        clearInterval(timer);\n",
       "      }\n",
       "      attempts++;\n",
       "      if (attempts > 100) {\n",
       "        console.log(\"Bokeh: ERROR: Unable to run BokehJS code because BokehJS library is missing\")\n",
       "        clearInterval(timer);\n",
       "      }\n",
       "    }, 10, root)\n",
       "  }\n",
       "})(window);"
      ],
      "application/vnd.bokehjs_exec.v0+json": ""
     },
     "metadata": {
      "application/vnd.bokehjs_exec.v0+json": {
       "id": "70a99b45-f5c6-42a0-8a5e-df04f3d0ab14"
      }
     },
     "output_type": "display_data"
    }
   ],
   "source": [
    "source=ColumnDataSource(data=dict(dr=detection_rate,fr=false_rate,dr_c=det_rate_cumsum,fr_c=false_rate_cumsum,\\\n",
    "                       dr_bf=det_rate_bf,fr_bf=false_rate_bf))\n",
    "\n",
    "plot=figure(plot_width=500,plot_height=400,x_axis_label='False Rate',y_axis_label='Detection Rate',title='ROC curve')\n",
    "plot.line('fr','dr',source=source,line_color='red')\n",
    "plot.line('fr_c','dr_c',source=source,line_color='blue')\n",
    "plot.line('fr_bf','dr_bf',source=source,line_color='lightblue')\n",
    "show(plot)"
   ]
  },
  {
   "cell_type": "code",
   "execution_count": 100,
   "metadata": {
    "collapsed": true
   },
   "outputs": [],
   "source": [
    "from sklearn.manifold import TSNE\n",
    "tsne=TSNE()\n",
    "ldim=tsne.fit_transform(features)"
   ]
  },
  {
   "cell_type": "code",
   "execution_count": 116,
   "metadata": {},
   "outputs": [
    {
     "data": {
      "text/html": [
       "\n",
       "<div class=\"bk-root\">\n",
       "    <div class=\"bk-plotdiv\" id=\"3acac160-8316-4f1d-9046-4dc0b195d145\"></div>\n",
       "</div>"
      ]
     },
     "metadata": {},
     "output_type": "display_data"
    },
    {
     "data": {
      "application/javascript": [
       "(function(root) {\n",
       "  function embed_document(root) {\n",
       "    \n",
       "  var docs_json = {\"92f91748-a05f-4f39-8eed-7ec173e2ac44\":{\"roots\":{\"references\":[{\"attributes\":{},\"id\":\"6489ad8a-0a1e-4f02-b01d-40d6e6c49699\",\"type\":\"BasicTickFormatter\"},{\"attributes\":{\"data_source\":{\"id\":\"61f553ca-197f-49ec-93d7-ab07d0e603c4\",\"type\":\"ColumnDataSource\"},\"glyph\":{\"id\":\"85f1d34b-1f44-47da-a425-4d6f995d19b6\",\"type\":\"Circle\"},\"hover_glyph\":null,\"muted_glyph\":null,\"nonselection_glyph\":{\"id\":\"03d5d1b0-f3d9-4489-a239-dec17dac6c18\",\"type\":\"Circle\"},\"selection_glyph\":null,\"view\":{\"id\":\"728c4596-0220-4989-b845-2a75d3ad5453\",\"type\":\"CDSView\"}},\"id\":\"fb994608-b053-4e0e-9e64-c48d1ac1f448\",\"type\":\"GlyphRenderer\"},{\"attributes\":{\"plot\":null,\"text\":\"actual\"},\"id\":\"5b13b9d5-d425-418a-ab02-7e72df01e7c9\",\"type\":\"Title\"},{\"attributes\":{\"callback\":null},\"id\":\"086b9c3a-23a3-449f-8e92-e4fb3593a1c6\",\"type\":\"DataRange1d\"},{\"attributes\":{\"active_drag\":\"auto\",\"active_inspect\":\"auto\",\"active_scroll\":\"auto\",\"active_tap\":\"auto\",\"tools\":[{\"id\":\"c0829f12-a7d2-441f-8420-5f6b8d392e26\",\"type\":\"PanTool\"},{\"id\":\"e25f9f69-6f8a-4d86-8819-eea314a6c564\",\"type\":\"WheelZoomTool\"},{\"id\":\"aca1f77a-0ed0-49af-ad38-370fa0814244\",\"type\":\"BoxZoomTool\"},{\"id\":\"72b3dbfe-8c91-427a-a966-627858046442\",\"type\":\"SaveTool\"},{\"id\":\"2f2a80cf-3e6f-4b4e-904c-74ca8bcf6c60\",\"type\":\"ResetTool\"},{\"id\":\"e3dc78f8-da99-47ab-9941-f86f06b3cec8\",\"type\":\"HelpTool\"}]},\"id\":\"9277d652-b4a6-446b-8347-d6b9eea8f588\",\"type\":\"Toolbar\"},{\"attributes\":{\"fill_alpha\":{\"value\":0.1},\"fill_color\":{\"value\":\"#1f77b4\"},\"line_alpha\":{\"value\":0.1},\"line_color\":{\"value\":\"#1f77b4\"},\"size\":{\"field\":\"idxs\",\"transform\":{\"id\":\"fdea4a86-0654-40cd-a459-8e57c7c2a0b1\",\"type\":\"LinearInterpolator\"},\"units\":\"screen\"},\"x\":{\"field\":\"x\"},\"y\":{\"field\":\"y\"}},\"id\":\"03d5d1b0-f3d9-4489-a239-dec17dac6c18\",\"type\":\"Circle\"},{\"attributes\":{},\"id\":\"c4d790b5-0e57-4ba3-b56e-594444f79ab4\",\"type\":\"LinearScale\"},{\"attributes\":{\"callback\":null},\"id\":\"054010a1-64d8-471f-8150-b86da8c6071c\",\"type\":\"DataRange1d\"},{\"attributes\":{},\"id\":\"81695beb-4ef0-492f-8500-837ab2cbe684\",\"type\":\"LinearScale\"},{\"attributes\":{\"plot\":{\"id\":\"8f9ff0b7-0323-4562-b1e1-13d5d8266824\",\"subtype\":\"Figure\",\"type\":\"Plot\"},\"ticker\":{\"id\":\"ec2060c7-a57a-4187-a269-1748db4f6ec4\",\"type\":\"BasicTicker\"}},\"id\":\"6a16f3ce-8d8f-489e-afb0-4ade27911fc6\",\"type\":\"Grid\"},{\"attributes\":{\"formatter\":{\"id\":\"8a3ff352-9adb-438a-bbde-0351cd4bbf1d\",\"type\":\"BasicTickFormatter\"},\"plot\":{\"id\":\"8f9ff0b7-0323-4562-b1e1-13d5d8266824\",\"subtype\":\"Figure\",\"type\":\"Plot\"},\"ticker\":{\"id\":\"ec2060c7-a57a-4187-a269-1748db4f6ec4\",\"type\":\"BasicTicker\"}},\"id\":\"948a858f-34f9-4033-9a30-4b2e157138ed\",\"type\":\"LinearAxis\"},{\"attributes\":{},\"id\":\"ec2060c7-a57a-4187-a269-1748db4f6ec4\",\"type\":\"BasicTicker\"},{\"attributes\":{\"formatter\":{\"id\":\"6489ad8a-0a1e-4f02-b01d-40d6e6c49699\",\"type\":\"BasicTickFormatter\"},\"plot\":{\"id\":\"8f9ff0b7-0323-4562-b1e1-13d5d8266824\",\"subtype\":\"Figure\",\"type\":\"Plot\"},\"ticker\":{\"id\":\"e28ad9cb-f53a-461a-8eb8-3e23a94e0340\",\"type\":\"BasicTicker\"}},\"id\":\"cdcfb420-4a41-4216-9cce-db4683a9824a\",\"type\":\"LinearAxis\"},{\"attributes\":{},\"id\":\"e28ad9cb-f53a-461a-8eb8-3e23a94e0340\",\"type\":\"BasicTicker\"},{\"attributes\":{\"dimension\":1,\"plot\":{\"id\":\"8f9ff0b7-0323-4562-b1e1-13d5d8266824\",\"subtype\":\"Figure\",\"type\":\"Plot\"},\"ticker\":{\"id\":\"e28ad9cb-f53a-461a-8eb8-3e23a94e0340\",\"type\":\"BasicTicker\"}},\"id\":\"1174501e-2af9-4de8-93c4-af6e4b320a8b\",\"type\":\"Grid\"},{\"attributes\":{},\"id\":\"8a3ff352-9adb-438a-bbde-0351cd4bbf1d\",\"type\":\"BasicTickFormatter\"},{\"attributes\":{\"fill_alpha\":{\"value\":0.2},\"fill_color\":{\"field\":\"labels\",\"transform\":{\"id\":\"14e9d647-c037-46ed-848e-c0de518d0f67\",\"type\":\"LinearColorMapper\"}},\"line_color\":{\"value\":\"#1f77b4\"},\"size\":{\"field\":\"idxs\",\"transform\":{\"id\":\"fdea4a86-0654-40cd-a459-8e57c7c2a0b1\",\"type\":\"LinearInterpolator\"},\"units\":\"screen\"},\"x\":{\"field\":\"x\"},\"y\":{\"field\":\"y\"}},\"id\":\"85f1d34b-1f44-47da-a425-4d6f995d19b6\",\"type\":\"Circle\"},{\"attributes\":{\"children\":[{\"id\":\"f6f75f88-9d58-49e8-99af-56fa345309b6\",\"subtype\":\"Figure\",\"type\":\"Plot\"},{\"id\":\"4db4dd46-22b5-4fdb-8a8e-e6e1891cbf1a\",\"subtype\":\"Figure\",\"type\":\"Plot\"}]},\"id\":\"462c3201-c225-409d-bd80-5cef2c14948b\",\"type\":\"Row\"},{\"attributes\":{\"bottom_units\":\"screen\",\"fill_alpha\":{\"value\":0.5},\"fill_color\":{\"value\":\"lightgrey\"},\"left_units\":\"screen\",\"level\":\"overlay\",\"line_alpha\":{\"value\":1.0},\"line_color\":{\"value\":\"black\"},\"line_dash\":[4,4],\"line_width\":{\"value\":2},\"plot\":null,\"render_mode\":\"css\",\"right_units\":\"screen\",\"top_units\":\"screen\"},\"id\":\"3c202ac3-ea0b-403f-b20e-9d3ba138ac1f\",\"type\":\"BoxAnnotation\"},{\"attributes\":{},\"id\":\"c0829f12-a7d2-441f-8420-5f6b8d392e26\",\"type\":\"PanTool\"},{\"attributes\":{\"children\":[{\"id\":\"462c3201-c225-409d-bd80-5cef2c14948b\",\"type\":\"Row\"},{\"id\":\"0ce0a8eb-e0b0-4904-a913-eb3675a38c84\",\"type\":\"Row\"}]},\"id\":\"063e6ca2-6dbc-4777-a9d4-c9a421866932\",\"type\":\"Column\"},{\"attributes\":{},\"id\":\"e25f9f69-6f8a-4d86-8819-eea314a6c564\",\"type\":\"WheelZoomTool\"},{\"attributes\":{\"overlay\":{\"id\":\"3c202ac3-ea0b-403f-b20e-9d3ba138ac1f\",\"type\":\"BoxAnnotation\"}},\"id\":\"aca1f77a-0ed0-49af-ad38-370fa0814244\",\"type\":\"BoxZoomTool\"},{\"attributes\":{},\"id\":\"72b3dbfe-8c91-427a-a966-627858046442\",\"type\":\"SaveTool\"},{\"attributes\":{},\"id\":\"2f2a80cf-3e6f-4b4e-904c-74ca8bcf6c60\",\"type\":\"ResetTool\"},{\"attributes\":{},\"id\":\"e3dc78f8-da99-47ab-9941-f86f06b3cec8\",\"type\":\"HelpTool\"},{\"attributes\":{\"source\":{\"id\":\"61f553ca-197f-49ec-93d7-ab07d0e603c4\",\"type\":\"ColumnDataSource\"}},\"id\":\"728c4596-0220-4989-b845-2a75d3ad5453\",\"type\":\"CDSView\"},{\"attributes\":{\"children\":[{\"id\":\"fa42c1f0-c139-4e8e-a002-7156f4bfe086\",\"subtype\":\"Figure\",\"type\":\"Plot\"},{\"id\":\"8f9ff0b7-0323-4562-b1e1-13d5d8266824\",\"subtype\":\"Figure\",\"type\":\"Plot\"}]},\"id\":\"0ce0a8eb-e0b0-4904-a913-eb3675a38c84\",\"type\":\"Row\"},{\"attributes\":{\"plot\":null,\"text\":\"full feature preds\"},\"id\":\"2fecbc91-9926-4b35-841a-de5e08bfbc5b\",\"type\":\"Title\"},{\"attributes\":{\"active_drag\":\"auto\",\"active_inspect\":\"auto\",\"active_scroll\":\"auto\",\"active_tap\":\"auto\",\"tools\":[{\"id\":\"d4479739-c463-4ce8-ab21-3e0415fa3ac9\",\"type\":\"PanTool\"},{\"id\":\"6103ddc4-7880-4612-b921-217fe84edee8\",\"type\":\"WheelZoomTool\"},{\"id\":\"c84e235a-b885-4667-affa-86e4c31be50d\",\"type\":\"BoxZoomTool\"},{\"id\":\"46138609-1c77-4f41-878a-7706531ec508\",\"type\":\"SaveTool\"},{\"id\":\"96b5e230-4324-4cf0-9c72-6d69b5b83e3a\",\"type\":\"ResetTool\"},{\"id\":\"0b89c474-1d2d-4afc-a24a-f8663e832504\",\"type\":\"HelpTool\"}]},\"id\":\"407037e9-52ea-4e43-a293-b7a9f29a62ea\",\"type\":\"Toolbar\"},{\"attributes\":{\"callback\":null},\"id\":\"aec6e78e-e9c2-4f23-bbae-e97b4d2652cc\",\"type\":\"DataRange1d\"},{\"attributes\":{},\"id\":\"00c2ce41-06c3-49ed-8c50-59492fd26456\",\"type\":\"BasicTickFormatter\"},{\"attributes\":{},\"id\":\"afbf2dfb-1831-43bc-90eb-a98186e9ded5\",\"type\":\"LinearScale\"},{\"attributes\":{\"callback\":null},\"id\":\"36afa17f-680e-4e6d-8562-bd8e94756226\",\"type\":\"DataRange1d\"},{\"attributes\":{},\"id\":\"3ced9dc3-0704-46fc-af51-15786083d76b\",\"type\":\"LinearScale\"},{\"attributes\":{},\"id\":\"e6d434a8-2eae-4670-9219-abff9a4c3a29\",\"type\":\"LinearScale\"},{\"attributes\":{\"plot\":{\"id\":\"f6f75f88-9d58-49e8-99af-56fa345309b6\",\"subtype\":\"Figure\",\"type\":\"Plot\"},\"ticker\":{\"id\":\"b10190ae-e3f0-4bcf-a020-3d78fe3c699d\",\"type\":\"BasicTicker\"}},\"id\":\"369ee1e1-06a9-485e-8cb6-9c80a95c9886\",\"type\":\"Grid\"},{\"attributes\":{\"formatter\":{\"id\":\"00c2ce41-06c3-49ed-8c50-59492fd26456\",\"type\":\"BasicTickFormatter\"},\"plot\":{\"id\":\"f6f75f88-9d58-49e8-99af-56fa345309b6\",\"subtype\":\"Figure\",\"type\":\"Plot\"},\"ticker\":{\"id\":\"b10190ae-e3f0-4bcf-a020-3d78fe3c699d\",\"type\":\"BasicTicker\"}},\"id\":\"073f0857-e0d4-427b-b0f9-d07b86146018\",\"type\":\"LinearAxis\"},{\"attributes\":{},\"id\":\"b10190ae-e3f0-4bcf-a020-3d78fe3c699d\",\"type\":\"BasicTicker\"},{\"attributes\":{\"formatter\":{\"id\":\"5924fbf7-240f-4742-bac2-bca1fceb3087\",\"type\":\"BasicTickFormatter\"},\"plot\":{\"id\":\"f6f75f88-9d58-49e8-99af-56fa345309b6\",\"subtype\":\"Figure\",\"type\":\"Plot\"},\"ticker\":{\"id\":\"34679735-371e-4cda-9ffd-9fbea240b734\",\"type\":\"BasicTicker\"}},\"id\":\"6c89cc3d-4acd-4014-a4ec-8c19afd05b60\",\"type\":\"LinearAxis\"},{\"attributes\":{},\"id\":\"34679735-371e-4cda-9ffd-9fbea240b734\",\"type\":\"BasicTicker\"},{\"attributes\":{\"dimension\":1,\"plot\":{\"id\":\"f6f75f88-9d58-49e8-99af-56fa345309b6\",\"subtype\":\"Figure\",\"type\":\"Plot\"},\"ticker\":{\"id\":\"34679735-371e-4cda-9ffd-9fbea240b734\",\"type\":\"BasicTicker\"}},\"id\":\"3b5070f1-0903-45fc-b0d2-edcf83c5c7a8\",\"type\":\"Grid\"},{\"attributes\":{\"data_source\":{\"id\":\"61f553ca-197f-49ec-93d7-ab07d0e603c4\",\"type\":\"ColumnDataSource\"},\"glyph\":{\"id\":\"ab43cb93-bbfc-4c9c-8918-94c66181c8db\",\"type\":\"Circle\"},\"hover_glyph\":null,\"muted_glyph\":null,\"nonselection_glyph\":{\"id\":\"90536681-4c42-45dd-9c62-db1371a5a2b6\",\"type\":\"Circle\"},\"selection_glyph\":null,\"view\":{\"id\":\"7ad0f04b-9e1e-4938-b9a6-e970414826cc\",\"type\":\"CDSView\"}},\"id\":\"23205dae-780c-4c63-a7c5-357dc6218f3b\",\"type\":\"GlyphRenderer\"},{\"attributes\":{\"fill_alpha\":{\"value\":0.1},\"fill_color\":{\"value\":\"#1f77b4\"},\"line_alpha\":{\"value\":0.1},\"line_color\":{\"value\":\"#1f77b4\"},\"size\":{\"field\":\"idxs\",\"transform\":{\"id\":\"fdea4a86-0654-40cd-a459-8e57c7c2a0b1\",\"type\":\"LinearInterpolator\"},\"units\":\"screen\"},\"x\":{\"field\":\"x\"},\"y\":{\"field\":\"y\"}},\"id\":\"90536681-4c42-45dd-9c62-db1371a5a2b6\",\"type\":\"Circle\"},{\"attributes\":{\"callback\":null},\"id\":\"4ec76fdf-137c-4964-ac94-e7761dd68646\",\"type\":\"DataRange1d\"},{\"attributes\":{\"bottom_units\":\"screen\",\"fill_alpha\":{\"value\":0.5},\"fill_color\":{\"value\":\"lightgrey\"},\"left_units\":\"screen\",\"level\":\"overlay\",\"line_alpha\":{\"value\":1.0},\"line_color\":{\"value\":\"black\"},\"line_dash\":[4,4],\"line_width\":{\"value\":2},\"plot\":null,\"render_mode\":\"css\",\"right_units\":\"screen\",\"top_units\":\"screen\"},\"id\":\"0ba764fe-f8d8-450a-bbfd-d6d556122676\",\"type\":\"BoxAnnotation\"},{\"attributes\":{},\"id\":\"d4479739-c463-4ce8-ab21-3e0415fa3ac9\",\"type\":\"PanTool\"},{\"attributes\":{},\"id\":\"f4103414-081d-4b0c-adf0-0e0f08655127\",\"type\":\"BasicTickFormatter\"},{\"attributes\":{},\"id\":\"6103ddc4-7880-4612-b921-217fe84edee8\",\"type\":\"WheelZoomTool\"},{\"attributes\":{\"overlay\":{\"id\":\"0ba764fe-f8d8-450a-bbfd-d6d556122676\",\"type\":\"BoxAnnotation\"}},\"id\":\"c84e235a-b885-4667-affa-86e4c31be50d\",\"type\":\"BoxZoomTool\"},{\"attributes\":{},\"id\":\"46138609-1c77-4f41-878a-7706531ec508\",\"type\":\"SaveTool\"},{\"attributes\":{},\"id\":\"96b5e230-4324-4cf0-9c72-6d69b5b83e3a\",\"type\":\"ResetTool\"},{\"attributes\":{},\"id\":\"0b89c474-1d2d-4afc-a24a-f8663e832504\",\"type\":\"HelpTool\"},{\"attributes\":{\"callback\":null},\"id\":\"890f0d2a-813c-4bb8-a5ab-2eb0657df5c7\",\"type\":\"DataRange1d\"},{\"attributes\":{\"source\":{\"id\":\"61f553ca-197f-49ec-93d7-ab07d0e603c4\",\"type\":\"ColumnDataSource\"}},\"id\":\"7ad0f04b-9e1e-4938-b9a6-e970414826cc\",\"type\":\"CDSView\"},{\"attributes\":{\"plot\":null,\"text\":\"Cumsum preds\"},\"id\":\"67916636-eb4c-48b8-a09a-8753556bae64\",\"type\":\"Title\"},{\"attributes\":{},\"id\":\"40fbc73d-a0bf-4fc5-ad33-022d29d85b32\",\"type\":\"LinearScale\"},{\"attributes\":{\"plot\":{\"id\":\"4db4dd46-22b5-4fdb-8a8e-e6e1891cbf1a\",\"subtype\":\"Figure\",\"type\":\"Plot\"},\"ticker\":{\"id\":\"0226ce20-571e-47ea-beb2-c00523c6b157\",\"type\":\"BasicTicker\"}},\"id\":\"ff3aff72-8223-4317-af66-cd072442abb1\",\"type\":\"Grid\"},{\"attributes\":{\"active_drag\":\"auto\",\"active_inspect\":\"auto\",\"active_scroll\":\"auto\",\"active_tap\":\"auto\",\"tools\":[{\"id\":\"edb4f2bb-ee44-4e70-be54-6686f3c05614\",\"type\":\"PanTool\"},{\"id\":\"64a63afa-10aa-4a6a-b52e-cef58889917f\",\"type\":\"WheelZoomTool\"},{\"id\":\"1f54b3e5-bd7f-46a9-8a37-3aa06a8180b2\",\"type\":\"BoxZoomTool\"},{\"id\":\"eac7b254-56b8-4754-8bbb-1dbf86aa2f09\",\"type\":\"SaveTool\"},{\"id\":\"d30fa952-bedf-47e8-aab7-1093ab5be638\",\"type\":\"ResetTool\"},{\"id\":\"80b11464-7557-4126-8487-d4bc5a917d33\",\"type\":\"HelpTool\"}]},\"id\":\"4883b7af-66ea-42de-b7d8-f8387ff4f17f\",\"type\":\"Toolbar\"},{\"attributes\":{\"data_source\":{\"id\":\"61f553ca-197f-49ec-93d7-ab07d0e603c4\",\"type\":\"ColumnDataSource\"},\"glyph\":{\"id\":\"06cf10bb-e36c-4cc7-ae6e-40e11e6153fb\",\"type\":\"Circle\"},\"hover_glyph\":null,\"muted_glyph\":null,\"nonselection_glyph\":{\"id\":\"c6b0c054-c028-478f-8140-3c06abf4a245\",\"type\":\"Circle\"},\"selection_glyph\":null,\"view\":{\"id\":\"3e2da5fa-5534-48fd-b4b9-957fa935643c\",\"type\":\"CDSView\"}},\"id\":\"6f6a3024-7882-4423-a612-07f28889ea25\",\"type\":\"GlyphRenderer\"},{\"attributes\":{},\"id\":\"6909e25c-1ff9-45df-a634-8ab9339e2ea8\",\"type\":\"LinearScale\"},{\"attributes\":{},\"id\":\"5924fbf7-240f-4742-bac2-bca1fceb3087\",\"type\":\"BasicTickFormatter\"},{\"attributes\":{\"fill_alpha\":{\"value\":0.1},\"fill_color\":{\"value\":\"#1f77b4\"},\"line_alpha\":{\"value\":0.1},\"line_color\":{\"value\":\"#1f77b4\"},\"size\":{\"field\":\"idxs\",\"transform\":{\"id\":\"fdea4a86-0654-40cd-a459-8e57c7c2a0b1\",\"type\":\"LinearInterpolator\"},\"units\":\"screen\"},\"x\":{\"field\":\"x\"},\"y\":{\"field\":\"y\"}},\"id\":\"c6b0c054-c028-478f-8140-3c06abf4a245\",\"type\":\"Circle\"},{\"attributes\":{\"formatter\":{\"id\":\"8fb154a6-02d4-4473-b85d-4a36e1bf5916\",\"type\":\"BasicTickFormatter\"},\"plot\":{\"id\":\"4db4dd46-22b5-4fdb-8a8e-e6e1891cbf1a\",\"subtype\":\"Figure\",\"type\":\"Plot\"},\"ticker\":{\"id\":\"0226ce20-571e-47ea-beb2-c00523c6b157\",\"type\":\"BasicTicker\"}},\"id\":\"0fc479f9-f1ab-4952-9004-7acef821372a\",\"type\":\"LinearAxis\"},{\"attributes\":{},\"id\":\"0226ce20-571e-47ea-beb2-c00523c6b157\",\"type\":\"BasicTicker\"},{\"attributes\":{\"formatter\":{\"id\":\"f4103414-081d-4b0c-adf0-0e0f08655127\",\"type\":\"BasicTickFormatter\"},\"plot\":{\"id\":\"4db4dd46-22b5-4fdb-8a8e-e6e1891cbf1a\",\"subtype\":\"Figure\",\"type\":\"Plot\"},\"ticker\":{\"id\":\"b6ccfab6-c5b4-478f-9e12-c6f54f6388d9\",\"type\":\"BasicTicker\"}},\"id\":\"2ce7e155-1e92-473b-a064-deb64db7447d\",\"type\":\"LinearAxis\"},{\"attributes\":{},\"id\":\"b6ccfab6-c5b4-478f-9e12-c6f54f6388d9\",\"type\":\"BasicTicker\"},{\"attributes\":{\"dimension\":1,\"plot\":{\"id\":\"4db4dd46-22b5-4fdb-8a8e-e6e1891cbf1a\",\"subtype\":\"Figure\",\"type\":\"Plot\"},\"ticker\":{\"id\":\"b6ccfab6-c5b4-478f-9e12-c6f54f6388d9\",\"type\":\"BasicTicker\"}},\"id\":\"a5970b28-c147-4c9a-adcb-026d27a4e39e\",\"type\":\"Grid\"},{\"attributes\":{},\"id\":\"8fb154a6-02d4-4473-b85d-4a36e1bf5916\",\"type\":\"BasicTickFormatter\"},{\"attributes\":{\"fill_alpha\":{\"value\":0.2},\"fill_color\":{\"field\":\"preds_c\",\"transform\":{\"id\":\"14e9d647-c037-46ed-848e-c0de518d0f67\",\"type\":\"LinearColorMapper\"}},\"line_color\":{\"value\":\"#1f77b4\"},\"size\":{\"field\":\"idxs\",\"transform\":{\"id\":\"fdea4a86-0654-40cd-a459-8e57c7c2a0b1\",\"type\":\"LinearInterpolator\"},\"units\":\"screen\"},\"x\":{\"field\":\"x\"},\"y\":{\"field\":\"y\"}},\"id\":\"06cf10bb-e36c-4cc7-ae6e-40e11e6153fb\",\"type\":\"Circle\"},{\"attributes\":{\"below\":[{\"id\":\"1e8fb659-6428-49ff-a062-4fe2bc57ee5d\",\"type\":\"LinearAxis\"}],\"left\":[{\"id\":\"5812a814-8f47-4bd2-8fc6-b1fb50dc4c6a\",\"type\":\"LinearAxis\"}],\"plot_height\":400,\"plot_width\":400,\"renderers\":[{\"id\":\"1e8fb659-6428-49ff-a062-4fe2bc57ee5d\",\"type\":\"LinearAxis\"},{\"id\":\"b5098496-7388-4002-8815-0dc2a5bed172\",\"type\":\"Grid\"},{\"id\":\"5812a814-8f47-4bd2-8fc6-b1fb50dc4c6a\",\"type\":\"LinearAxis\"},{\"id\":\"a215c622-9fc2-4259-ac2f-91d2c996b773\",\"type\":\"Grid\"},{\"id\":\"1860aa14-fca6-42ea-aa1a-fff84aaa6999\",\"type\":\"BoxAnnotation\"},{\"id\":\"508bb00b-5645-4aa6-88b1-933002f20a7b\",\"type\":\"GlyphRenderer\"}],\"title\":{\"id\":\"9ad8255d-b7c1-49bd-a7a1-2cb10aebc18c\",\"type\":\"Title\"},\"toolbar\":{\"id\":\"1630783f-73c5-44de-b65c-c776a384bc5c\",\"type\":\"Toolbar\"},\"x_range\":{\"id\":\"7d9c4529-a879-46e9-b44c-5db67acde855\",\"type\":\"DataRange1d\"},\"x_scale\":{\"id\":\"afbf2dfb-1831-43bc-90eb-a98186e9ded5\",\"type\":\"LinearScale\"},\"y_range\":{\"id\":\"47b21443-6769-43e9-9f29-7c23c64c7156\",\"type\":\"DataRange1d\"},\"y_scale\":{\"id\":\"6734cc3a-5834-4da4-9d53-66da4daf8196\",\"type\":\"LinearScale\"}},\"id\":\"fa42c1f0-c139-4e8e-a002-7156f4bfe086\",\"subtype\":\"Figure\",\"type\":\"Plot\"},{\"attributes\":{\"bottom_units\":\"screen\",\"fill_alpha\":{\"value\":0.5},\"fill_color\":{\"value\":\"lightgrey\"},\"left_units\":\"screen\",\"level\":\"overlay\",\"line_alpha\":{\"value\":1.0},\"line_color\":{\"value\":\"black\"},\"line_dash\":[4,4],\"line_width\":{\"value\":2},\"plot\":null,\"render_mode\":\"css\",\"right_units\":\"screen\",\"top_units\":\"screen\"},\"id\":\"17ad38cc-6289-48a0-842c-60ca81e94d14\",\"type\":\"BoxAnnotation\"},{\"attributes\":{},\"id\":\"edb4f2bb-ee44-4e70-be54-6686f3c05614\",\"type\":\"PanTool\"},{\"attributes\":{},\"id\":\"64a63afa-10aa-4a6a-b52e-cef58889917f\",\"type\":\"WheelZoomTool\"},{\"attributes\":{\"overlay\":{\"id\":\"17ad38cc-6289-48a0-842c-60ca81e94d14\",\"type\":\"BoxAnnotation\"}},\"id\":\"1f54b3e5-bd7f-46a9-8a37-3aa06a8180b2\",\"type\":\"BoxZoomTool\"},{\"attributes\":{},\"id\":\"eac7b254-56b8-4754-8bbb-1dbf86aa2f09\",\"type\":\"SaveTool\"},{\"attributes\":{},\"id\":\"d30fa952-bedf-47e8-aab7-1093ab5be638\",\"type\":\"ResetTool\"},{\"attributes\":{},\"id\":\"80b11464-7557-4126-8487-d4bc5a917d33\",\"type\":\"HelpTool\"},{\"attributes\":{\"plot\":{\"id\":\"fa42c1f0-c139-4e8e-a002-7156f4bfe086\",\"subtype\":\"Figure\",\"type\":\"Plot\"},\"ticker\":{\"id\":\"3e9510c1-6bfb-45b2-8755-451611a3d533\",\"type\":\"BasicTicker\"}},\"id\":\"b5098496-7388-4002-8815-0dc2a5bed172\",\"type\":\"Grid\"},{\"attributes\":{\"data\":null,\"x\":[0,822],\"y\":[5,20]},\"id\":\"fdea4a86-0654-40cd-a459-8e57c7c2a0b1\",\"type\":\"LinearInterpolator\"},{\"attributes\":{\"source\":{\"id\":\"61f553ca-197f-49ec-93d7-ab07d0e603c4\",\"type\":\"ColumnDataSource\"}},\"id\":\"3e2da5fa-5534-48fd-b4b9-957fa935643c\",\"type\":\"CDSView\"},{\"attributes\":{\"data_source\":{\"id\":\"61f553ca-197f-49ec-93d7-ab07d0e603c4\",\"type\":\"ColumnDataSource\"},\"glyph\":{\"id\":\"7e04d821-1806-4bbe-9de9-44bb7c30594b\",\"type\":\"Circle\"},\"hover_glyph\":null,\"muted_glyph\":null,\"nonselection_glyph\":{\"id\":\"ee8872eb-f1d2-4514-8eea-dfcb5fa3b1fa\",\"type\":\"Circle\"},\"selection_glyph\":null,\"view\":{\"id\":\"e8476a93-e80f-4dd1-bfd1-1360cf8bed64\",\"type\":\"CDSView\"}},\"id\":\"508bb00b-5645-4aa6-88b1-933002f20a7b\",\"type\":\"GlyphRenderer\"},{\"attributes\":{},\"id\":\"a7d06d58-c93a-49bd-a3fe-e518be472d42\",\"type\":\"BasicTickFormatter\"},{\"attributes\":{\"high\":2,\"low\":0,\"palette\":[\"red\",\"green\"]},\"id\":\"14e9d647-c037-46ed-848e-c0de518d0f67\",\"type\":\"LinearColorMapper\"},{\"attributes\":{},\"id\":\"6734cc3a-5834-4da4-9d53-66da4daf8196\",\"type\":\"LinearScale\"},{\"attributes\":{\"callback\":null},\"id\":\"47b21443-6769-43e9-9f29-7c23c64c7156\",\"type\":\"DataRange1d\"},{\"attributes\":{\"callback\":null},\"id\":\"7d9c4529-a879-46e9-b44c-5db67acde855\",\"type\":\"DataRange1d\"},{\"attributes\":{\"fill_alpha\":{\"value\":0.1},\"fill_color\":{\"value\":\"#1f77b4\"},\"line_alpha\":{\"value\":0.1},\"line_color\":{\"value\":\"#1f77b4\"},\"size\":{\"field\":\"idxs\",\"transform\":{\"id\":\"fdea4a86-0654-40cd-a459-8e57c7c2a0b1\",\"type\":\"LinearInterpolator\"},\"units\":\"screen\"},\"x\":{\"field\":\"x\"},\"y\":{\"field\":\"y\"}},\"id\":\"ee8872eb-f1d2-4514-8eea-dfcb5fa3b1fa\",\"type\":\"Circle\"},{\"attributes\":{\"active_drag\":\"auto\",\"active_inspect\":\"auto\",\"active_scroll\":\"auto\",\"active_tap\":\"auto\",\"tools\":[{\"id\":\"2109345e-fffc-4dd7-bcf6-e6eeb859ffba\",\"type\":\"PanTool\"},{\"id\":\"2ca068d8-4356-4d22-a347-0b6a5e6a1b52\",\"type\":\"WheelZoomTool\"},{\"id\":\"de58e5b7-de31-487e-91b8-d14a4bb2eae5\",\"type\":\"BoxZoomTool\"},{\"id\":\"4680c772-25fe-4359-8307-c7607f1d4f1d\",\"type\":\"SaveTool\"},{\"id\":\"4696f4a3-9e5d-4992-8ae2-fe1e4ae7c5de\",\"type\":\"ResetTool\"},{\"id\":\"a29649df-902a-437b-baa5-94e6261c6b2f\",\"type\":\"HelpTool\"}]},\"id\":\"1630783f-73c5-44de-b65c-c776a384bc5c\",\"type\":\"Toolbar\"},{\"attributes\":{\"fill_alpha\":{\"value\":0.2},\"fill_color\":{\"field\":\"preds\",\"transform\":{\"id\":\"14e9d647-c037-46ed-848e-c0de518d0f67\",\"type\":\"LinearColorMapper\"}},\"line_color\":{\"value\":\"#1f77b4\"},\"size\":{\"field\":\"idxs\",\"transform\":{\"id\":\"fdea4a86-0654-40cd-a459-8e57c7c2a0b1\",\"type\":\"LinearInterpolator\"},\"units\":\"screen\"},\"x\":{\"field\":\"x\"},\"y\":{\"field\":\"y\"}},\"id\":\"ab43cb93-bbfc-4c9c-8918-94c66181c8db\",\"type\":\"Circle\"},{\"attributes\":{\"plot\":null,\"text\":\"bf preds\"},\"id\":\"9ad8255d-b7c1-49bd-a7a1-2cb10aebc18c\",\"type\":\"Title\"},{\"attributes\":{\"formatter\":{\"id\":\"1d2a042b-c1c1-45a8-a6de-dbcbed75e64b\",\"type\":\"BasicTickFormatter\"},\"plot\":{\"id\":\"fa42c1f0-c139-4e8e-a002-7156f4bfe086\",\"subtype\":\"Figure\",\"type\":\"Plot\"},\"ticker\":{\"id\":\"3e9510c1-6bfb-45b2-8755-451611a3d533\",\"type\":\"BasicTicker\"}},\"id\":\"1e8fb659-6428-49ff-a062-4fe2bc57ee5d\",\"type\":\"LinearAxis\"},{\"attributes\":{},\"id\":\"3e9510c1-6bfb-45b2-8755-451611a3d533\",\"type\":\"BasicTicker\"},{\"attributes\":{},\"id\":\"4696f4a3-9e5d-4992-8ae2-fe1e4ae7c5de\",\"type\":\"ResetTool\"},{\"attributes\":{\"formatter\":{\"id\":\"a7d06d58-c93a-49bd-a3fe-e518be472d42\",\"type\":\"BasicTickFormatter\"},\"plot\":{\"id\":\"fa42c1f0-c139-4e8e-a002-7156f4bfe086\",\"subtype\":\"Figure\",\"type\":\"Plot\"},\"ticker\":{\"id\":\"cd32efe4-4da6-4e13-a37a-7cc67d0e093d\",\"type\":\"BasicTicker\"}},\"id\":\"5812a814-8f47-4bd2-8fc6-b1fb50dc4c6a\",\"type\":\"LinearAxis\"},{\"attributes\":{},\"id\":\"cd32efe4-4da6-4e13-a37a-7cc67d0e093d\",\"type\":\"BasicTicker\"},{\"attributes\":{\"dimension\":1,\"plot\":{\"id\":\"fa42c1f0-c139-4e8e-a002-7156f4bfe086\",\"subtype\":\"Figure\",\"type\":\"Plot\"},\"ticker\":{\"id\":\"cd32efe4-4da6-4e13-a37a-7cc67d0e093d\",\"type\":\"BasicTicker\"}},\"id\":\"a215c622-9fc2-4259-ac2f-91d2c996b773\",\"type\":\"Grid\"},{\"attributes\":{\"source\":{\"id\":\"61f553ca-197f-49ec-93d7-ab07d0e603c4\",\"type\":\"ColumnDataSource\"}},\"id\":\"e8476a93-e80f-4dd1-bfd1-1360cf8bed64\",\"type\":\"CDSView\"},{\"attributes\":{\"fill_alpha\":{\"value\":0.2},\"fill_color\":{\"field\":\"preds_bf\",\"transform\":{\"id\":\"14e9d647-c037-46ed-848e-c0de518d0f67\",\"type\":\"LinearColorMapper\"}},\"line_color\":{\"value\":\"#1f77b4\"},\"size\":{\"field\":\"idxs\",\"transform\":{\"id\":\"fdea4a86-0654-40cd-a459-8e57c7c2a0b1\",\"type\":\"LinearInterpolator\"},\"units\":\"screen\"},\"x\":{\"field\":\"x\"},\"y\":{\"field\":\"y\"}},\"id\":\"7e04d821-1806-4bbe-9de9-44bb7c30594b\",\"type\":\"Circle\"},{\"attributes\":{\"below\":[{\"id\":\"948a858f-34f9-4033-9a30-4b2e157138ed\",\"type\":\"LinearAxis\"}],\"left\":[{\"id\":\"cdcfb420-4a41-4216-9cce-db4683a9824a\",\"type\":\"LinearAxis\"}],\"plot_height\":400,\"plot_width\":400,\"renderers\":[{\"id\":\"948a858f-34f9-4033-9a30-4b2e157138ed\",\"type\":\"LinearAxis\"},{\"id\":\"6a16f3ce-8d8f-489e-afb0-4ade27911fc6\",\"type\":\"Grid\"},{\"id\":\"cdcfb420-4a41-4216-9cce-db4683a9824a\",\"type\":\"LinearAxis\"},{\"id\":\"1174501e-2af9-4de8-93c4-af6e4b320a8b\",\"type\":\"Grid\"},{\"id\":\"3c202ac3-ea0b-403f-b20e-9d3ba138ac1f\",\"type\":\"BoxAnnotation\"},{\"id\":\"fb994608-b053-4e0e-9e64-c48d1ac1f448\",\"type\":\"GlyphRenderer\"}],\"title\":{\"id\":\"5b13b9d5-d425-418a-ab02-7e72df01e7c9\",\"type\":\"Title\"},\"toolbar\":{\"id\":\"9277d652-b4a6-446b-8347-d6b9eea8f588\",\"type\":\"Toolbar\"},\"x_range\":{\"id\":\"086b9c3a-23a3-449f-8e92-e4fb3593a1c6\",\"type\":\"DataRange1d\"},\"x_scale\":{\"id\":\"c4d790b5-0e57-4ba3-b56e-594444f79ab4\",\"type\":\"LinearScale\"},\"y_range\":{\"id\":\"054010a1-64d8-471f-8150-b86da8c6071c\",\"type\":\"DataRange1d\"},\"y_scale\":{\"id\":\"81695beb-4ef0-492f-8500-837ab2cbe684\",\"type\":\"LinearScale\"}},\"id\":\"8f9ff0b7-0323-4562-b1e1-13d5d8266824\",\"subtype\":\"Figure\",\"type\":\"Plot\"},{\"attributes\":{},\"id\":\"a29649df-902a-437b-baa5-94e6261c6b2f\",\"type\":\"HelpTool\"},{\"attributes\":{},\"id\":\"1d2a042b-c1c1-45a8-a6de-dbcbed75e64b\",\"type\":\"BasicTickFormatter\"},{\"attributes\":{},\"id\":\"2109345e-fffc-4dd7-bcf6-e6eeb859ffba\",\"type\":\"PanTool\"},{\"attributes\":{\"bottom_units\":\"screen\",\"fill_alpha\":{\"value\":0.5},\"fill_color\":{\"value\":\"lightgrey\"},\"left_units\":\"screen\",\"level\":\"overlay\",\"line_alpha\":{\"value\":1.0},\"line_color\":{\"value\":\"black\"},\"line_dash\":[4,4],\"line_width\":{\"value\":2},\"plot\":null,\"render_mode\":\"css\",\"right_units\":\"screen\",\"top_units\":\"screen\"},\"id\":\"1860aa14-fca6-42ea-aa1a-fff84aaa6999\",\"type\":\"BoxAnnotation\"},{\"attributes\":{},\"id\":\"2ca068d8-4356-4d22-a347-0b6a5e6a1b52\",\"type\":\"WheelZoomTool\"},{\"attributes\":{\"overlay\":{\"id\":\"1860aa14-fca6-42ea-aa1a-fff84aaa6999\",\"type\":\"BoxAnnotation\"}},\"id\":\"de58e5b7-de31-487e-91b8-d14a4bb2eae5\",\"type\":\"BoxZoomTool\"},{\"attributes\":{\"below\":[{\"id\":\"073f0857-e0d4-427b-b0f9-d07b86146018\",\"type\":\"LinearAxis\"}],\"left\":[{\"id\":\"6c89cc3d-4acd-4014-a4ec-8c19afd05b60\",\"type\":\"LinearAxis\"}],\"plot_height\":400,\"plot_width\":400,\"renderers\":[{\"id\":\"073f0857-e0d4-427b-b0f9-d07b86146018\",\"type\":\"LinearAxis\"},{\"id\":\"369ee1e1-06a9-485e-8cb6-9c80a95c9886\",\"type\":\"Grid\"},{\"id\":\"6c89cc3d-4acd-4014-a4ec-8c19afd05b60\",\"type\":\"LinearAxis\"},{\"id\":\"3b5070f1-0903-45fc-b0d2-edcf83c5c7a8\",\"type\":\"Grid\"},{\"id\":\"0ba764fe-f8d8-450a-bbfd-d6d556122676\",\"type\":\"BoxAnnotation\"},{\"id\":\"23205dae-780c-4c63-a7c5-357dc6218f3b\",\"type\":\"GlyphRenderer\"}],\"title\":{\"id\":\"2fecbc91-9926-4b35-841a-de5e08bfbc5b\",\"type\":\"Title\"},\"toolbar\":{\"id\":\"407037e9-52ea-4e43-a293-b7a9f29a62ea\",\"type\":\"Toolbar\"},\"x_range\":{\"id\":\"aec6e78e-e9c2-4f23-bbae-e97b4d2652cc\",\"type\":\"DataRange1d\"},\"x_scale\":{\"id\":\"3ced9dc3-0704-46fc-af51-15786083d76b\",\"type\":\"LinearScale\"},\"y_range\":{\"id\":\"36afa17f-680e-4e6d-8562-bd8e94756226\",\"type\":\"DataRange1d\"},\"y_scale\":{\"id\":\"e6d434a8-2eae-4670-9219-abff9a4c3a29\",\"type\":\"LinearScale\"}},\"id\":\"f6f75f88-9d58-49e8-99af-56fa345309b6\",\"subtype\":\"Figure\",\"type\":\"Plot\"},{\"attributes\":{},\"id\":\"4680c772-25fe-4359-8307-c7607f1d4f1d\",\"type\":\"SaveTool\"},{\"attributes\":{\"callback\":null,\"column_names\":[\"idxs\",\"x\",\"y\",\"preds\",\"preds_c\",\"preds_bf\",\"labels\"],\"data\":{\"idxs\":[0,1,2,3,4,5,6,7,8,9,10,11,12,13,14,15,16,17,18,19,20,21,22,23,24,25,26,27,28,29,30,31,32,33,34,35,36,37,38,39,40,41,42,43,44,45,46,47,48,49,50,51,52,53,54,55,56,57,58,59,60,61,62,63,64,65,66,67,68,69,70,71,72,73,74,75,76,77,78,79,80,81,82,83,84,85,86,87,88,89,90,91,92,93,94,95,96,97,98,99,100,101,102,103,104,105,106,107,108,109,110,111,112,113,114,115,116,117,118,119,120,121,122,123,124,125,126,127,128,129,130,131,132,133,134,135,136,137,138,139,140,141,142,143,144,145,146,147,148,149,150,151,152,153,154,155,156,157,158,159,160,161,162,163,164,165,166,167,168,169,170,171,172,173,174,175,176,177,178,179,180,181,182,183,184,185,186,187,188,189,190,191,192,193,194,195,196,197,198,199,200,201,202,203,204,205,206,207,208,209,210,211,212,213,214,215,216,217,218,219,220,221,222,223,224,225,226,227,228,229,230,231,232,233,234,235,236,237,238,239,240,241,242,243,244,245,246,247,248,249,250,251,252,253,254,255,256,257,258,259,260,261,262,263,264,265,266,267,268,269,270,271,272,273,274,275,276,277,278,279,280,281,282,283,284,285,286,287,288,289,290,291,292,293,294,295,296,297,298,299,300,301,302,303,304,305,306,307,308,309,310,311,312,313,314,315,316,317,318,319,320,321,322,323,324,325,326,327,328,329,330,331,332,333,334,335,336,337,338,339,340,341,342,343,344,345,346,347,348,349,350,351,352,353,354,355,356,357,358,359,360,361,362,363,364,365,366,367,368,369,370,371,372,373,374,375,376,377,378,379,380,381,382,383,384,385,386,387,388,389,390,391,392,393,394,395,396,397,398,399,400,401,402,403,404,405,406,407,408,409,410,411,412,413,414,415,416,417,418,419,420,421,422,423,424,425,426,427,428,429,430,431,432,433,434,435,436,437,438,439,440,441,442,443,444,445,446,447,448,449,450,451,452,453,454,455,456,457,458,459,460,461,462,463,464,465,466,467,468,469,470,471,472,473,474,475,476,477,478,479,480,481,482,483,484,485,486,487,488,489,490,491,492,493,494,495,496,497,498,499,500,501,502,503,504,505,506,507,508,509,510,511,512,513,514,515,516,517,518,519,520,521,522,523,524,525,526,527,528,529,530,531,532,533,534,535,536,537,538,539,540,541,542,543,544,545,546,547,548,549,550,551,552,553,554,555,556,557,558,559,560,561,562,563,564,565,566,567,568,569,570,571,572,573,574,575,576,577,578,579,580,581,582,583,584,585,586,587,588,589,590,591,592,593,594,595,596,597,598,599,600,601,602,603,604,605,606,607,608,609,610,611,612,613,614,615,616,617,618,619,620,621,622,623,624,625,626,627,628,629,630,631,632,633,634,635,636,637,638,639,640,641,642,643,644,645,646,647,648,649,650,651,652,653,654,655,656,657,658,659,660,661,662,663,664,665,666,667,668,669,670,671,672,673,674,675,676,677,678,679,680,681,682,683,684,685,686,687,688,689,690,691,692,693,694,695,696,697,698,699,700,701,702,703,704,705,706,707,708,709,710,711,712,713,714,715,716,717,718,719,720,721,722,723,724,725,726,727,728,729,730,731,732,733,734,735,736,737,738,739,740,741,742,743,744,745,746,747,748,749,750,751,752,753,754,755,756,757,758,759,760,761,762,763,764,765,766,767,768,769,770,771,772,773,774,775,776,777,778,779,780,781,782,783,784,785,786,787,788,789,790,791,792,793,794,795,796,797,798,799,800,801,802,803,804,805,806,807,808,809,810,811,812,813,814,815,816,817,818,819,820,821,822],\"labels\":{\"__ndarray__\":\"AAAAAAAAAAAAAAAAAAAAAAAAAAAAAAAAAAAAAAAAAAAAAAAAAAAAAAAAAAAAAAAAAAAAAAAAAAAAAAAAAAAAAAAAAAAAAAAAAAAAAAAAAAAAAAAAAAAAAAAAAAAAAAAAAAAAAAAAAAAAAAAAAAAAAAAAAAAAAAAAAAAAAAAAAAAAAAAAAAAAAAAAAAAAAAAAAAAAAAAAAAAAAAAAAAAAAAAAAAAAAAAAAAAAAAAAAAAAAAAAAAAAAAAAAAAAAAAAAAAAAAAAAAAAAAAAAAAAAAAAAAAAAAAAAAAAAAAAAAAAAAAAAAAAAAAAAAAAAAAAAAAAAAAAAAAAAAAAAAAAAAAAAAAAAAAAAAAAAAAAAAAAAAAAAAAAAAAAAAAAAAAAAAAAAAAAAAAAAAAAAAAAAAAAAAAAAAAAAAAAAAAAAAAAAAAAAAAAAAAAAAAAAAAAAAAAAAAAAAAAAAAAAAAAAAAAAAAAAAAAAAAAAAAAAAAAAAAAAAAAAAAAAAAAAAAAAAAAAAAAAAAAAAAAAAAAAAAAAAAAAAAAAAAAAAAAAAAAAAAAAAAAAAAAAAAAAAAAAAAAAAAAAAAAAAAAAAAAAAAAAAAAAAAAAAAAAAAAAAAAAAAAAAAAAAAAAAAAAAAAAAAAAAAAAAAAAAAAAAAAAAAAAAAAAAAAAAAAAAAAAAAAAAAAAAAAAAAAAAAAAAAAAAAAAAAAAAAAAAAAAAAAAAAAAAAAAAAAAAAAAAAAAAAAAAAAAAAAAAAAAAAAAAAAAAAAAAAAAAAAAAAAAAAAAAAAAAAAAAAAAAAAAAAAAAAAAAAAAAAAAAAAAAAAAAAAAAAAAAAAAAAAAAAAAAAAAAAAAAAAAAAAAAAAAAAAAAAAAAAAAAAAAAAAAAAAAAAAAAAAAAAAAAAAAAAAAAAAAAAAAAAAAAAAAAAAAAAAAAAAAAAAAAAAAAAAAAAAAAAAAAAAAAAAAAAAAAAAAAAAAAAAAAAAAAAAAAAAAAAAAAAAAAAAAAAAAAAAAAAAAAAAAAAAAAAAAAAAAAAAAAAAAAAAAAAAAAAAAAAAAAAAAAAAAAAAAAAAAAAAAAAAAAAAAAAAAAAAAAAAAAAAAAAAAAAAAAAAAAAAAAAAAAAAAAAAAAAAAAAAAAAAAAAAAAAAAAAAAAAAAAAAAAAAAAAAAAAAAAAAAAAAAAAAAAAAAAAAAAAAAAAAAAAAAAAAAAAAAAAAAAAAAAAAAAAAAAAAAAAAAAAAAAAAAAAAAAAAAAAAAAAAAAAAAAAAAAAAAAAAAAAAAAAAAAAAAAAAAAAAAAAAAAAAAAAAAAAAAAAAAAAAAAAAAAAAAAAAAAAAAAAAAAAAAAAAAAAAAAAAAAAAAAAAAAAAAAAAAAAAAAAAAAAAAAAAAAAAAAAAAAAAAAAAAAAAAAAAAAAAAAAAAAAAAAAAAAAAAAAAAAAAAAAAAAAAAAAAAAAAAAAAAAAAAAAAAAAAAAAAAAAAAAAAAAAAAAAAAAAAAAAAAAAAAAAAAAAAAAAAAAAAAAAAAAAAAAAAAAAAAAAAAAAAAAAAAAAAAAAAAAAAAAAAAAAAAAAAAAAAAAAAAAAAAAAAAAAAAAAAAAAAAAAAAAAAAAAAAAAAAAAAAAAAAAAAAAAAAAAAAAAAAAAAAAAAAAAAAAAAAAAAAAAAAAAAAAAAAAAAAAAAAAAAAAAAAAAAAAAAAAAAAAAAAAAAAAAAAAAAAAAAAAAAAAAAAAAAAAAAAAAAAAAAAAAAAAAAAAAAAAAAAAAAAAAAAAAAAAAAAAAAAAAAAAAAAAAAAAAAAAAAAAAAAAAAAAAAAAAAAAAAAAAAAAAAAAAAAAAAAAAAAAAAAAAAAAAAAAAAAAAAAAAAAAAAAAAAAAAAAAAAAAAAAAAAAAAAAAAAAAAAAAAAAAAAAAAAAAAAAAAAAAAAAAAAAAAAAAAAAAAAAAAAAAAAAAAAAAAAAAAAAAAAAAAAAAAAAAAAAAAAAAAAAAAAAAAAAAAAAAAAAAAAAAAAAAAAAAAAAAAAAAAAAAAAAAAAAAAAAAAAAAAAAAAAAAAAAAAAAAAAAAAAAAAAAAAAAAAAAAAAAAAAAAAAAAAAAAAAAAAAAAAAAAAAAAAAAAAAAAAAAAAAAAAAAAAAAAAAAAAAAAAAAAAAAAAAAAAAAAAAAAAAAAAAAAAAAAAAAAAAAAAAAAAAAAAAAAAAAAAAAAAAAAAAAAAAAAAAAAAAAAAAAAAAAAAAAAAAAAAAAAAAAAAAAAAAAAAAAAAAAAAAAAAAAAAAAAAAAAAAAAAAAAAAAAAAAAAAAAAAAAAAAAAAAAAAAAAAAAAAAAAAAAAAAAAAAAAAAAAAAAAAAAAAAAAAAAAAAAAAAAAAAAAAAAAAAAAAAAAAAAAAAAAAAAAAAAAAAAAAAAAAAAAAAAAAAAAAAAAAAAAAAAAAAAAAAAAAAAAAAAAAAAAAAAAAAAAAAAAAAAAAAAAAAAAAAAAAAAAAAAAAAAAAAAAAAAAAAAAAAAAAAAAAAAAAAAAAAAAAAAAAAAAAAAAAAAAAAAAAAAAAAAAAAAAAAAAAAAAAAAAAAAAAAAAAAAAAAAAAAAAAAAAAAAAAAAAAAAAAAAAAAAAAAAAAAAAAAAAAAAAAAAAAAAAAAAAAAAAAAAAAAAAAAAAAAAAAAAAAAAAAAAAAAAAAAAAAAAAAAAAAAAAAAAAAAAAAAAAAAAAAAAAAAAAAAAAAAAAAAAAAAAAAAAAAAAAAAAAAAAAAAAAAAAAAAAAAAAAAAAAAAAAAAAAAAAAAAAAAAAAAAAAAAAAAAAAAAAAAAAAAAAAAAAAAAAAAAAAAAAAAAAAAAAAAAAAAAAAAAAAAAAAAAAAAAAAAAAAAAAAAAAAAAAAAAAAAAAAAAAAAAAAAAAAAAAAAAAAAAAAAAAAAAAAAAAAAAAAAAAAAAAAAAAAAAAAAAAAAAAAAAAAAAAAAAAAAAAAAAAAAAAAAAAAAAAAAAAAAAAAAAAAAAAAAAAAAAAAAAAAAAAAAAAAAAAAAAAAAAAAAAAAAAAAAAAAAAAAAAAAAAAAAAAAAAAAAAAAAAAAAAAAAAAAAAAAAAAAAAAAAAAAAAAAAAAAAAAAAAAAAAAAAAAAAAAAAAAAAAAAAAAAAAAAAAAAAAAAAAAAAAAAAAAAAAAAAAAAAAAAAAAAAAAAAAAAAAAAAAAAAAAAAAAAAAAAAAAAAAAAAAAAAAAAAAAAAAAAAAAAAAAAAAAAAAAAAAAAAAAAAAAAAAAAAAAAAAAAAAAAAAAAAAAAAAAAAAAAAAAAAAAAAAAAAAAAAAAAAAAAAAAAAAAAAAAAAAAAAAAAAAAAAAAAAAAAAAAAAAAAAAAAAAAAAAAAAAAAAAAAAAAAAAAAAAAAAAAAAAAAAAAAAAAAAAAAAAAAAAAAAAAAAAAAAAAAAAAAAAAAAAAAAAAAAAAAAAAAAAAAAAAAAAAAAAAAAAAAAAAAAAAAAAAAAAAAAAAAAAAAAAAAAAAAAAAAAAAAAAAAAAAAAAAAAAAAAAAAAAAAAAAAAAAAAAAAAAAAAAAAAAAAAAAAAAAAAAAAAAAAAAAAAAAAAAAAAAAAAAAAAAAAAAAAAAAAAAAAAAAAAAAAAAAAAAAAAAAAAAAAAAAAAAAAAAAAAAAAAAAAAAAAAAAAAAAAAAAAAAAAAAAAAAAAAAAAAAAAAAAAAAAAAAAAAAAAAAAAAAAAAAAAAAAAAAAAAAAAAAAAAAAAAAAAAAAAAAAAAAAAAAAAAAAAAAAAAAAAAAAAAAAAAAAAAAAAAAAAAAAAAAAAAAAAAAAAAAAAAAAAAAAAAAAAAAAAAAAAAAAAAAAAAAAAAAAAAAAAAAAAAAAAAAAAAAAAAAAAAAAAAAAAAAAAAAAAAAAAAAAAAAAAAAAAAAAAAAAAAAAAAAAAAAAAAAAAAAAAAAAAAAAAAAAAAAAAAAAAAAAAAAAAAAAAAAAAAAAAAAAAAAAAAAAAAAAAAAAAAAAAAAAAAAAAAAAAAAAAAAAAAAAAAAAAAAAAAAAAAAAAAAAAAAAAAAAAAAAAAAAAAAAAAAAAAAAAAAAAAAAAAAAAAAAAAAAAAAAAAAAAAAAAAAAAAAAAAAAAAAAAAAAAAAAAAAAAAAAAAAAAAAAAAAAAAAAAAAAAAAAAAAAAAAAAAAAAAAAAAAAAAAAAAAAAAAAAAAAAAAAAAAAAAAAAAAAAAAAAAAAAAAAAAAAAAAAAAAAAAAAAAAAAAAAAAAAAAAAAAAAAAAAAAAAAAAAAAAAAAAAAAAAAAAAAAAAAAAAAAAAAAAAAAAAAAAAAAAAAAAAAAAAAAAAAAAAAAAAAAAAAAAAAAAAAAAAAAAAAAAAAAAAAAAAAAAAAAAAAAAAAAAAAAAAAAAAAAAAAAAAAAAAAAAAAAAAAAAAAAAAAAAAAAAAAAAAAAAAAAAAAAAAAAAAAAAAAAAAAAAAAAAAAAAAAAAAAAAAAAAAAAAAAAAAAAAAAAAAAAAAAAAAAAAAAAAAAAAAAAAAAAAAAAAAAAAAAAAAAAAAAAAAAAAAAAAAAAAAAAAAAAAAAAAAAAAAAAAAAAAAAAAAAAAAAAAAAAAAAAAAAAAAAAAAAAAAAAAAAAAAAAAAAAAAAAAAAAAAAAAAAAAAAAAAAAAAAAAAAAAAAAAAAAAAAAAAAAAAAAAAAAAAAAAAAAAAAAAAAAAAAAAAAAAAAAAAAAAAAAAAAAAAAAAAAAAAAAAAAAAAAAAAAAAAAAAAAAAAAAAAAAAAAAAAAAAAAAAAAAAAAAAAAAAAAAAAAAAAAAAAAAAAAAAAAAAAAAAAAAAAAAAAAAAAAAAAAAAAAAAAAAAAAAAAAAAAAAAAAAAAAAAAAAAAAAAAAAAAAAAAAAAAAAAAAAAAAAAAAAAAAAAAAAAAAAAAAAAAAAAAAAAAAAAAAAAAAAAAAAAAAAAAAAAAAAAAAAAAAAAAAAAAAAAAAAAAAAAAAAAAAAAAAAAAAAAAAAAAAAAAAAAAAAAAAAAAAAAAAAAAAAAAAAAAAAAAAAAAAAAAAAAAAAAAAAAAAAAAAAAAAAAAAAAAAAAAAAAAAAAAAAAAAAAAAAAAAAAAAAAAAAAAAAAAAAAAAAAAAAAAAAAAAAAAAAAAAAAAAAAAAAAAAAAAAAAAAAAAAAAAAAAAAAAAAAAAAAAAAAAAAAAAAAAAAAAAAAAAAAAAAAAAAAAAAAAAAAAAAAAAAAAAAAAAAAAAAAAAAAAAAAAAAAAAAAAAAAAAAAAAAAAAAAAAAAAAAAAAAAAAAAAAAAAAAAAAAAAAAAAAAAAAAAAAAAAAAAAAAAAAAAAAAAAAAAAAAAAAAAAAAAAAAAAAAAAAAAAAAAAAAAAAAAAAAAAAAAAAAAAAAAAAAAAAAAAAAAAAAAAAAAAAAAAAAAAAAAAAAAAAAAAAAAAAAAAAAAAAAAAAAAAAAAAAAAAAAAAAAAAAAAAAAAAAAAAAAAAAAAAAAAAAAAAAAAAAAAAAAAAAAAAAAAAAAAAAAAAAAAAAAAAAAAAAAAAAAAAAAAAAAAAAAAAAAAAAAAAAAAAAAAAAAAAAAAAAAAAAAAAAAAAAAAAAAAAAAAAAAAAAAAAAAAAAAAAAAAAAAAAAAAAAAAAAAAAAAAAAAAAAAAAAAAAAAAAAAAAAAAAAAAAAAAAAAAAAAAAAAAAAAAAAAAAAAAAAAAAAAAAAAAAAAAAAAAAAAAAAAAAAAAAAAAAAAAAAAAAAAAAAAAAAAAAAAAAAAAAAAAAAAAAAAAAAAAAAAAAAAAAAAAAAAAAAAAAAAAAAAAAAAAAAAAAAAAAAAAAAAAAAAAAAAAAAAAAAAAAAAAAAAAAAAAAAAAAAAAAAAAAAAAAAAAAAAAAAAAAAAAAAAAAAAAAAAAAAAAAAAAAAAAAAAAAAAAAAAAAAAAAAAAAAAAAAAAAAAAAAAAAAAAAAAAAAAAAAAAAAAAAAAAAAAAAAAAAAAAAAAAAAAAAAAAAAAAAAAAAAAAAAAAAAAAAAAAAAAAAAAAAAAAAAAAAAAAAAAAAAAAAAAAAAAAAAAAAAAAAAAAAAAAAAAAAAAAAAAAAAAAAAAAAAAAAAAAAAAAAAAAAAAAAAAAAAAAAAAAAAAAAAAAAAAAAAAAAAAAAAAAAAAAAAAAAAAAAAAAAAAAAAAAAAAAAAAAAAAAAAAAAAAAAAAAAAAAAAAAAAAAAAAAAAAAAAAAAAAAAAAAAAAAAAAAAAAAAAAAAAAAAAAAAAAAAAAAAAAAAAAAAAAAAAAAAAAAAAAAAAAAAAAAAAAAAAAAAAAAAAAAAAAAAAAAAAAAAAAAAAAAAAAAAAAAAAAAAAAAAAAAAAAAAAAAAAAAAAAAAAAAAAAAAAAAAAAAAAAAAAAAAAAAAAAAAAAAAAAAAAAAAAAAAAAAAAAAAAAAAAAAAAAAAAAAAAAAAAAAAAAAAAAAAAAAAAAAAAAAAAAAAAAAAAAAAAAAAAAAAAAAAAAAAAAAAAAAAAAAAAAAAAAAAAAAAAAAAAAAAAAAAAAAAAAAAAAAAAAAAAAAAAAAAAAAAAAAAAAAAAAAAAAAAAAAAAAAAAAAAAAAAAAAAAAAAAAAAAAAAAAAAAAAAAAAAAAAAAAAAAAAAAAAAAAAAAAAAAAAAAAAAAAAAAAAAAAAAAAAAAAAAAAAAAAAAAAAAAAAAAAAAAAAAAAAAAAAAAAAAAAAAAAAAAAAAAAAAAAAAAAAAAAAAAAAAAAAAAAAAAAAAAAAAAAAAAAAAAAAAAAAAAAAAAAAAAAAAAAAAAAAAAAAAAAAAAAAAAAAAAAAAAAAAAAAAAAAAAAAAAAAAAAAAAAAAAAAAAAAAAAAAAAAAAAAAAAAAAAAAAAAAAAAAAAAAAAAAAAAAAAAAAAAAAAAAAAAAAAAAAAAAAAAAAAAAAAAAAAAAAAAAAAAAAAAAAAAAAAAAAAAAAAAAAAAAAAAAAAAAAAAAAAAAAAAAAAAAAAAAAAAAAAAAAAAAAAAAAAAAAAAAAAAAAAAAAAAAAAAAAAAAAAAAAAAAAAAAAAAAAAAAAAAAAAAAAAAAAAAAAAAAAAAAAAAAAAAAAAAAAAAAAAAAAAAAAAAAAAAAAAAAAAAAAAAAAAAAAAAAAAAAAAAAAAAAAAAAAAAAAAAAAAAAAAAAAAAAAAAAAAAAAAAAAAAAAAAAAAAAAAAAAAAAAAAAAAAAAAAAAAAAAAAAAAAAAAAAAAAAAAAAAAAAAAAAAAAAAAAAAAAAAAAAAAAAAAAAAAAAAAAAAAAAAAAAAAAAAAAAAAAAAAAAAAAAAAAAAAAAAAAAAAAAAAAAAAAAAAAAAAAAAAAAAAAAAAAAAAAAAAAAAAAAAAAAAAAAAAAAAAAAAAAAAAAAAAAAAAAAAAAAAAAAAAAAAAAAAAAAAAAAAAAAAAAAAAAAAAAAAAAAAAAAAAAAAAAAAAAAAAAAAAAAAAAAAAAAAAAAAAAAAAAAAAAAAAAAAAAAAAAAAAAAAAAAAAAAAAAAAAAAAAAAAAAAAAAAAAAAAAAAAAAAAAAAAAAAAAAAAAAAAAAAAAAAAAAAAAAAAAAAAAAAAAAAAAAAAAAAAAAAAAAAAAAAAAAAAAAAAAAAAAAAAAAAAAAAAAAAAAAAAAAAAAAAAAAAAAAAAAAAAAAAAAAAAAAAAAAAAAAAAAAAAAAAAAAAAAAAAAAAAAAAAAAAAAAAAAAAAAAAAAAAAAAAAAAAAAAAAAAAAAAAAAAAAAAAAAAAAAAAAAAAAAAAAAAAAAAAAAAAAAAAAAAAAAAAAAAAAAAAAAAAAAAAAAAAAAAAAAAAAAAAAAAAAAAAAAAAAAAAAAAAAAAAAAAAAAAAAAAAAAAAAAAAAAAAAAAAAAAAAAAAAAAAAAAAAAAAAAAAAAAAAAAAAAAAAAAAAAAAAAAAAAAAAAAAAAAAAAAAAAAAAAAAAAAAAAAAAAAAAAAAAAAAAAAAAAAAAAAAAAAAAAAAAAAAAAAAAAAAAAAAAAAAAAAAAAAAAAAAAAAAAAAAAAAAAAAAAAAAAAAAAAAAAAAAAAAAAAAAAAAAAAAAAAAAAAAAAAAAAAAAAAAAAAAAAAAAAAAAAAAAAAAAAAAAAAAAAAAAAAAAAAAAAAAAAAAAAAAAAAAAAAAAAAAAAAAAAAAAAAAAAAAAAAA8D8AAAAAAADwPwAAAAAAAPA/AAAAAAAA8D8AAAAAAADwPwAAAAAAAPA/AAAAAAAA8D8AAAAAAADwPwAAAAAAAPA/AAAAAAAA8D8AAAAAAADwPwAAAAAAAPA/AAAAAAAA8D8AAAAAAADwPwAAAAAAAPA/AAAAAAAA8D8AAAAAAADwPwAAAAAAAPA/AAAAAAAA8D8AAAAAAADwPwAAAAAAAPA/AAAAAAAA8D8AAAAAAADwPwAAAAAAAPA/AAAAAAAA8D8AAAAAAADwPwAAAAAAAPA/AAAAAAAA8D8AAAAAAADwPwAAAAAAAPA/AAAAAAAA8D8AAAAAAADwPwAAAAAAAPA/AAAAAAAA8D8AAAAAAADwPwAAAAAAAPA/AAAAAAAA8D8AAAAAAADwPwAAAAAAAPA/AAAAAAAA8D8AAAAAAADwPwAAAAAAAPA/AAAAAAAA8D8AAAAAAADwPwAAAAAAAPA/AAAAAAAA8D8AAAAAAADwPwAAAAAAAPA/AAAAAAAA8D8AAAAAAADwPwAAAAAAAPA/AAAAAAAA8D8AAAAAAADwPwAAAAAAAPA/AAAAAAAA8D8AAAAAAADwPwAAAAAAAPA/AAAAAAAA8D8AAAAAAADwPwAAAAAAAPA/AAAAAAAA8D8=\",\"dtype\":\"float64\",\"shape\":[823]},\"preds\":[0,0,0,0,0,0,0,1,0,0,0,0,0,0,0,0,0,0,1,0,0,0,0,0,0,1,0,0,0,0,0,0,0,0,1,0,0,0,0,0,0,1,0,0,0,1,0,1,0,0,0,0,0,0,0,0,0,0,0,1,0,0,0,0,0,0,0,0,0,0,0,0,0,0,0,0,0,0,0,0,0,0,0,0,0,0,1,0,0,0,0,0,0,1,0,1,0,1,0,1,0,0,0,0,0,0,0,0,0,0,0,0,0,0,0,0,0,0,0,0,0,0,0,1,0,0,1,0,0,0,0,0,0,0,0,0,0,0,0,1,0,0,0,0,0,0,0,0,0,0,0,1,0,0,0,0,0,0,0,0,0,0,0,0,0,0,0,0,1,0,0,0,1,1,0,0,0,0,0,0,0,0,0,0,1,0,0,0,0,0,0,0,0,0,1,0,0,0,0,0,0,0,1,0,0,0,0,0,0,0,0,0,0,0,0,0,0,0,0,1,1,0,0,0,0,0,0,0,0,0,1,1,0,0,0,0,0,0,0,0,0,1,0,0,0,0,0,0,0,0,0,0,0,0,0,0,0,0,0,0,0,0,0,0,0,0,0,0,0,0,0,0,0,0,0,0,0,1,0,0,1,0,0,1,1,1,1,0,0,0,0,1,0,0,0,0,0,0,0,0,0,0,0,1,0,0,0,1,0,0,0,0,0,0,0,0,0,0,1,0,0,0,1,0,0,0,1,0,0,0,0,0,0,0,0,0,0,0,0,0,0,1,0,0,0,0,0,0,0,1,1,0,0,0,0,0,0,0,0,1,0,0,0,0,0,0,0,0,0,0,0,0,0,0,1,0,0,1,0,0,0,0,0,0,0,0,1,0,1,0,0,0,0,0,1,0,0,0,0,0,0,1,0,0,0,0,0,0,0,0,0,0,0,0,0,0,0,0,1,1,1,1,0,0,0,1,1,1,0,0,0,0,0,0,0,0,0,0,0,0,0,0,0,0,0,0,0,0,0,0,0,0,0,0,0,0,0,0,0,0,0,0,0,0,0,1,0,0,0,0,0,0,0,0,0,0,0,0,1,0,0,0,0,0,0,0,0,0,0,0,0,0,1,0,0,0,0,1,0,0,0,0,1,0,0,0,0,0,0,0,0,0,0,0,0,0,1,0,0,0,0,0,0,0,0,0,0,0,0,1,0,0,0,0,0,1,0,1,0,0,0,0,0,1,0,0,0,0,0,0,0,0,0,0,0,0,0,0,0,0,0,1,1,0,0,0,0,0,0,1,0,0,0,0,0,0,0,0,0,0,0,1,0,1,0,0,0,0,0,0,0,1,0,1,0,0,0,0,0,0,0,0,0,0,0,0,1,0,0,0,0,0,1,0,0,1,0,0,0,0,0,0,0,0,0,0,0,0,0,0,0,0,0,0,0,0,1,0,0,0,0,0,0,0,0,0,0,0,0,1,0,0,0,0,0,0,0,0,1,0,0,0,0,0,0,0,0,1,0,0,0,0,0,1,0,0,0,0,0,0,0,0,0,0,1,0,0,0,0,0,0,0,0,0,0,0,0,0,0,0,0,0,0,0,0,0,0,0,0,0,0,1,0,0,0,0,0,0,0,0,0,0,0,0,0,0,0,0,0,0,0,0,1,0,0,0,0,0,0,1,1,0,0,0,0,0,0,0,0,0,0,0,0,0,0,0,0,0,0,0,0,0,0,1,0,1,1,1,1,1,1,1,1,1,1,0,1,1,1,1,1,1,1,0,1,1,1,1,0,0,1,1,0,1,0,1,1,1,0,1,1,1,1,1,1,1,1,1,0,1,1,1,1,1,1,1,1,0,1,1,1,1,1],\"preds_bf\":[0,0,0,0,0,0,0,0,0,0,0,0,0,0,0,0,0,0,0,0,0,0,0,0,0,1,0,0,0,0,0,0,0,0,0,0,0,0,0,0,0,0,0,0,0,0,0,0,0,0,0,0,0,0,0,0,0,0,0,0,0,0,0,0,0,0,0,0,0,0,0,0,0,0,0,0,0,0,0,0,0,0,0,0,0,0,0,0,0,0,0,0,0,0,0,1,0,0,0,1,0,0,0,0,0,0,0,0,0,0,0,0,0,0,0,0,0,0,0,0,0,0,0,0,0,0,1,0,0,0,0,0,0,0,0,0,0,0,0,0,0,0,0,0,0,0,0,0,0,0,0,0,0,0,0,0,0,0,0,0,0,0,0,0,0,0,0,0,0,0,0,0,0,0,0,0,0,0,0,0,0,0,0,0,0,0,0,0,0,0,0,0,0,0,1,0,0,0,0,0,0,0,0,0,0,0,0,0,0,0,0,0,0,0,0,0,0,0,0,0,0,0,0,0,0,0,0,0,0,0,0,1,0,0,0,0,0,0,0,0,0,0,0,0,0,0,0,0,0,0,0,0,0,0,0,0,0,0,0,0,0,0,0,0,0,0,0,0,0,0,0,0,0,0,0,0,0,0,0,0,0,0,0,0,0,0,0,0,0,0,0,0,0,0,0,0,0,0,0,0,0,0,0,0,0,0,0,0,0,0,0,0,0,0,0,0,0,0,0,0,0,0,0,0,0,0,0,0,0,0,0,0,0,0,0,0,0,0,0,0,0,0,0,0,0,0,0,0,0,1,0,0,0,0,0,0,0,0,0,0,0,0,0,0,0,0,0,0,0,0,0,0,0,0,0,0,0,1,0,0,0,0,0,0,0,0,0,0,0,0,0,0,0,0,0,0,0,0,0,0,0,0,0,0,0,0,0,0,0,0,0,0,0,0,0,0,0,0,0,0,0,0,0,0,0,0,0,0,0,0,0,0,0,0,0,0,0,0,0,0,0,0,0,0,0,0,0,0,0,0,0,0,0,0,0,0,0,0,0,0,0,0,0,0,0,0,0,0,0,0,0,0,0,0,0,0,0,0,0,0,0,0,0,0,0,0,0,0,0,0,0,0,0,0,0,0,0,0,0,0,0,0,0,0,0,0,0,0,0,0,0,0,0,0,0,0,1,0,0,0,0,0,0,0,0,0,0,0,0,0,0,0,0,0,0,0,0,0,0,0,0,0,0,0,0,0,0,0,0,0,0,0,0,0,0,0,0,0,0,0,0,0,1,0,0,0,0,0,0,0,0,0,0,0,0,0,0,0,0,0,0,0,0,0,0,0,0,0,0,0,0,0,0,0,0,0,0,0,0,0,0,0,0,0,0,0,0,0,0,0,0,0,0,0,0,0,0,0,0,0,0,0,0,0,0,0,0,0,0,0,0,0,0,0,0,0,0,0,0,0,0,0,0,0,0,0,0,0,0,0,0,0,0,0,0,0,0,0,0,0,0,0,0,0,0,0,0,0,0,0,0,0,0,1,0,0,0,0,0,0,0,0,0,0,0,0,0,0,0,0,0,0,0,0,0,0,0,0,0,0,0,0,0,0,0,0,0,0,0,0,0,0,0,0,0,0,0,0,0,0,0,0,0,0,0,0,0,0,0,0,0,0,0,0,0,0,0,0,0,0,1,0,0,0,0,0,0,0,0,0,0,0,0,0,0,0,0,0,0,0,0,0,0,1,0,0,0,0,0,0,0,1,0,0,1,0,1,0,0,0,1,0,0,0,0,0,0,0,0,0,1,0,0,0,0,0,0,0,0,1,1,0,0,1,1,1,0,0,0,0,1,0,0,1,0,0,0,0,0,0,0,0,0],\"preds_c\":[0,0,0,0,0,0,0,0,0,0,0,0,0,0,0,0,0,0,0,0,0,0,0,0,0,0,0,0,0,0,0,0,0,0,0,0,0,0,0,0,0,0,0,0,0,0,0,0,0,0,0,0,0,0,0,0,0,0,0,0,0,0,0,0,0,0,0,0,0,0,0,0,0,0,0,0,0,0,0,0,0,0,0,0,0,0,0,0,0,0,0,0,0,0,0,0,0,0,0,0,0,0,0,0,0,0,0,0,0,0,0,0,0,0,0,0,0,0,0,0,0,0,0,0,0,0,0,0,0,0,0,0,0,0,0,0,0,0,0,0,0,0,0,0,0,0,0,0,0,0,0,0,0,0,0,0,0,0,0,0,0,0,0,0,0,0,0,0,0,0,0,0,0,0,0,0,0,0,0,0,0,0,0,0,0,0,0,0,0,0,0,0,0,0,0,0,0,0,0,0,0,0,0,0,0,0,0,0,0,0,0,0,0,0,0,0,0,0,0,0,0,0,0,0,0,0,0,0,0,0,0,0,0,0,0,0,0,0,0,0,0,0,0,0,0,0,0,0,0,0,0,0,0,0,0,0,0,0,0,0,0,0,0,0,0,0,0,0,0,0,0,0,0,0,0,0,0,0,0,0,0,0,0,0,0,0,0,0,0,0,0,0,0,0,0,0,0,0,0,0,0,0,0,0,0,0,0,0,0,0,0,0,0,0,0,0,0,0,0,0,0,0,0,0,0,0,0,0,0,0,0,0,0,0,0,0,0,0,0,0,0,0,0,0,0,0,0,0,0,0,0,0,0,0,0,0,0,0,0,0,0,0,0,0,0,0,0,0,0,0,0,0,0,0,0,0,0,0,0,0,0,0,0,0,0,0,0,0,0,0,0,0,0,0,0,0,0,0,0,0,0,0,0,0,0,0,0,0,0,0,0,0,0,0,0,0,0,0,0,0,0,0,0,0,0,0,0,0,0,0,0,0,0,0,0,0,0,0,0,0,0,0,0,0,0,0,0,0,0,0,0,0,0,0,0,0,0,0,0,0,0,0,0,0,0,0,0,0,0,0,0,0,0,0,0,0,0,0,0,0,0,0,0,0,0,0,0,0,0,0,0,0,0,0,0,0,0,0,0,0,0,0,0,0,0,0,0,0,0,0,0,0,0,0,0,0,0,0,0,0,0,0,0,0,0,0,0,0,0,0,0,0,0,0,0,0,0,0,0,0,0,0,0,0,0,0,0,0,0,0,0,0,0,0,0,0,0,0,0,0,0,0,0,0,0,0,0,0,0,0,0,0,0,0,0,0,0,0,0,0,0,0,0,0,0,0,0,0,0,0,0,0,0,0,0,0,0,0,0,0,0,0,0,0,0,0,0,0,0,0,0,0,0,0,0,0,0,0,0,0,0,0,0,0,0,0,0,0,0,0,0,0,0,0,0,0,0,0,0,0,0,0,0,0,0,0,0,0,0,0,0,0,0,0,0,0,0,0,0,0,0,0,0,0,0,0,0,0,0,0,0,0,0,0,0,0,0,0,0,0,0,0,0,0,0,0,0,0,0,0,0,0,0,0,0,0,0,0,0,0,0,0,0,0,0,0,0,0,0,0,0,0,0,0,0,0,0,0,0,0,0,0,0,0,0,0,0,0,0,0,0,0,0,0,0,0,0,0,0,0,0,0,0,0,0,0,0,0,0,0,0,0,0,0,0,0,0,0,0,0,0,0,0,0,0,0,0,0,0,0,0,0,0,0,0,0,0,0,0,0,0,0,0,0,0,1,1,1,1,1,1,1,1,1,1,1,1,1,1,1,1,1,1,1,1,1,1,1,1,1,1,1,1,1,1,1,1,1,1,1,1,1,1],\"x\":{\"__ndarray__\":\"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\",\"dtype\":\"float64\",\"shape\":[823]},\"y\":{\"__ndarray__\":\"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\",\"dtype\":\"float64\",\"shape\":[823]}}},\"id\":\"61f553ca-197f-49ec-93d7-ab07d0e603c4\",\"type\":\"ColumnDataSource\"},{\"attributes\":{\"below\":[{\"id\":\"0fc479f9-f1ab-4952-9004-7acef821372a\",\"type\":\"LinearAxis\"}],\"left\":[{\"id\":\"2ce7e155-1e92-473b-a064-deb64db7447d\",\"type\":\"LinearAxis\"}],\"plot_height\":400,\"plot_width\":400,\"renderers\":[{\"id\":\"0fc479f9-f1ab-4952-9004-7acef821372a\",\"type\":\"LinearAxis\"},{\"id\":\"ff3aff72-8223-4317-af66-cd072442abb1\",\"type\":\"Grid\"},{\"id\":\"2ce7e155-1e92-473b-a064-deb64db7447d\",\"type\":\"LinearAxis\"},{\"id\":\"a5970b28-c147-4c9a-adcb-026d27a4e39e\",\"type\":\"Grid\"},{\"id\":\"17ad38cc-6289-48a0-842c-60ca81e94d14\",\"type\":\"BoxAnnotation\"},{\"id\":\"6f6a3024-7882-4423-a612-07f28889ea25\",\"type\":\"GlyphRenderer\"}],\"title\":{\"id\":\"67916636-eb4c-48b8-a09a-8753556bae64\",\"type\":\"Title\"},\"toolbar\":{\"id\":\"4883b7af-66ea-42de-b7d8-f8387ff4f17f\",\"type\":\"Toolbar\"},\"x_range\":{\"id\":\"890f0d2a-813c-4bb8-a5ab-2eb0657df5c7\",\"type\":\"DataRange1d\"},\"x_scale\":{\"id\":\"40fbc73d-a0bf-4fc5-ad33-022d29d85b32\",\"type\":\"LinearScale\"},\"y_range\":{\"id\":\"4ec76fdf-137c-4964-ac94-e7761dd68646\",\"type\":\"DataRange1d\"},\"y_scale\":{\"id\":\"6909e25c-1ff9-45df-a634-8ab9339e2ea8\",\"type\":\"LinearScale\"}},\"id\":\"4db4dd46-22b5-4fdb-8a8e-e6e1891cbf1a\",\"subtype\":\"Figure\",\"type\":\"Plot\"}],\"root_ids\":[\"063e6ca2-6dbc-4777-a9d4-c9a421866932\"]},\"title\":\"Bokeh Application\",\"version\":\"0.12.13\"}};\n",
       "  var render_items = [{\"docid\":\"92f91748-a05f-4f39-8eed-7ec173e2ac44\",\"elementid\":\"3acac160-8316-4f1d-9046-4dc0b195d145\",\"modelid\":\"063e6ca2-6dbc-4777-a9d4-c9a421866932\"}];\n",
       "  root.Bokeh.embed.embed_items_notebook(docs_json, render_items);\n",
       "\n",
       "  }\n",
       "  if (root.Bokeh !== undefined) {\n",
       "    embed_document(root);\n",
       "  } else {\n",
       "    var attempts = 0;\n",
       "    var timer = setInterval(function(root) {\n",
       "      if (root.Bokeh !== undefined) {\n",
       "        embed_document(root);\n",
       "        clearInterval(timer);\n",
       "      }\n",
       "      attempts++;\n",
       "      if (attempts > 100) {\n",
       "        console.log(\"Bokeh: ERROR: Unable to run BokehJS code because BokehJS library is missing\")\n",
       "        clearInterval(timer);\n",
       "      }\n",
       "    }, 10, root)\n",
       "  }\n",
       "})(window);"
      ],
      "application/vnd.bokehjs_exec.v0+json": ""
     },
     "metadata": {
      "application/vnd.bokehjs_exec.v0+json": {
       "id": "063e6ca2-6dbc-4777-a9d4-c9a421866932"
      }
     },
     "output_type": "display_data"
    }
   ],
   "source": [
    "from bokeh.models import LinearInterpolator\n",
    "source3=ColumnDataSource(data=dict(idxs=list(range(ldim.shape[0])),x=ldim[:,0],y=ldim[:,1],\\\n",
    "                                   preds=preds[0],preds_c=preds_cumsum[0],preds_bf=preds_bf[0],labels=labels))\n",
    "color_mapper=LinearColorMapper(low=0,high=2,\\\n",
    "                              palette=[\"red\",\"green\"])\n",
    "size_mapper=LinearInterpolator(x=[min(source3.data['idxs']),max(source3.data['idxs'])],\\\n",
    "y=[5,20])\n",
    "\n",
    "plot=figure(plot_width=400,plot_height=400,title='full feature preds')\n",
    "plot.circle('x','y',source=source3,fill_color={'field':'preds','transform': color_mapper},\\\n",
    "            size={'field':'idxs', 'transform': size_mapper},fill_alpha=0.2)\n",
    "\n",
    "plot2=figure(plot_width=400,plot_height=400,title='Cumsum preds')\n",
    "plot2.circle('x','y',source=source3,fill_color={'field':'preds_c','transform': color_mapper},\\\n",
    "             size={'field':'idxs', 'transform': size_mapper},fill_alpha=0.2)\n",
    "\n",
    "plot3=figure(plot_width=400,plot_height=400,title='bf preds')\n",
    "plot3.circle('x','y',source=source3,fill_color={'field':'preds_bf','transform': color_mapper},\\\n",
    "             size={'field':'idxs', 'transform': size_mapper},fill_alpha=0.2)\n",
    "\n",
    "plot4=figure(plot_width=400,plot_height=400,title='actual')\n",
    "plot4.circle('x','y',source=source3,fill_color={'field':'labels','transform': color_mapper},\\\n",
    "             size={'field':'idxs', 'transform': size_mapper},fill_alpha=0.2)\n",
    "\n",
    "show(column(row(plot,plot2),row(plot3,plot4)))\n",
    "#show(plot)"
   ]
  },
  {
   "cell_type": "code",
   "execution_count": 114,
   "metadata": {
    "scrolled": true
   },
   "outputs": [
    {
     "data": {
      "text/html": [
       "\n",
       "<div class=\"bk-root\">\n",
       "    <div class=\"bk-plotdiv\" id=\"921aa629-4bb2-422f-9379-15c0a8b34081\"></div>\n",
       "</div>"
      ]
     },
     "metadata": {},
     "output_type": "display_data"
    },
    {
     "data": {
      "application/javascript": [
       "(function(root) {\n",
       "  function embed_document(root) {\n",
       "    \n",
       "  var docs_json = {\"2ae8f4e9-1729-4f19-95d4-93a808854ad7\":{\"roots\":{\"references\":[{\"attributes\":{},\"id\":\"9239ed7e-0348-4216-9330-15d62412452c\",\"type\":\"WheelZoomTool\"},{\"attributes\":{\"bottom_units\":\"screen\",\"fill_alpha\":{\"value\":0.5},\"fill_color\":{\"value\":\"lightgrey\"},\"left_units\":\"screen\",\"level\":\"overlay\",\"line_alpha\":{\"value\":1.0},\"line_color\":{\"value\":\"black\"},\"line_dash\":[4,4],\"line_width\":{\"value\":2},\"plot\":null,\"render_mode\":\"css\",\"right_units\":\"screen\",\"top_units\":\"screen\"},\"id\":\"45718937-e058-4281-b633-69a220fde8e4\",\"type\":\"BoxAnnotation\"},{\"attributes\":{\"overlay\":{\"id\":\"45718937-e058-4281-b633-69a220fde8e4\",\"type\":\"BoxAnnotation\"}},\"id\":\"a21c7c83-947b-4545-99ec-7f319e6391a7\",\"type\":\"BoxZoomTool\"},{\"attributes\":{},\"id\":\"8f456f36-cca1-453c-b637-fba008ac95ce\",\"type\":\"SaveTool\"},{\"attributes\":{},\"id\":\"3a1c2661-da25-4d18-9488-d0c2cfa62ffa\",\"type\":\"ResetTool\"},{\"attributes\":{},\"id\":\"b107fdc9-66fe-4093-8d53-5c7c6162d14f\",\"type\":\"HelpTool\"},{\"attributes\":{\"children\":[{\"id\":\"4649d5cc-5b84-4fcd-a4a2-6870c9f81f81\",\"subtype\":\"Figure\",\"type\":\"Plot\"},{\"id\":\"1be0b5df-d7f9-411b-8fd8-dc8f770d9103\",\"subtype\":\"Figure\",\"type\":\"Plot\"}]},\"id\":\"30b181cb-3350-4def-9b79-f46b1c1457d5\",\"type\":\"Row\"},{\"attributes\":{\"data_source\":{\"id\":\"568482ec-a3d4-419c-b3f7-075527adce2a\",\"type\":\"ColumnDataSource\"},\"glyph\":{\"id\":\"2808d2d0-cdc3-403a-bc90-9fec75d05fdf\",\"type\":\"Circle\"},\"hover_glyph\":null,\"muted_glyph\":null,\"nonselection_glyph\":{\"id\":\"645b79e1-39b9-4693-a77f-d8a393efd39d\",\"type\":\"Circle\"},\"selection_glyph\":null,\"view\":{\"id\":\"56593620-1d0a-4396-a74b-ff8f5b0dac1f\",\"type\":\"CDSView\"}},\"id\":\"534732ca-a79c-43df-a097-42d9933ed083\",\"type\":\"GlyphRenderer\"},{\"attributes\":{},\"id\":\"0f5b02f5-fb2d-417e-ac62-251902ba0594\",\"type\":\"LinearScale\"},{\"attributes\":{\"fill_alpha\":{\"value\":0.1},\"fill_color\":{\"value\":\"#1f77b4\"},\"line_alpha\":{\"value\":0.1},\"line_color\":{\"value\":\"#1f77b4\"},\"size\":{\"field\":\"idxs\",\"transform\":{\"id\":\"b950d2dd-a6c6-4137-a9a9-1ca615cbadfe\",\"type\":\"LinearInterpolator\"},\"units\":\"screen\"},\"x\":{\"field\":\"x\"},\"y\":{\"field\":\"y\"}},\"id\":\"645b79e1-39b9-4693-a77f-d8a393efd39d\",\"type\":\"Circle\"},{\"attributes\":{\"callback\":null},\"id\":\"b9e4708d-02da-496c-a100-8b1fca684b12\",\"type\":\"DataRange1d\"},{\"attributes\":{\"callback\":null},\"id\":\"3e7feac8-9243-48e5-99a4-4f08579d7f5c\",\"type\":\"DataRange1d\"},{\"attributes\":{\"active_drag\":\"auto\",\"active_inspect\":\"auto\",\"active_scroll\":\"auto\",\"active_tap\":\"auto\",\"tools\":[{\"id\":\"7ddcf51c-4245-4a7c-b319-0f40a6933a1f\",\"type\":\"PanTool\"},{\"id\":\"0b153041-887a-4301-a0f4-528a44dff7fd\",\"type\":\"WheelZoomTool\"},{\"id\":\"f18126b0-ba96-4cfb-8a24-5c78373356f0\",\"type\":\"BoxZoomTool\"},{\"id\":\"d020fcc2-bedb-4e30-ab1f-7a08fcdd8c78\",\"type\":\"SaveTool\"},{\"id\":\"c516ffe8-0cc9-4927-95d5-2ddbc437d795\",\"type\":\"ResetTool\"},{\"id\":\"42ffc269-a98f-48fb-ad8d-29c8881b3660\",\"type\":\"HelpTool\"}]},\"id\":\"7abcc571-0075-4bad-8e01-d84f8d96a94e\",\"type\":\"Toolbar\"},{\"attributes\":{\"plot\":null,\"text\":\"actual\"},\"id\":\"44ce9b9d-9312-453c-b518-64caaad85494\",\"type\":\"Title\"},{\"attributes\":{},\"id\":\"e986df6a-12e2-416d-86a1-50853f1e221c\",\"type\":\"LinearScale\"},{\"attributes\":{\"plot\":{\"id\":\"1be0b5df-d7f9-411b-8fd8-dc8f770d9103\",\"subtype\":\"Figure\",\"type\":\"Plot\"},\"ticker\":{\"id\":\"4bb6c660-c1d6-43b0-bc81-4178947577b9\",\"type\":\"BasicTicker\"}},\"id\":\"4ffb164e-5b33-494d-8cb7-aff18d956758\",\"type\":\"Grid\"},{\"attributes\":{\"formatter\":{\"id\":\"935537b7-1189-43f0-a823-603f3464cbd0\",\"type\":\"BasicTickFormatter\"},\"plot\":{\"id\":\"1be0b5df-d7f9-411b-8fd8-dc8f770d9103\",\"subtype\":\"Figure\",\"type\":\"Plot\"},\"ticker\":{\"id\":\"4bb6c660-c1d6-43b0-bc81-4178947577b9\",\"type\":\"BasicTicker\"}},\"id\":\"586c291a-07d6-4c31-a41f-6e7059069fa3\",\"type\":\"LinearAxis\"},{\"attributes\":{},\"id\":\"4bb6c660-c1d6-43b0-bc81-4178947577b9\",\"type\":\"BasicTicker\"},{\"attributes\":{\"formatter\":{\"id\":\"a0dd931e-3bf1-42b5-af96-10f680cb0fcd\",\"type\":\"BasicTickFormatter\"},\"plot\":{\"id\":\"1be0b5df-d7f9-411b-8fd8-dc8f770d9103\",\"subtype\":\"Figure\",\"type\":\"Plot\"},\"ticker\":{\"id\":\"54f2353c-088a-4382-87a7-611d3d2d6ae6\",\"type\":\"BasicTicker\"}},\"id\":\"8c2d0a92-d8a5-4984-9225-b1cba32261dd\",\"type\":\"LinearAxis\"},{\"attributes\":{},\"id\":\"54f2353c-088a-4382-87a7-611d3d2d6ae6\",\"type\":\"BasicTicker\"},{\"attributes\":{\"dimension\":1,\"plot\":{\"id\":\"1be0b5df-d7f9-411b-8fd8-dc8f770d9103\",\"subtype\":\"Figure\",\"type\":\"Plot\"},\"ticker\":{\"id\":\"54f2353c-088a-4382-87a7-611d3d2d6ae6\",\"type\":\"BasicTicker\"}},\"id\":\"c35a93cb-5cf3-4bc6-98d2-621a5330c9a6\",\"type\":\"Grid\"},{\"attributes\":{},\"id\":\"a0dd931e-3bf1-42b5-af96-10f680cb0fcd\",\"type\":\"BasicTickFormatter\"},{\"attributes\":{\"fill_alpha\":{\"value\":0.2},\"fill_color\":{\"field\":\"labels\",\"transform\":{\"id\":\"cb936faa-b638-41c3-bf7e-b35f214afbcb\",\"type\":\"LinearColorMapper\"}},\"line_color\":{\"value\":\"#1f77b4\"},\"size\":{\"field\":\"idxs\",\"transform\":{\"id\":\"b950d2dd-a6c6-4137-a9a9-1ca615cbadfe\",\"type\":\"LinearInterpolator\"},\"units\":\"screen\"},\"x\":{\"field\":\"x\"},\"y\":{\"field\":\"y\"}},\"id\":\"2808d2d0-cdc3-403a-bc90-9fec75d05fdf\",\"type\":\"Circle\"},{\"attributes\":{\"children\":[{\"id\":\"72b6e220-9355-476f-91d1-c1d86fb13f12\",\"subtype\":\"Figure\",\"type\":\"Plot\"},{\"id\":\"21b1bc15-4dc3-4b8b-afd3-4b9108a33074\",\"subtype\":\"Figure\",\"type\":\"Plot\"}]},\"id\":\"07523071-5987-4a04-a2b7-be57c5d2ba33\",\"type\":\"Row\"},{\"attributes\":{\"bottom_units\":\"screen\",\"fill_alpha\":{\"value\":0.5},\"fill_color\":{\"value\":\"lightgrey\"},\"left_units\":\"screen\",\"level\":\"overlay\",\"line_alpha\":{\"value\":1.0},\"line_color\":{\"value\":\"black\"},\"line_dash\":[4,4],\"line_width\":{\"value\":2},\"plot\":null,\"render_mode\":\"css\",\"right_units\":\"screen\",\"top_units\":\"screen\"},\"id\":\"5c62c250-b8b9-47d9-b673-58cafc5380c7\",\"type\":\"BoxAnnotation\"},{\"attributes\":{},\"id\":\"7ddcf51c-4245-4a7c-b319-0f40a6933a1f\",\"type\":\"PanTool\"},{\"attributes\":{},\"id\":\"0b153041-887a-4301-a0f4-528a44dff7fd\",\"type\":\"WheelZoomTool\"},{\"attributes\":{\"overlay\":{\"id\":\"5c62c250-b8b9-47d9-b673-58cafc5380c7\",\"type\":\"BoxAnnotation\"}},\"id\":\"f18126b0-ba96-4cfb-8a24-5c78373356f0\",\"type\":\"BoxZoomTool\"},{\"attributes\":{},\"id\":\"d020fcc2-bedb-4e30-ab1f-7a08fcdd8c78\",\"type\":\"SaveTool\"},{\"attributes\":{},\"id\":\"c516ffe8-0cc9-4927-95d5-2ddbc437d795\",\"type\":\"ResetTool\"},{\"attributes\":{},\"id\":\"42ffc269-a98f-48fb-ad8d-29c8881b3660\",\"type\":\"HelpTool\"},{\"attributes\":{\"source\":{\"id\":\"568482ec-a3d4-419c-b3f7-075527adce2a\",\"type\":\"ColumnDataSource\"}},\"id\":\"56593620-1d0a-4396-a74b-ff8f5b0dac1f\",\"type\":\"CDSView\"},{\"attributes\":{\"children\":[{\"id\":\"07523071-5987-4a04-a2b7-be57c5d2ba33\",\"type\":\"Row\"},{\"id\":\"30b181cb-3350-4def-9b79-f46b1c1457d5\",\"type\":\"Row\"}]},\"id\":\"598e5419-fe5f-4a51-bd64-ded5b0bed704\",\"type\":\"Column\"},{\"attributes\":{\"data_source\":{\"id\":\"568482ec-a3d4-419c-b3f7-075527adce2a\",\"type\":\"ColumnDataSource\"},\"glyph\":{\"id\":\"1bccaefe-095f-4a11-9391-dafca47069b3\",\"type\":\"Circle\"},\"hover_glyph\":null,\"muted_glyph\":null,\"nonselection_glyph\":{\"id\":\"2a92d028-edd2-4a43-9122-97520f18ebce\",\"type\":\"Circle\"},\"selection_glyph\":null,\"view\":{\"id\":\"7172ad85-ee0b-48a9-8923-8d47d2dab124\",\"type\":\"CDSView\"}},\"id\":\"8b7dc32e-1298-4053-b49b-43aebf2d63ab\",\"type\":\"GlyphRenderer\"},{\"attributes\":{},\"id\":\"6d8cef6a-b241-462a-893d-7952e661db49\",\"type\":\"BasicTickFormatter\"},{\"attributes\":{\"plot\":null,\"text\":\"full feature preds\"},\"id\":\"e10f2223-edbc-4939-bdc2-7da8438e0746\",\"type\":\"Title\"},{\"attributes\":{\"callback\":null},\"id\":\"1eafdf6b-cf54-4cb4-b1db-f3059201dfac\",\"type\":\"DataRange1d\"},{\"attributes\":{\"active_drag\":\"auto\",\"active_inspect\":\"auto\",\"active_scroll\":\"auto\",\"active_tap\":\"auto\",\"tools\":[{\"id\":\"75e205c0-5a0a-4761-bc93-a28818345ec6\",\"type\":\"PanTool\"},{\"id\":\"1dc4430a-e674-4182-8d49-3f713e9fab9a\",\"type\":\"WheelZoomTool\"},{\"id\":\"3a8ffeb2-5b8c-4513-837b-7a6703deb6f1\",\"type\":\"BoxZoomTool\"},{\"id\":\"d3e5a6af-e210-47c7-a521-afa0a1e88cc8\",\"type\":\"SaveTool\"},{\"id\":\"b0a2a909-24d0-4570-91e8-fbeebc65ffbe\",\"type\":\"ResetTool\"},{\"id\":\"925fe27c-3c62-4f2a-933f-90bd85af3a08\",\"type\":\"HelpTool\"}]},\"id\":\"63ee9ed0-fbd9-48c2-ab05-f97524e6df78\",\"type\":\"Toolbar\"},{\"attributes\":{\"fill_alpha\":{\"value\":0.1},\"fill_color\":{\"value\":\"#1f77b4\"},\"line_alpha\":{\"value\":0.1},\"line_color\":{\"value\":\"#1f77b4\"},\"size\":{\"field\":\"idxs\",\"transform\":{\"id\":\"b950d2dd-a6c6-4137-a9a9-1ca615cbadfe\",\"type\":\"LinearInterpolator\"},\"units\":\"screen\"},\"x\":{\"field\":\"x\"},\"y\":{\"field\":\"y\"}},\"id\":\"2a92d028-edd2-4a43-9122-97520f18ebce\",\"type\":\"Circle\"},{\"attributes\":{},\"id\":\"1cdb5a21-71db-4935-92dd-10fd8a68ce45\",\"type\":\"LinearScale\"},{\"attributes\":{\"callback\":null},\"id\":\"7a8e3982-d3d1-4298-abf2-5fdc79f240e0\",\"type\":\"DataRange1d\"},{\"attributes\":{},\"id\":\"f02413e4-03a9-4605-b9b3-f9096e741f25\",\"type\":\"LinearScale\"},{\"attributes\":{\"plot\":{\"id\":\"72b6e220-9355-476f-91d1-c1d86fb13f12\",\"subtype\":\"Figure\",\"type\":\"Plot\"},\"ticker\":{\"id\":\"f0247f3c-e468-4691-ad52-fbf8b06f2b2d\",\"type\":\"BasicTicker\"}},\"id\":\"22748d58-36c6-4d85-b33c-91ae73c1f44a\",\"type\":\"Grid\"},{\"attributes\":{\"formatter\":{\"id\":\"68155344-dff4-4a34-bb58-f2fa249ac9c9\",\"type\":\"BasicTickFormatter\"},\"plot\":{\"id\":\"72b6e220-9355-476f-91d1-c1d86fb13f12\",\"subtype\":\"Figure\",\"type\":\"Plot\"},\"ticker\":{\"id\":\"f0247f3c-e468-4691-ad52-fbf8b06f2b2d\",\"type\":\"BasicTicker\"}},\"id\":\"4e1397c7-c241-497c-a290-cc15096dc264\",\"type\":\"LinearAxis\"},{\"attributes\":{},\"id\":\"f0247f3c-e468-4691-ad52-fbf8b06f2b2d\",\"type\":\"BasicTicker\"},{\"attributes\":{\"formatter\":{\"id\":\"6d8cef6a-b241-462a-893d-7952e661db49\",\"type\":\"BasicTickFormatter\"},\"plot\":{\"id\":\"72b6e220-9355-476f-91d1-c1d86fb13f12\",\"subtype\":\"Figure\",\"type\":\"Plot\"},\"ticker\":{\"id\":\"34870457-f63b-477b-9055-7e9e92444994\",\"type\":\"BasicTicker\"}},\"id\":\"b6279ee7-af06-44e7-ad5e-f2ac8e6ffef6\",\"type\":\"LinearAxis\"},{\"attributes\":{},\"id\":\"34870457-f63b-477b-9055-7e9e92444994\",\"type\":\"BasicTicker\"},{\"attributes\":{\"dimension\":1,\"plot\":{\"id\":\"72b6e220-9355-476f-91d1-c1d86fb13f12\",\"subtype\":\"Figure\",\"type\":\"Plot\"},\"ticker\":{\"id\":\"34870457-f63b-477b-9055-7e9e92444994\",\"type\":\"BasicTicker\"}},\"id\":\"4997f38c-4d31-40ac-bcb1-575ad2b9f7b3\",\"type\":\"Grid\"},{\"attributes\":{},\"id\":\"68155344-dff4-4a34-bb58-f2fa249ac9c9\",\"type\":\"BasicTickFormatter\"},{\"attributes\":{\"fill_alpha\":{\"value\":0.2},\"fill_color\":{\"field\":\"preds\",\"transform\":{\"id\":\"cb936faa-b638-41c3-bf7e-b35f214afbcb\",\"type\":\"LinearColorMapper\"}},\"line_color\":{\"value\":\"#1f77b4\"},\"size\":{\"field\":\"idxs\",\"transform\":{\"id\":\"b950d2dd-a6c6-4137-a9a9-1ca615cbadfe\",\"type\":\"LinearInterpolator\"},\"units\":\"screen\"},\"x\":{\"field\":\"x\"},\"y\":{\"field\":\"y\"}},\"id\":\"1bccaefe-095f-4a11-9391-dafca47069b3\",\"type\":\"Circle\"},{\"attributes\":{\"below\":[{\"id\":\"be4df1fd-2749-4548-9747-d9909b39f0b2\",\"type\":\"LinearAxis\"}],\"left\":[{\"id\":\"b486aa6b-e0ba-45ac-9378-a3db7a120708\",\"type\":\"LinearAxis\"}],\"plot_height\":400,\"plot_width\":400,\"renderers\":[{\"id\":\"be4df1fd-2749-4548-9747-d9909b39f0b2\",\"type\":\"LinearAxis\"},{\"id\":\"5c0f9016-268e-43e9-b8b5-4f74384e0a97\",\"type\":\"Grid\"},{\"id\":\"b486aa6b-e0ba-45ac-9378-a3db7a120708\",\"type\":\"LinearAxis\"},{\"id\":\"10f7dfa6-96cc-476c-909a-2ad7e17e226b\",\"type\":\"Grid\"},{\"id\":\"09c46f67-316b-4ab8-a011-be0ccb2bc99c\",\"type\":\"BoxAnnotation\"},{\"id\":\"b495f5d5-63c2-4295-91c4-0fdc9721035a\",\"type\":\"GlyphRenderer\"}],\"title\":{\"id\":\"10de49e7-6f45-4256-9de4-1e5ad23cd6f8\",\"type\":\"Title\"},\"toolbar\":{\"id\":\"bc9e61de-51d9-4cd7-b9c7-6aff9de09d48\",\"type\":\"Toolbar\"},\"x_range\":{\"id\":\"866ed751-bfd1-4c64-b013-678d66028256\",\"type\":\"DataRange1d\"},\"x_scale\":{\"id\":\"f3e9de3c-3ad8-4b4a-b19c-41384e39a6c3\",\"type\":\"LinearScale\"},\"y_range\":{\"id\":\"32968bf7-8f22-4949-992b-45ce6edb6931\",\"type\":\"DataRange1d\"},\"y_scale\":{\"id\":\"57b78942-e010-488c-92f3-70cc92db523d\",\"type\":\"LinearScale\"}},\"id\":\"21b1bc15-4dc3-4b8b-afd3-4b9108a33074\",\"subtype\":\"Figure\",\"type\":\"Plot\"},{\"attributes\":{\"bottom_units\":\"screen\",\"fill_alpha\":{\"value\":0.5},\"fill_color\":{\"value\":\"lightgrey\"},\"left_units\":\"screen\",\"level\":\"overlay\",\"line_alpha\":{\"value\":1.0},\"line_color\":{\"value\":\"black\"},\"line_dash\":[4,4],\"line_width\":{\"value\":2},\"plot\":null,\"render_mode\":\"css\",\"right_units\":\"screen\",\"top_units\":\"screen\"},\"id\":\"01413861-7155-4786-a11d-1167a503b486\",\"type\":\"BoxAnnotation\"},{\"attributes\":{},\"id\":\"75e205c0-5a0a-4761-bc93-a28818345ec6\",\"type\":\"PanTool\"},{\"attributes\":{},\"id\":\"8ced3294-3005-4944-b5ea-74a00eaab4d2\",\"type\":\"BasicTickFormatter\"},{\"attributes\":{},\"id\":\"1dc4430a-e674-4182-8d49-3f713e9fab9a\",\"type\":\"WheelZoomTool\"},{\"attributes\":{\"overlay\":{\"id\":\"01413861-7155-4786-a11d-1167a503b486\",\"type\":\"BoxAnnotation\"}},\"id\":\"3a8ffeb2-5b8c-4513-837b-7a6703deb6f1\",\"type\":\"BoxZoomTool\"},{\"attributes\":{},\"id\":\"d3e5a6af-e210-47c7-a521-afa0a1e88cc8\",\"type\":\"SaveTool\"},{\"attributes\":{\"below\":[{\"id\":\"4e1397c7-c241-497c-a290-cc15096dc264\",\"type\":\"LinearAxis\"}],\"left\":[{\"id\":\"b6279ee7-af06-44e7-ad5e-f2ac8e6ffef6\",\"type\":\"LinearAxis\"}],\"plot_height\":400,\"plot_width\":400,\"renderers\":[{\"id\":\"4e1397c7-c241-497c-a290-cc15096dc264\",\"type\":\"LinearAxis\"},{\"id\":\"22748d58-36c6-4d85-b33c-91ae73c1f44a\",\"type\":\"Grid\"},{\"id\":\"b6279ee7-af06-44e7-ad5e-f2ac8e6ffef6\",\"type\":\"LinearAxis\"},{\"id\":\"4997f38c-4d31-40ac-bcb1-575ad2b9f7b3\",\"type\":\"Grid\"},{\"id\":\"01413861-7155-4786-a11d-1167a503b486\",\"type\":\"BoxAnnotation\"},{\"id\":\"8b7dc32e-1298-4053-b49b-43aebf2d63ab\",\"type\":\"GlyphRenderer\"}],\"title\":{\"id\":\"e10f2223-edbc-4939-bdc2-7da8438e0746\",\"type\":\"Title\"},\"toolbar\":{\"id\":\"63ee9ed0-fbd9-48c2-ab05-f97524e6df78\",\"type\":\"Toolbar\"},\"x_range\":{\"id\":\"1eafdf6b-cf54-4cb4-b1db-f3059201dfac\",\"type\":\"DataRange1d\"},\"x_scale\":{\"id\":\"1cdb5a21-71db-4935-92dd-10fd8a68ce45\",\"type\":\"LinearScale\"},\"y_range\":{\"id\":\"7a8e3982-d3d1-4298-abf2-5fdc79f240e0\",\"type\":\"DataRange1d\"},\"y_scale\":{\"id\":\"f02413e4-03a9-4605-b9b3-f9096e741f25\",\"type\":\"LinearScale\"}},\"id\":\"72b6e220-9355-476f-91d1-c1d86fb13f12\",\"subtype\":\"Figure\",\"type\":\"Plot\"},{\"attributes\":{},\"id\":\"b0a2a909-24d0-4570-91e8-fbeebc65ffbe\",\"type\":\"ResetTool\"},{\"attributes\":{},\"id\":\"925fe27c-3c62-4f2a-933f-90bd85af3a08\",\"type\":\"HelpTool\"},{\"attributes\":{},\"id\":\"f3e9de3c-3ad8-4b4a-b19c-41384e39a6c3\",\"type\":\"LinearScale\"},{\"attributes\":{\"source\":{\"id\":\"568482ec-a3d4-419c-b3f7-075527adce2a\",\"type\":\"ColumnDataSource\"}},\"id\":\"7172ad85-ee0b-48a9-8923-8d47d2dab124\",\"type\":\"CDSView\"},{\"attributes\":{\"data_source\":{\"id\":\"568482ec-a3d4-419c-b3f7-075527adce2a\",\"type\":\"ColumnDataSource\"},\"glyph\":{\"id\":\"6fa6402a-4238-4e59-9101-f70e2de2ea88\",\"type\":\"Circle\"},\"hover_glyph\":null,\"muted_glyph\":null,\"nonselection_glyph\":{\"id\":\"f3d4ef30-9c6a-434f-a555-ba91b893579b\",\"type\":\"Circle\"},\"selection_glyph\":null,\"view\":{\"id\":\"6280dddd-9c09-4e54-8479-cb1e24de3743\",\"type\":\"CDSView\"}},\"id\":\"b495f5d5-63c2-4295-91c4-0fdc9721035a\",\"type\":\"GlyphRenderer\"},{\"attributes\":{},\"id\":\"1b352379-ed8d-41d0-9754-0e77d4dff54d\",\"type\":\"BasicTickFormatter\"},{\"attributes\":{\"fill_alpha\":{\"value\":0.1},\"fill_color\":{\"value\":\"#1f77b4\"},\"line_alpha\":{\"value\":0.1},\"line_color\":{\"value\":\"#1f77b4\"},\"size\":{\"field\":\"idxs\",\"transform\":{\"id\":\"b950d2dd-a6c6-4137-a9a9-1ca615cbadfe\",\"type\":\"LinearInterpolator\"},\"units\":\"screen\"},\"x\":{\"field\":\"x\"},\"y\":{\"field\":\"y\"}},\"id\":\"f3d4ef30-9c6a-434f-a555-ba91b893579b\",\"type\":\"Circle\"},{\"attributes\":{\"callback\":null},\"id\":\"866ed751-bfd1-4c64-b013-678d66028256\",\"type\":\"DataRange1d\"},{\"attributes\":{\"callback\":null},\"id\":\"32968bf7-8f22-4949-992b-45ce6edb6931\",\"type\":\"DataRange1d\"},{\"attributes\":{\"active_drag\":\"auto\",\"active_inspect\":\"auto\",\"active_scroll\":\"auto\",\"active_tap\":\"auto\",\"tools\":[{\"id\":\"6cb8ee47-da4e-4cf3-98e9-00826fac8b07\",\"type\":\"PanTool\"},{\"id\":\"e57db463-dd6c-4d44-876b-07718cc3d464\",\"type\":\"WheelZoomTool\"},{\"id\":\"7ac0b8bf-27cc-467b-994d-cf9702a32c01\",\"type\":\"BoxZoomTool\"},{\"id\":\"99ffc97e-cc41-43f6-b4a8-3848aa3585c4\",\"type\":\"SaveTool\"},{\"id\":\"0309f178-d559-4fe6-b0fd-a08033bb60cd\",\"type\":\"ResetTool\"},{\"id\":\"ffe995d0-ab2e-40a8-a1fc-09c3ec7518b7\",\"type\":\"HelpTool\"}]},\"id\":\"bc9e61de-51d9-4cd7-b9c7-6aff9de09d48\",\"type\":\"Toolbar\"},{\"attributes\":{\"plot\":null,\"text\":\"Cumsum preds\"},\"id\":\"10de49e7-6f45-4256-9de4-1e5ad23cd6f8\",\"type\":\"Title\"},{\"attributes\":{},\"id\":\"57b78942-e010-488c-92f3-70cc92db523d\",\"type\":\"LinearScale\"},{\"attributes\":{\"data\":null,\"x\":[0,822],\"y\":[5,20]},\"id\":\"b950d2dd-a6c6-4137-a9a9-1ca615cbadfe\",\"type\":\"LinearInterpolator\"},{\"attributes\":{\"plot\":{\"id\":\"21b1bc15-4dc3-4b8b-afd3-4b9108a33074\",\"subtype\":\"Figure\",\"type\":\"Plot\"},\"ticker\":{\"id\":\"9a9752eb-4a98-400a-a997-35a3e5044646\",\"type\":\"BasicTicker\"}},\"id\":\"5c0f9016-268e-43e9-b8b5-4f74384e0a97\",\"type\":\"Grid\"},{\"attributes\":{\"formatter\":{\"id\":\"110ac724-2dad-48dd-8863-5df99a7975b1\",\"type\":\"BasicTickFormatter\"},\"plot\":{\"id\":\"21b1bc15-4dc3-4b8b-afd3-4b9108a33074\",\"subtype\":\"Figure\",\"type\":\"Plot\"},\"ticker\":{\"id\":\"9a9752eb-4a98-400a-a997-35a3e5044646\",\"type\":\"BasicTicker\"}},\"id\":\"be4df1fd-2749-4548-9747-d9909b39f0b2\",\"type\":\"LinearAxis\"},{\"attributes\":{},\"id\":\"9a9752eb-4a98-400a-a997-35a3e5044646\",\"type\":\"BasicTicker\"},{\"attributes\":{\"formatter\":{\"id\":\"1b352379-ed8d-41d0-9754-0e77d4dff54d\",\"type\":\"BasicTickFormatter\"},\"plot\":{\"id\":\"21b1bc15-4dc3-4b8b-afd3-4b9108a33074\",\"subtype\":\"Figure\",\"type\":\"Plot\"},\"ticker\":{\"id\":\"ae55e2cd-7c70-4cba-bb10-1fbb1c3c84d6\",\"type\":\"BasicTicker\"}},\"id\":\"b486aa6b-e0ba-45ac-9378-a3db7a120708\",\"type\":\"LinearAxis\"},{\"attributes\":{},\"id\":\"ae55e2cd-7c70-4cba-bb10-1fbb1c3c84d6\",\"type\":\"BasicTicker\"},{\"attributes\":{\"dimension\":1,\"plot\":{\"id\":\"21b1bc15-4dc3-4b8b-afd3-4b9108a33074\",\"subtype\":\"Figure\",\"type\":\"Plot\"},\"ticker\":{\"id\":\"ae55e2cd-7c70-4cba-bb10-1fbb1c3c84d6\",\"type\":\"BasicTicker\"}},\"id\":\"10f7dfa6-96cc-476c-909a-2ad7e17e226b\",\"type\":\"Grid\"},{\"attributes\":{},\"id\":\"110ac724-2dad-48dd-8863-5df99a7975b1\",\"type\":\"BasicTickFormatter\"},{\"attributes\":{\"fill_alpha\":{\"value\":0.2},\"fill_color\":{\"field\":\"preds_c\",\"transform\":{\"id\":\"cb936faa-b638-41c3-bf7e-b35f214afbcb\",\"type\":\"LinearColorMapper\"}},\"line_color\":{\"value\":\"#1f77b4\"},\"size\":{\"field\":\"idxs\",\"transform\":{\"id\":\"b950d2dd-a6c6-4137-a9a9-1ca615cbadfe\",\"type\":\"LinearInterpolator\"},\"units\":\"screen\"},\"x\":{\"field\":\"x\"},\"y\":{\"field\":\"y\"}},\"id\":\"6fa6402a-4238-4e59-9101-f70e2de2ea88\",\"type\":\"Circle\"},{\"attributes\":{\"below\":[{\"id\":\"150a9bf9-6a90-4da7-83c5-ef2d3068cda1\",\"type\":\"LinearAxis\"}],\"left\":[{\"id\":\"28525ebf-33fe-41c1-a04f-c4508433c1b8\",\"type\":\"LinearAxis\"}],\"plot_height\":400,\"plot_width\":400,\"renderers\":[{\"id\":\"150a9bf9-6a90-4da7-83c5-ef2d3068cda1\",\"type\":\"LinearAxis\"},{\"id\":\"0590eb01-3ac2-4d4e-a930-2f87ff54a73f\",\"type\":\"Grid\"},{\"id\":\"28525ebf-33fe-41c1-a04f-c4508433c1b8\",\"type\":\"LinearAxis\"},{\"id\":\"91c26fe0-45a1-412f-9c12-214414494ecc\",\"type\":\"Grid\"},{\"id\":\"45718937-e058-4281-b633-69a220fde8e4\",\"type\":\"BoxAnnotation\"},{\"id\":\"c0048731-37e0-43d8-87f8-9347784d673d\",\"type\":\"GlyphRenderer\"}],\"title\":{\"id\":\"2335f7d1-48a0-4479-9107-a096ad29fa13\",\"type\":\"Title\"},\"toolbar\":{\"id\":\"3177a309-eea0-4929-8268-b64f33f1d747\",\"type\":\"Toolbar\"},\"x_range\":{\"id\":\"016f1d18-565d-4d37-9491-2049879d0fa9\",\"type\":\"DataRange1d\"},\"x_scale\":{\"id\":\"5418e11f-d284-4326-aaed-45cc4d6e2852\",\"type\":\"LinearScale\"},\"y_range\":{\"id\":\"5e99cbb7-8e8f-4568-b93a-f0b3f30b5db3\",\"type\":\"DataRange1d\"},\"y_scale\":{\"id\":\"cbd13a4a-d8e3-4a03-bd6f-243ef06ad8ee\",\"type\":\"LinearScale\"}},\"id\":\"4649d5cc-5b84-4fcd-a4a2-6870c9f81f81\",\"subtype\":\"Figure\",\"type\":\"Plot\"},{\"attributes\":{\"bottom_units\":\"screen\",\"fill_alpha\":{\"value\":0.5},\"fill_color\":{\"value\":\"lightgrey\"},\"left_units\":\"screen\",\"level\":\"overlay\",\"line_alpha\":{\"value\":1.0},\"line_color\":{\"value\":\"black\"},\"line_dash\":[4,4],\"line_width\":{\"value\":2},\"plot\":null,\"render_mode\":\"css\",\"right_units\":\"screen\",\"top_units\":\"screen\"},\"id\":\"09c46f67-316b-4ab8-a011-be0ccb2bc99c\",\"type\":\"BoxAnnotation\"},{\"attributes\":{\"high\":2,\"low\":0,\"palette\":[\"red\",\"green\"]},\"id\":\"cb936faa-b638-41c3-bf7e-b35f214afbcb\",\"type\":\"LinearColorMapper\"},{\"attributes\":{},\"id\":\"6cb8ee47-da4e-4cf3-98e9-00826fac8b07\",\"type\":\"PanTool\"},{\"attributes\":{\"plot\":null,\"text\":\"bf preds\"},\"id\":\"2335f7d1-48a0-4479-9107-a096ad29fa13\",\"type\":\"Title\"},{\"attributes\":{},\"id\":\"e57db463-dd6c-4d44-876b-07718cc3d464\",\"type\":\"WheelZoomTool\"},{\"attributes\":{\"callback\":null,\"column_names\":[\"idxs\",\"x\",\"y\",\"preds\",\"preds_c\",\"preds_bf\",\"labels\"],\"data\":{\"idxs\":[0,1,2,3,4,5,6,7,8,9,10,11,12,13,14,15,16,17,18,19,20,21,22,23,24,25,26,27,28,29,30,31,32,33,34,35,36,37,38,39,40,41,42,43,44,45,46,47,48,49,50,51,52,53,54,55,56,57,58,59,60,61,62,63,64,65,66,67,68,69,70,71,72,73,74,75,76,77,78,79,80,81,82,83,84,85,86,87,88,89,90,91,92,93,94,95,96,97,98,99,100,101,102,103,104,105,106,107,108,109,110,111,112,113,114,115,116,117,118,119,120,121,122,123,124,125,126,127,128,129,130,131,132,133,134,135,136,137,138,139,140,141,142,143,144,145,146,147,148,149,150,151,152,153,154,155,156,157,158,159,160,161,162,163,164,165,166,167,168,169,170,171,172,173,174,175,176,177,178,179,180,181,182,183,184,185,186,187,188,189,190,191,192,193,194,195,196,197,198,199,200,201,202,203,204,205,206,207,208,209,210,211,212,213,214,215,216,217,218,219,220,221,222,223,224,225,226,227,228,229,230,231,232,233,234,235,236,237,238,239,240,241,242,243,244,245,246,247,248,249,250,251,252,253,254,255,256,257,258,259,260,261,262,263,264,265,266,267,268,269,270,271,272,273,274,275,276,277,278,279,280,281,282,283,284,285,286,287,288,289,290,291,292,293,294,295,296,297,298,299,300,301,302,303,304,305,306,307,308,309,310,311,312,313,314,315,316,317,318,319,320,321,322,323,324,325,326,327,328,329,330,331,332,333,334,335,336,337,338,339,340,341,342,343,344,345,346,347,348,349,350,351,352,353,354,355,356,357,358,359,360,361,362,363,364,365,366,367,368,369,370,371,372,373,374,375,376,377,378,379,380,381,382,383,384,385,386,387,388,389,390,391,392,393,394,395,396,397,398,399,400,401,402,403,404,405,406,407,408,409,410,411,412,413,414,415,416,417,418,419,420,421,422,423,424,425,426,427,428,429,430,431,432,433,434,435,436,437,438,439,440,441,442,443,444,445,446,447,448,449,450,451,452,453,454,455,456,457,458,459,460,461,462,463,464,465,466,467,468,469,470,471,472,473,474,475,476,477,478,479,480,481,482,483,484,485,486,487,488,489,490,491,492,493,494,495,496,497,498,499,500,501,502,503,504,505,506,507,508,509,510,511,512,513,514,515,516,517,518,519,520,521,522,523,524,525,526,527,528,529,530,531,532,533,534,535,536,537,538,539,540,541,542,543,544,545,546,547,548,549,550,551,552,553,554,555,556,557,558,559,560,561,562,563,564,565,566,567,568,569,570,571,572,573,574,575,576,577,578,579,580,581,582,583,584,585,586,587,588,589,590,591,592,593,594,595,596,597,598,599,600,601,602,603,604,605,606,607,608,609,610,611,612,613,614,615,616,617,618,619,620,621,622,623,624,625,626,627,628,629,630,631,632,633,634,635,636,637,638,639,640,641,642,643,644,645,646,647,648,649,650,651,652,653,654,655,656,657,658,659,660,661,662,663,664,665,666,667,668,669,670,671,672,673,674,675,676,677,678,679,680,681,682,683,684,685,686,687,688,689,690,691,692,693,694,695,696,697,698,699,700,701,702,703,704,705,706,707,708,709,710,711,712,713,714,715,716,717,718,719,720,721,722,723,724,725,726,727,728,729,730,731,732,733,734,735,736,737,738,739,740,741,742,743,744,745,746,747,748,749,750,751,752,753,754,755,756,757,758,759,760,761,762,763,764,765,766,767,768,769,770,771,772,773,774,775,776,777,778,779,780,781,782,783,784,785,786,787,788,789,790,791,792,793,794,795,796,797,798,799,800,801,802,803,804,805,806,807,808,809,810,811,812,813,814,815,816,817,818,819,820,821,822],\"labels\":{\"__ndarray__\":\"AAAAAAAAAAAAAAAAAAAAAAAAAAAAAAAAAAAAAAAAAAAAAAAAAAAAAAAAAAAAAAAAAAAAAAAAAAAAAAAAAAAAAAAAAAAAAAAAAAAAAAAAAAAAAAAAAAAAAAAAAAAAAAAAAAAAAAAAAAAAAAAAAAAAAAAAAAAAAAAAAAAAAAAAAAAAAAAAAAAAAAAAAAAAAAAAAAAAAAAAAAAAAAAAAAAAAAAAAAAAAAAAAAAAAAAAAAAAAAAAAAAAAAAAAAAAAAAAAAAAAAAAAAAAAAAAAAAAAAAAAAAAAAAAAAAAAAAAAAAAAAAAAAAAAAAAAAAAAAAAAAAAAAAAAAAAAAAAAAAAAAAAAAAAAAAAAAAAAAAAAAAAAAAAAAAAAAAAAAAAAAAAAAAAAAAAAAAAAAAAAAAAAAAAAAAAAAAAAAAAAAAAAAAAAAAAAAAAAAAAAAAAAAAAAAAAAAAAAAAAAAAAAAAAAAAAAAAAAAAAAAAAAAAAAAAAAAAAAAAAAAAAAAAAAAAAAAAAAAAAAAAAAAAAAAAAAAAAAAAAAAAAAAAAAAAAAAAAAAAAAAAAAAAAAAAAAAAAAAAAAAAAAAAAAAAAAAAAAAAAAAAAAAAAAAAAAAAAAAAAAAAAAAAAAAAAAAAAAAAAAAAAAAAAAAAAAAAAAAAAAAAAAAAAAAAAAAAAAAAAAAAAAAAAAAAAAAAAAAAAAAAAAAAAAAAAAAAAAAAAAAAAAAAAAAAAAAAAAAAAAAAAAAAAAAAAAAAAAAAAAAAAAAAAAAAAAAAAAAAAAAAAAAAAAAAAAAAAAAAAAAAAAAAAAAAAAAAAAAAAAAAAAAAAAAAAAAAAAAAAAAAAAAAAAAAAAAAAAAAAAAAAAAAAAAAAAAAAAAAAAAAAAAAAAAAAAAAAAAAAAAAAAAAAAAAAAAAAAAAAAAAAAAAAAAAAAAAAAAAAAAAAAAAAAAAAAAAAAAAAAAAAAAAAAAAAAAAAAAAAAAAAAAAAAAAAAAAAAAAAAAAAAAAAAAAAAAAAAAAAAAAAAAAAAAAAAAAAAAAAAAAAAAAAAAAAAAAAAAAAAAAAAAAAAAAAAAAAAAAAAAAAAAAAAAAAAAAAAAAAAAAAAAAAAAAAAAAAAAAAAAAAAAAAAAAAAAAAAAAAAAAAAAAAAAAAAAAAAAAAAAAAAAAAAAAAAAAAAAAAAAAAAAAAAAAAAAAAAAAAAAAAAAAAAAAAAAAAAAAAAAAAAAAAAAAAAAAAAAAAAAAAAAAAAAAAAAAAAAAAAAAAAAAAAAAAAAAAAAAAAAAAAAAAAAAAAAAAAAAAAAAAAAAAAAAAAAAAAAAAAAAAAAAAAAAAAAAAAAAAAAAAAAAAAAAAAAAAAAAAAAAAAAAAAAAAAAAAAAAAAAAAAAAAAAAAAAAAAAAAAAAAAAAAAAAAAAAAAAAAAAAAAAAAAAAAAAAAAAAAAAAAAAAAAAAAAAAAAAAAAAAAAAAAAAAAAAAAAAAAAAAAAAAAAAAAAAAAAAAAAAAAAAAAAAAAAAAAAAAAAAAAAAAAAAAAAAAAAAAAAAAAAAAAAAAAAAAAAAAAAAAAAAAAAAAAAAAAAAAAAAAAAAAAAAAAAAAAAAAAAAAAAAAAAAAAAAAAAAAAAAAAAAAAAAAAAAAAAAAAAAAAAAAAAAAAAAAAAAAAAAAAAAAAAAAAAAAAAAAAAAAAAAAAAAAAAAAAAAAAAAAAAAAAAAAAAAAAAAAAAAAAAAAAAAAAAAAAAAAAAAAAAAAAAAAAAAAAAAAAAAAAAAAAAAAAAAAAAAAAAAAAAAAAAAAAAAAAAAAAAAAAAAAAAAAAAAAAAAAAAAAAAAAAAAAAAAAAAAAAAAAAAAAAAAAAAAAAAAAAAAAAAAAAAAAAAAAAAAAAAAAAAAAAAAAAAAAAAAAAAAAAAAAAAAAAAAAAAAAAAAAAAAAAAAAAAAAAAAAAAAAAAAAAAAAAAAAAAAAAAAAAAAAAAAAAAAAAAAAAAAAAAAAAAAAAAAAAAAAAAAAAAAAAAAAAAAAAAAAAAAAAAAAAAAAAAAAAAAAAAAAAAAAAAAAAAAAAAAAAAAAAAAAAAAAAAAAAAAAAAAAAAAAAAAAAAAAAAAAAAAAAAAAAAAAAAAAAAAAAAAAAAAAAAAAAAAAAAAAAAAAAAAAAAAAAAAAAAAAAAAAAAAAAAAAAAAAAAAAAAAAAAAAAAAAAAAAAAAAAAAAAAAAAAAAAAAAAAAAAAAAAAAAAAAAAAAAAAAAAAAAAAAAAAAAAAAAAAAAAAAAAAAAAAAAAAAAAAAAAAAAAAAAAAAAAAAAAAAAAAAAAAAAAAAAAAAAAAAAAAAAAAAAAAAAAAAAAAAAAAAAAAAAAAAAAAAAAAAAAAAAAAAAAAAAAAAAAAAAAAAAAAAAAAAAAAAAAAAAAAAAAAAAAAAAAAAAAAAAAAAAAAAAAAAAAAAAAAAAAAAAAAAAAAAAAAAAAAAAAAAAAAAAAAAAAAAAAAAAAAAAAAAAAAAAAAAAAAAAAAAAAAAAAAAAAAAAAAAAAAAAAAAAAAAAAAAAAAAAAAAAAAAAAAAAAAAAAAAAAAAAAAAAAAAAAAAAAAAAAAAAAAAAAAAAAAAAAAAAAAAAAAAAAAAAAAAAAAAAAAAAAAAAAAAAAAAAAAAAAAAAAAAAAAAAAAAAAAAAAAAAAAAAAAAAAAAAAAAAAAAAAAAAAAAAAAAAAAAAAAAAAAAAAAAAAAAAAAAAAAAAAAAAAAAAAAAAAAAAAAAAAAAAAAAAAAAAAAAAAAAAAAAAAAAAAAAAAAAAAAAAAAAAAAAAAAAAAAAAAAAAAAAAAAAAAAAAAAAAAAAAAAAAAAAAAAAAAAAAAAAAAAAAAAAAAAAAAAAAAAAAAAAAAAAAAAAAAAAAAAAAAAAAAAAAAAAAAAAAAAAAAAAAAAAAAAAAAAAAAAAAAAAAAAAAAAAAAAAAAAAAAAAAAAAAAAAAAAAAAAAAAAAAAAAAAAAAAAAAAAAAAAAAAAAAAAAAAAAAAAAAAAAAAAAAAAAAAAAAAAAAAAAAAAAAAAAAAAAAAAAAAAAAAAAAAAAAAAAAAAAAAAAAAAAAAAAAAAAAAAAAAAAAAAAAAAAAAAAAAAAAAAAAAAAAAAAAAAAAAAAAAAAAAAAAAAAAAAAAAAAAAAAAAAAAAAAAAAAAAAAAAAAAAAAAAAAAAAAAAAAAAAAAAAAAAAAAAAAAAAAAAAAAAAAAAAAAAAAAAAAAAAAAAAAAAAAAAAAAAAAAAAAAAAAAAAAAAAAAAAAAAAAAAAAAAAAAAAAAAAAAAAAAAAAAAAAAAAAAAAAAAAAAAAAAAAAAAAAAAAAAAAAAAAAAAAAAAAAAAAAAAAAAAAAAAAAAAAAAAAAAAAAAAAAAAAAAAAAAAAAAAAAAAAAAAAAAAAAAAAAAAAAAAAAAAAAAAAAAAAAAAAAAAAAAAAAAAAAAAAAAAAAAAAAAAAAAAAAAAAAAAAAAAAAAAAAAAAAAAAAAAAAAAAAAAAAAAAAAAAAAAAAAAAAAAAAAAAAAAAAAAAAAAAAAAAAAAAAAAAAAAAAAAAAAAAAAAAAAAAAAAAAAAAAAAAAAAAAAAAAAAAAAAAAAAAAAAAAAAAAAAAAAAAAAAAAAAAAAAAAAAAAAAAAAAAAAAAAAAAAAAAAAAAAAAAAAAAAAAAAAAAAAAAAAAAAAAAAAAAAAAAAAAAAAAAAAAAAAAAAAAAAAAAAAAAAAAAAAAAAAAAAAAAAAAAAAAAAAAAAAAAAAAAAAAAAAAAAAAAAAAAAAAAAAAAAAAAAAAAAAAAAAAAAAAAAAAAAAAAAAAAAAAAAAAAAAAAAAAAAAAAAAAAAAAAAAAAAAAAAAAAAAAAAAAAAAAAAAAAAAAAAAAAAAAAAAAAAAAAAAAAAAAAAAAAAAAAAAAAAAAAAAAAAAAAAAAAAAAAAAAAAAAAAAAAAAAAAAAAAAAAAAAAAAAAAAAAAAAAAAAAAAAAAAAAAAAAAAAAAAAAAAAAAAAAAAAAAAAAAAAAAAAAAAAAAAAAAAAAAAAAAAAAAAAAAAAAAAAAAAAAAAAAAAAAAAAAAAAAAAAAAAAAAAAAAAAAAAAAAAAAAAAAAAAAAAAAAAAAAAAAAAAAAAAAAAAAAAAAAAAAAAAAAAAAAAAAAAAAAAAAAAAAAAAAAAAAAAAAAAAAAAAAAAAAAAAAAAAAAAAAAAAAAAAAAAAAAAAAAAAAAAAAAAAAAAAAAAAAAAAAAAAAAAAAAAAAAAAAAAAAAAAAAAAAAAAAAAAAAAAAAAAAAAAAAAAAAAAAAAAAAAAAAAAAAAAAAAAAAAAAAAAAAAAAAAAAAAAAAAAAAAAAAAAAAAAAAAAAAAAAAAAAAAAAAAAAAAAAAAAAAAAAAAAAAAAAAAAAAAAAAAAAAAAAAAAAAAAAAAAAAAAAAAAAAAAAAAAAAAAAAAAAAAAAAAAAAAAAAAAAAAAAAAAAAAAAAAAAAAAAAAAAAAAAAAAAAAAAAAAAAAAAAAAAAAAAAAAAAAAAAAAAAAAAAAAAAAAAAAAAAAAAAAAAAAAAAAAAAAAAAAAAAAAAAAAAAAAAAAAAAAAAAAAAAAAAAAAAAAAAAAAAAAAAAAAAAAAAAAAAAAAAAAAAAAAAAAAAAAAAAAAAAAAAAAAAAAAAAAAAAAAAAAAAAAAAAAAAAAAAAAAAAAAAAAAAAAAAAAAAAAAAAAAAAAAAAAAAAAAAAAAAAAAAAAAAAAAAAAAAAAAAAAAAAAAAAAAAAAAAAAAAAAAAAAAAAAAAAAAAAAAAAAAAAAAAAAAAAAAAAAAAAAAAAAAAAAAAAAAAAAAAAAAAAAAAAAAAAAAAAAAAAAAAAAAAAAAAAAAAAAAAAAAAAAAAAAAAAAAAAAAAAAAAAAAAAAAAAAAAAAAAAAAAAAAAAAAAAAAAAAAAAAAAAAAAAAAAAAAAAAAAAAAAAAAAAAAAAAAAAAAAAAAAAAAAAAAAAAAAAAAAAAAAAAAAAAAAAAAAAAAAAAAAAAAAAAAAAAAAAAAAAAAAAAAAAAAAAAAAAAAAAAAAAAAAAAAAAAAAAAAAAAAAAAAAAAAAAAAAAAAAAAAAAAAAAAAAAAAAAAAAAAAAAAAAAAAAAAAAAAAAAAAAAAAAAAAAAAAAAAAAAAAAAAAAAAAAAAAAAAAAAAAAAAAAAAAAAAAAAAAAAAAAAAAAAAAAAAAAAAAAAAAAAAAAAAAAAAAAAAAAAAAAAAAAAAAAAAAAAAAAAAAAAAAAAAAAAAAAAAAAAAAAAAAAAAAAAAAAAAAAAAAAAAAAAAAAAAAAAAAAAAAAAAAAAAAAAAAAAAAAAAAAAAAAAAAAAAAAAAAAAAAAAAAAAAAAAAAAAAAAAAAAAAAAAAAAAAAAAAAAAAAAAAAAAAAAAAAAAAAAAAAAAAAAAAAAAAAAAAAAAAAAAAAAAAAAAAAAAAAAAAAAAAAAAAAAAAAAAAAAAAAAAAAAAAAAAAAAAAAAAAAAAAAAAAAAAAAAAAAAAAAAAAAAAAAAAAAAAAAAAAAAAAAAAAAAAAAAAAAAAAAAAAAAAAAAAAAAAAAAAAAAAAAAAAAAAAAAAAAAAAAAAAAAAAAAAAAAAAAAAAAAAAAAAAAAAAAAAAAAAAAAAAAAAAAAAAAAAAAAAAAAAAAAAAAAAAAAAAAAAAAAAAAAAAAAAAAAAAAAAAAAAAAAAAAAAAAAAAAAAAAAAAAAAAAAAAAAAAAAAAAAAAAAAAAAAAAAAAAAAAAAAAAAAAAAAAAAAAAAAAAAAAAAAAAAAAAAAAAAAAAAAAAAAAAAAAAAAAAAAAAAAAAAAAAAAAAAAAAAAAAAAAAAAAAAAAAAAAAAAAAAAAAAAAAAAAAAAAAAAAAAAAAAAAAAAAAAAAAAAAAAAAAAAAAAAAAAAAAAAAAAAAAAAAAAAAAAAAAAAAAAAAAAAAAAAAAAAAAAAAAAAAAAAAAAAAAAAAAAAAAAAAAAAAAAAAAAAAAAAAAAAAAAAAAAAAAAAAAAAAAAAAAAAAAAAAAAAAAAAAAAAAAAAAAAAAAAAAAAAAAAAAAAAAAAAAAAAAAAAAAAAAAAAAAAAAAAAAAAAAAAAAAAAAAAAAAAAAAAAAAAAAAAAAAAAAAAAAAAAAAAAAAAAAAAAAAAAAAAAAAAAAAAAAAAAAAAAAAAAAAAAAAAAAAAAAAAAAAAAAAAAAAAAAAAAAAAAAAAAAAAAAAAAAAAAAAAAAAAAAAAAAAAAAAAAAAAAAAAAAAAAAAAAAAAAAAAAAAAAAAAAAAAAAAAAAAAAAAAAAAAAAAAAAAAAAAAAAAAAAAAAAAAAAAAAAAAAAAAAAAAAAAAAAAAAAAAAAAAAAAAAAAAAAAAAAAAAAAAAAAAAAAAAAAAAAAAAAAAAAAAAAAAAAAAAAAAAAAAAAAAAAAAAAAAAAAAAAAAAAAAAAAAAAAAAAAAAAAAAAAAAAAAAAAAAAAAAAAAAAAAAAAAAAAAAAAAAAAAAAAAAAAAAAAAAAAAAAAAAAAAAAAAAAAAAAAAAAAAAAAAAAAAAAAAAAAAAAAAAAAAAAAAAAAAAAAAAAAAAAAAAAAAAAAAAAAAAAAAAAAAAAAAAAAAAAAAAAAAAAAAAAAAAAAAAAAAAAAAAAAAAAAAAAAAAAAAAAAAAAAAAAAAAAAAAAAAAAAAAAAAAAAAAAAAAAAAAAAAAAAAAAAAAAAAAAAAAAAAAAAAAAAAAAAAAAAAAAAAAAAAAAAAAAAAAAAAAAAAAAAAAAAAAAAAAAAAAAAAAAAAAAAAAAAAAAAAAAAAAAAAAAAAAAAAAAAAAAAAAAAAAAAAAAAAAAAAAAAAAAAAAAAAAAAAAAAAAAAAAAAAAAAAAAAAAAAAAAAAAAAAAAAAAAAAAAAAAAAAAAAAAAAAAAAAAAAAAAAAAAAAAAAAAAAAAAAAAAAAAAAAAAAAAAAAAAAAAAAAAAAAAAAAAAAAAAAAAAAAAAAAAAAAAAAAAAAAAAAAAAAAAAAAAAAAAAAAAAAAAAAAAAAAAAAAAAAAAAAAAAAAAAAAAAAAAAAAAAAAAAAAAAAAAAAAAAAAAAAAAAAAAAAAAAAAAAAAAAAAAAAAAAAAAAAAAAAAAAAAAAAAAAAAAAAAAAAAAAAAAAAAAAAAAAAAAAAAAAAAAAAAAAAAAAAAAAAAAAAAAAAAAAAAAAAAAAAAAAAAAAAAAAAAAAAAAAAAAAAAAAAAAAAAAAAAAAAAAAAAAAAAAAAAAAAAAAAAAAAAAAAAAAAAAAAAAAAAAAAAAAAAAAAAAAAAAAAAAAAAAAAAAAAAAAAAAAAAAAAAAAAAAAAAAAAAAAAAAAAAAAAAAAAAAAAAAAAAAAAAAAAAAAAAAAAAAAAAAAAAAAAAAAAAAAAAAAAAAAAAAAAAAAAAAAAAAAAAAAAAAAAAAAAAAAAAAAAAAAAAAAAAAAAAAAAAAAAAAAAAAAAAAAAAAAAAAAAAAAAAAAAAAAAAAAAAAAAAAAAAAAAAAAAAAAAAAAAAAAAAAAAAAAAAAAAAAAAAAAAAAAAAAAAAAAAAAAAAAAAAAAAAAAAAAAAAAAAAAAAAAAAAAAAAAAAAAAAAAAAAAAAAAAAAAAAAAAAAAAAAAAAAAAAAAAAAAAAAAAAAAAAAAAAAAAAAAAAAAAAAAAAAAAAAAAAAAAAAAAAAAAAAAAAAAAAAAAAAAAAAAAAAAAAAAAAAAAAAAAAAAAAAAAAAAAAAAAAAAAAAAAAAAAAAAAAAAAAAAAAAAAAAAAAAAAAAAAAAAAAAAAAAAAAAAAAAAAAAAAAAAAAAAAAAAAAAAAAAAAAAAAAAAAAAAAAAAAAAAAAAAAAAAAAAAAAAAAAAAAAAAAAAAAAAAAAAAAAAAAAAAAAAAAAAAAAAAAAAAAAAAAAAAAAAAAAAAAAAAAAAAAAAAAAAAAAAAAAAAAAAAAAAAAAAAAAAAAAAAAAAAAAAAAAAAAAAAAAAAAAAAAAAAAAAAAAAAAAAAAAAAAAAAAAAAAAAAAAAAAAAAAAAAAAAAAAAAAAAAAAAAAAAAAAAAAAAAAAAAAAAAAAAAAAAAAAAAAAAAAAAAAAAAAAAAAAAAAAAAAAAAAAAAAAAAAAAAAAAAAAAAAAAAAAAAAAAAAAAAAAAAAAAAAAAAAAAAAAAAAAAAAAAAAA8D8AAAAAAADwPwAAAAAAAPA/AAAAAAAA8D8AAAAAAADwPwAAAAAAAPA/AAAAAAAA8D8AAAAAAADwPwAAAAAAAPA/AAAAAAAA8D8AAAAAAADwPwAAAAAAAPA/AAAAAAAA8D8AAAAAAADwPwAAAAAAAPA/AAAAAAAA8D8AAAAAAADwPwAAAAAAAPA/AAAAAAAA8D8AAAAAAADwPwAAAAAAAPA/AAAAAAAA8D8AAAAAAADwPwAAAAAAAPA/AAAAAAAA8D8AAAAAAADwPwAAAAAAAPA/AAAAAAAA8D8AAAAAAADwPwAAAAAAAPA/AAAAAAAA8D8AAAAAAADwPwAAAAAAAPA/AAAAAAAA8D8AAAAAAADwPwAAAAAAAPA/AAAAAAAA8D8AAAAAAADwPwAAAAAAAPA/AAAAAAAA8D8AAAAAAADwPwAAAAAAAPA/AAAAAAAA8D8AAAAAAADwPwAAAAAAAPA/AAAAAAAA8D8AAAAAAADwPwAAAAAAAPA/AAAAAAAA8D8AAAAAAADwPwAAAAAAAPA/AAAAAAAA8D8AAAAAAADwPwAAAAAAAPA/AAAAAAAA8D8AAAAAAADwPwAAAAAAAPA/AAAAAAAA8D8AAAAAAADwPwAAAAAAAPA/AAAAAAAA8D8=\",\"dtype\":\"float64\",\"shape\":[823]},\"preds\":[0,0,0,0,0,0,0,1,0,0,0,0,0,0,0,0,0,0,1,0,0,0,0,0,0,1,0,0,0,0,0,0,0,0,1,0,0,0,0,0,0,1,0,0,0,1,0,1,0,0,0,0,0,0,0,0,0,0,0,1,0,0,0,0,0,0,0,0,0,0,0,0,0,0,0,0,0,0,0,0,0,0,0,0,0,0,1,0,0,0,0,0,0,1,0,1,0,1,0,1,0,0,0,0,0,0,0,0,0,0,0,0,0,0,0,0,0,0,0,0,0,0,0,1,0,0,1,0,0,0,0,0,0,0,0,0,0,0,0,1,0,0,0,0,0,0,0,0,0,0,0,1,0,0,0,0,0,0,0,0,0,0,0,0,0,0,0,0,1,0,0,0,1,1,0,0,0,0,0,0,0,0,0,0,1,0,0,0,0,0,0,0,0,0,1,0,0,0,0,0,0,0,1,0,0,0,0,0,0,0,0,0,0,0,0,0,0,0,0,1,1,0,0,0,0,0,0,0,0,0,1,1,0,0,0,0,0,0,0,0,0,1,0,0,0,0,0,0,0,0,0,0,0,0,0,0,0,0,0,0,0,0,0,0,0,0,0,0,0,0,0,0,0,0,0,0,0,1,0,0,1,0,0,1,1,1,1,0,0,0,0,1,0,0,0,0,0,0,0,0,0,0,0,1,0,0,0,1,0,0,0,0,0,0,0,0,0,0,1,0,0,0,1,0,0,0,1,0,0,0,0,0,0,0,0,0,0,0,0,0,0,1,0,0,0,0,0,0,0,1,1,0,0,0,0,0,0,0,0,1,0,0,0,0,0,0,0,0,0,0,0,0,0,0,1,0,0,1,0,0,0,0,0,0,0,0,1,0,1,0,0,0,0,0,1,0,0,0,0,0,0,1,0,0,0,0,0,0,0,0,0,0,0,0,0,0,0,0,1,1,1,1,0,0,0,1,1,1,0,0,0,0,0,0,0,0,0,0,0,0,0,0,0,0,0,0,0,0,0,0,0,0,0,0,0,0,0,0,0,0,0,0,0,0,0,1,0,0,0,0,0,0,0,0,0,0,0,0,1,0,0,0,0,0,0,0,0,0,0,0,0,0,1,0,0,0,0,1,0,0,0,0,1,0,0,0,0,0,0,0,0,0,0,0,0,0,1,0,0,0,0,0,0,0,0,0,0,0,0,1,0,0,0,0,0,1,0,1,0,0,0,0,0,1,0,0,0,0,0,0,0,0,0,0,0,0,0,0,0,0,0,1,1,0,0,0,0,0,0,1,0,0,0,0,0,0,0,0,0,0,0,1,0,1,0,0,0,0,0,0,0,1,0,1,0,0,0,0,0,0,0,0,0,0,0,0,1,0,0,0,0,0,1,0,0,1,0,0,0,0,0,0,0,0,0,0,0,0,0,0,0,0,0,0,0,0,1,0,0,0,0,0,0,0,0,0,0,0,0,1,0,0,0,0,0,0,0,0,1,0,0,0,0,0,0,0,0,1,0,0,0,0,0,1,0,0,0,0,0,0,0,0,0,0,1,0,0,0,0,0,0,0,0,0,0,0,0,0,0,0,0,0,0,0,0,0,0,0,0,0,0,1,0,0,0,0,0,0,0,0,0,0,0,0,0,0,0,0,0,0,0,0,1,0,0,0,0,0,0,1,1,0,0,0,0,0,0,0,0,0,0,0,0,0,0,0,0,0,0,0,0,0,0,1,0,1,1,1,1,1,1,1,1,1,1,0,1,1,1,1,1,1,1,0,1,1,1,1,0,0,1,1,0,1,0,1,1,1,0,1,1,1,1,1,1,1,1,1,0,1,1,1,1,1,1,1,1,0,1,1,1,1,1],\"preds_bf\":[0,0,0,0,0,0,0,0,0,0,0,0,0,0,0,0,0,0,0,0,0,0,0,0,0,1,0,0,0,0,0,0,0,0,0,0,0,0,0,0,0,0,0,0,0,0,0,0,0,0,0,0,0,0,0,0,0,0,0,0,0,0,0,0,0,0,0,0,0,0,0,0,0,0,0,0,0,0,0,0,0,0,0,0,0,0,0,0,0,0,0,0,0,0,0,1,0,0,0,1,0,0,0,0,0,0,0,0,0,0,0,0,0,0,0,0,0,0,0,0,0,0,0,0,0,0,1,0,0,0,0,0,0,0,0,0,0,0,0,0,0,0,0,0,0,0,0,0,0,0,0,0,0,0,0,0,0,0,0,0,0,0,0,0,0,0,0,0,0,0,0,0,0,0,0,0,0,0,0,0,0,0,0,0,0,0,0,0,0,0,0,0,0,0,1,0,0,0,0,0,0,0,0,0,0,0,0,0,0,0,0,0,0,0,0,0,0,0,0,0,0,0,0,0,0,0,0,0,0,0,0,1,0,0,0,0,0,0,0,0,0,0,0,0,0,0,0,0,0,0,0,0,0,0,0,0,0,0,0,0,0,0,0,0,0,0,0,0,0,0,0,0,0,0,0,0,0,0,0,0,0,0,0,0,0,0,0,0,0,0,0,0,0,0,0,0,0,0,0,0,0,0,0,0,0,0,0,0,0,0,0,0,0,0,0,0,0,0,0,0,0,0,0,0,0,0,0,0,0,0,0,0,0,0,0,0,0,0,0,0,0,0,0,0,0,0,0,0,0,1,0,0,0,0,0,0,0,0,0,0,0,0,0,0,0,0,0,0,0,0,0,0,0,0,0,0,0,1,0,0,0,0,0,0,0,0,0,0,0,0,0,0,0,0,0,0,0,0,0,0,0,0,0,0,0,0,0,0,0,0,0,0,0,0,0,0,0,0,0,0,0,0,0,0,0,0,0,0,0,0,0,0,0,0,0,0,0,0,0,0,0,0,0,0,0,0,0,0,0,0,0,0,0,0,0,0,0,0,0,0,0,0,0,0,0,0,0,0,0,0,0,0,0,0,0,0,0,0,0,0,0,0,0,0,0,0,0,0,0,0,0,0,0,0,0,0,0,0,0,0,0,0,0,0,0,0,0,0,0,0,0,0,0,0,0,0,1,0,0,0,0,0,0,0,0,0,0,0,0,0,0,0,0,0,0,0,0,0,0,0,0,0,0,0,0,0,0,0,0,0,0,0,0,0,0,0,0,0,0,0,0,0,1,0,0,0,0,0,0,0,0,0,0,0,0,0,0,0,0,0,0,0,0,0,0,0,0,0,0,0,0,0,0,0,0,0,0,0,0,0,0,0,0,0,0,0,0,0,0,0,0,0,0,0,0,0,0,0,0,0,0,0,0,0,0,0,0,0,0,0,0,0,0,0,0,0,0,0,0,0,0,0,0,0,0,0,0,0,0,0,0,0,0,0,0,0,0,0,0,0,0,0,0,0,0,0,0,0,0,0,0,0,0,1,0,0,0,0,0,0,0,0,0,0,0,0,0,0,0,0,0,0,0,0,0,0,0,0,0,0,0,0,0,0,0,0,0,0,0,0,0,0,0,0,0,0,0,0,0,0,0,0,0,0,0,0,0,0,0,0,0,0,0,0,0,0,0,0,0,0,1,0,0,0,0,0,0,0,0,0,0,0,0,0,0,0,0,0,0,0,0,0,0,1,0,0,0,0,0,0,0,1,0,0,1,0,1,0,0,0,1,0,0,0,0,0,0,0,0,0,1,0,0,0,0,0,0,0,0,1,1,0,0,1,1,1,0,0,0,0,1,0,0,1,0,0,0,0,0,0,0,0,0],\"preds_c\":[0,0,0,0,0,0,0,0,0,0,0,0,0,0,0,0,0,0,0,0,0,0,0,0,0,0,0,0,0,0,0,0,0,0,0,0,0,0,0,0,0,0,0,0,0,0,0,0,0,0,0,0,0,0,0,0,0,0,0,0,0,0,0,0,0,0,0,0,0,0,0,0,0,0,0,0,0,0,0,0,0,0,0,0,0,0,0,0,0,0,0,0,0,0,0,0,0,0,0,0,0,0,0,0,0,0,0,0,0,0,0,0,0,0,0,0,0,0,0,0,0,0,0,0,0,0,0,0,0,0,0,0,0,0,0,0,0,0,0,0,0,0,0,0,0,0,0,0,0,0,0,0,0,0,0,0,0,0,0,0,0,0,0,0,0,0,0,0,0,0,0,0,0,0,0,0,0,0,0,0,0,0,0,0,0,0,0,0,0,0,0,0,0,0,0,0,0,0,0,0,0,0,0,0,0,0,0,0,0,0,0,0,0,0,0,0,0,0,0,0,0,0,0,0,0,0,0,0,0,0,0,0,0,0,0,0,0,0,0,0,0,0,0,0,0,0,0,0,0,0,0,0,0,0,0,0,0,0,0,0,0,0,0,0,0,0,0,0,0,0,0,0,0,0,0,0,0,0,0,0,0,0,0,0,0,0,0,0,0,0,0,0,0,0,0,0,0,0,0,0,0,0,0,0,0,0,0,0,0,0,0,0,0,0,0,0,0,0,0,0,0,0,0,0,0,0,0,0,0,0,0,0,0,0,0,0,0,0,0,0,0,0,0,0,0,0,0,0,0,0,0,0,0,0,0,0,0,0,0,0,0,0,0,0,0,0,0,0,0,0,0,0,0,0,0,0,0,0,0,0,0,0,0,0,0,0,0,0,0,0,0,0,0,0,0,0,0,0,0,0,0,0,0,0,0,0,0,0,0,0,0,0,0,0,0,0,0,0,0,0,0,0,0,0,0,0,0,0,0,0,0,0,0,0,0,0,0,0,0,0,0,0,0,0,0,0,0,0,0,0,0,0,0,0,0,0,0,0,0,0,0,0,0,0,0,0,0,0,0,0,0,0,0,0,0,0,0,0,0,0,0,0,0,0,0,0,0,0,0,0,0,0,0,0,0,0,0,0,0,0,0,0,0,0,0,0,0,0,0,0,0,0,0,0,0,0,0,0,0,0,0,0,0,0,0,0,0,0,0,0,0,0,0,0,0,0,0,0,0,0,0,0,0,0,0,0,0,0,0,0,0,0,0,0,0,0,0,0,0,0,0,0,0,0,0,0,0,0,0,0,0,0,0,0,0,0,0,0,0,0,0,0,0,0,0,0,0,0,0,0,0,0,0,0,0,0,0,0,0,0,0,0,0,0,0,0,0,0,0,0,0,0,0,0,0,0,0,0,0,0,0,0,0,0,0,0,0,0,0,0,0,0,0,0,0,0,0,0,0,0,0,0,0,0,0,0,0,0,0,0,0,0,0,0,0,0,0,0,0,0,0,0,0,0,0,0,0,0,0,0,0,0,0,0,0,0,0,0,0,0,0,0,0,0,0,0,0,0,0,0,0,0,0,0,0,0,0,0,0,0,0,0,0,0,0,0,0,0,0,0,0,0,0,0,0,0,0,0,0,0,0,0,0,0,0,0,0,0,0,0,0,0,0,0,0,0,0,0,0,0,0,0,0,0,0,0,0,0,0,0,0,0,0,0,0,0,0,0,0,0,0,0,0,0,0,0,0,0,0,0,0,0,0,0,0,0,0,0,0,0,0,0,0,0,0,1,1,1,1,1,1,1,1,1,1,1,1,1,1,1,1,1,1,1,1,1,1,1,1,1,1,1,1,1,1,1,1,1,1,1,1,1,1],\"x\":{\"__ndarray__\":\"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\",\"dtype\":\"float64\",\"shape\":[823]},\"y\":{\"__ndarray__\":\"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\",\"dtype\":\"float64\",\"shape\":[823]}}},\"id\":\"568482ec-a3d4-419c-b3f7-075527adce2a\",\"type\":\"ColumnDataSource\"},{\"attributes\":{\"overlay\":{\"id\":\"09c46f67-316b-4ab8-a011-be0ccb2bc99c\",\"type\":\"BoxAnnotation\"}},\"id\":\"7ac0b8bf-27cc-467b-994d-cf9702a32c01\",\"type\":\"BoxZoomTool\"},{\"attributes\":{},\"id\":\"99ffc97e-cc41-43f6-b4a8-3848aa3585c4\",\"type\":\"SaveTool\"},{\"attributes\":{},\"id\":\"0309f178-d559-4fe6-b0fd-a08033bb60cd\",\"type\":\"ResetTool\"},{\"attributes\":{},\"id\":\"ffe995d0-ab2e-40a8-a1fc-09c3ec7518b7\",\"type\":\"HelpTool\"},{\"attributes\":{\"active_drag\":\"auto\",\"active_inspect\":\"auto\",\"active_scroll\":\"auto\",\"active_tap\":\"auto\",\"tools\":[{\"id\":\"1788ab1a-38e6-4de0-9b16-a873dc40fb1e\",\"type\":\"PanTool\"},{\"id\":\"9239ed7e-0348-4216-9330-15d62412452c\",\"type\":\"WheelZoomTool\"},{\"id\":\"a21c7c83-947b-4545-99ec-7f319e6391a7\",\"type\":\"BoxZoomTool\"},{\"id\":\"8f456f36-cca1-453c-b637-fba008ac95ce\",\"type\":\"SaveTool\"},{\"id\":\"3a1c2661-da25-4d18-9488-d0c2cfa62ffa\",\"type\":\"ResetTool\"},{\"id\":\"b107fdc9-66fe-4093-8d53-5c7c6162d14f\",\"type\":\"HelpTool\"}]},\"id\":\"3177a309-eea0-4929-8268-b64f33f1d747\",\"type\":\"Toolbar\"},{\"attributes\":{\"source\":{\"id\":\"568482ec-a3d4-419c-b3f7-075527adce2a\",\"type\":\"ColumnDataSource\"}},\"id\":\"6280dddd-9c09-4e54-8479-cb1e24de3743\",\"type\":\"CDSView\"},{\"attributes\":{\"callback\":null},\"id\":\"016f1d18-565d-4d37-9491-2049879d0fa9\",\"type\":\"DataRange1d\"},{\"attributes\":{},\"id\":\"935537b7-1189-43f0-a823-603f3464cbd0\",\"type\":\"BasicTickFormatter\"},{\"attributes\":{\"data_source\":{\"id\":\"568482ec-a3d4-419c-b3f7-075527adce2a\",\"type\":\"ColumnDataSource\"},\"glyph\":{\"id\":\"ffa8b7f4-0825-40af-9a6d-f023d5b6caf3\",\"type\":\"Circle\"},\"hover_glyph\":null,\"muted_glyph\":null,\"nonselection_glyph\":{\"id\":\"d6c8f05c-d333-475d-9714-e92bdd1417bd\",\"type\":\"Circle\"},\"selection_glyph\":null,\"view\":{\"id\":\"94f9b2e0-dd73-4898-8775-76f21fc6bf3a\",\"type\":\"CDSView\"}},\"id\":\"c0048731-37e0-43d8-87f8-9347784d673d\",\"type\":\"GlyphRenderer\"},{\"attributes\":{\"plot\":{\"id\":\"4649d5cc-5b84-4fcd-a4a2-6870c9f81f81\",\"subtype\":\"Figure\",\"type\":\"Plot\"},\"ticker\":{\"id\":\"7091ce38-b28d-4a86-9d73-5dab9f676a0a\",\"type\":\"BasicTicker\"}},\"id\":\"0590eb01-3ac2-4d4e-a930-2f87ff54a73f\",\"type\":\"Grid\"},{\"attributes\":{},\"id\":\"5418e11f-d284-4326-aaed-45cc4d6e2852\",\"type\":\"LinearScale\"},{\"attributes\":{\"fill_alpha\":{\"value\":0.1},\"fill_color\":{\"value\":\"#1f77b4\"},\"line_alpha\":{\"value\":0.1},\"line_color\":{\"value\":\"#1f77b4\"},\"size\":{\"field\":\"idxs\",\"transform\":{\"id\":\"b950d2dd-a6c6-4137-a9a9-1ca615cbadfe\",\"type\":\"LinearInterpolator\"},\"units\":\"screen\"},\"x\":{\"field\":\"x\"},\"y\":{\"field\":\"y\"}},\"id\":\"d6c8f05c-d333-475d-9714-e92bdd1417bd\",\"type\":\"Circle\"},{\"attributes\":{},\"id\":\"cbd13a4a-d8e3-4a03-bd6f-243ef06ad8ee\",\"type\":\"LinearScale\"},{\"attributes\":{\"callback\":null},\"id\":\"5e99cbb7-8e8f-4568-b93a-f0b3f30b5db3\",\"type\":\"DataRange1d\"},{\"attributes\":{\"formatter\":{\"id\":\"48d6b66a-d85e-41df-880a-cd5c6664f216\",\"type\":\"BasicTickFormatter\"},\"plot\":{\"id\":\"4649d5cc-5b84-4fcd-a4a2-6870c9f81f81\",\"subtype\":\"Figure\",\"type\":\"Plot\"},\"ticker\":{\"id\":\"7091ce38-b28d-4a86-9d73-5dab9f676a0a\",\"type\":\"BasicTicker\"}},\"id\":\"150a9bf9-6a90-4da7-83c5-ef2d3068cda1\",\"type\":\"LinearAxis\"},{\"attributes\":{},\"id\":\"7091ce38-b28d-4a86-9d73-5dab9f676a0a\",\"type\":\"BasicTicker\"},{\"attributes\":{\"formatter\":{\"id\":\"8ced3294-3005-4944-b5ea-74a00eaab4d2\",\"type\":\"BasicTickFormatter\"},\"plot\":{\"id\":\"4649d5cc-5b84-4fcd-a4a2-6870c9f81f81\",\"subtype\":\"Figure\",\"type\":\"Plot\"},\"ticker\":{\"id\":\"0acbad54-d66f-4039-b38c-c8cbada10743\",\"type\":\"BasicTicker\"}},\"id\":\"28525ebf-33fe-41c1-a04f-c4508433c1b8\",\"type\":\"LinearAxis\"},{\"attributes\":{},\"id\":\"0acbad54-d66f-4039-b38c-c8cbada10743\",\"type\":\"BasicTicker\"},{\"attributes\":{\"dimension\":1,\"plot\":{\"id\":\"4649d5cc-5b84-4fcd-a4a2-6870c9f81f81\",\"subtype\":\"Figure\",\"type\":\"Plot\"},\"ticker\":{\"id\":\"0acbad54-d66f-4039-b38c-c8cbada10743\",\"type\":\"BasicTicker\"}},\"id\":\"91c26fe0-45a1-412f-9c12-214414494ecc\",\"type\":\"Grid\"},{\"attributes\":{\"source\":{\"id\":\"568482ec-a3d4-419c-b3f7-075527adce2a\",\"type\":\"ColumnDataSource\"}},\"id\":\"94f9b2e0-dd73-4898-8775-76f21fc6bf3a\",\"type\":\"CDSView\"},{\"attributes\":{\"fill_alpha\":{\"value\":0.2},\"fill_color\":{\"field\":\"preds_bf\",\"transform\":{\"id\":\"cb936faa-b638-41c3-bf7e-b35f214afbcb\",\"type\":\"LinearColorMapper\"}},\"line_color\":{\"value\":\"#1f77b4\"},\"size\":{\"field\":\"idxs\",\"transform\":{\"id\":\"b950d2dd-a6c6-4137-a9a9-1ca615cbadfe\",\"type\":\"LinearInterpolator\"},\"units\":\"screen\"},\"x\":{\"field\":\"x\"},\"y\":{\"field\":\"y\"}},\"id\":\"ffa8b7f4-0825-40af-9a6d-f023d5b6caf3\",\"type\":\"Circle\"},{\"attributes\":{\"below\":[{\"id\":\"586c291a-07d6-4c31-a41f-6e7059069fa3\",\"type\":\"LinearAxis\"}],\"left\":[{\"id\":\"8c2d0a92-d8a5-4984-9225-b1cba32261dd\",\"type\":\"LinearAxis\"}],\"plot_height\":400,\"plot_width\":400,\"renderers\":[{\"id\":\"586c291a-07d6-4c31-a41f-6e7059069fa3\",\"type\":\"LinearAxis\"},{\"id\":\"4ffb164e-5b33-494d-8cb7-aff18d956758\",\"type\":\"Grid\"},{\"id\":\"8c2d0a92-d8a5-4984-9225-b1cba32261dd\",\"type\":\"LinearAxis\"},{\"id\":\"c35a93cb-5cf3-4bc6-98d2-621a5330c9a6\",\"type\":\"Grid\"},{\"id\":\"5c62c250-b8b9-47d9-b673-58cafc5380c7\",\"type\":\"BoxAnnotation\"},{\"id\":\"534732ca-a79c-43df-a097-42d9933ed083\",\"type\":\"GlyphRenderer\"}],\"title\":{\"id\":\"44ce9b9d-9312-453c-b518-64caaad85494\",\"type\":\"Title\"},\"toolbar\":{\"id\":\"7abcc571-0075-4bad-8e01-d84f8d96a94e\",\"type\":\"Toolbar\"},\"x_range\":{\"id\":\"b9e4708d-02da-496c-a100-8b1fca684b12\",\"type\":\"DataRange1d\"},\"x_scale\":{\"id\":\"0f5b02f5-fb2d-417e-ac62-251902ba0594\",\"type\":\"LinearScale\"},\"y_range\":{\"id\":\"3e7feac8-9243-48e5-99a4-4f08579d7f5c\",\"type\":\"DataRange1d\"},\"y_scale\":{\"id\":\"e986df6a-12e2-416d-86a1-50853f1e221c\",\"type\":\"LinearScale\"}},\"id\":\"1be0b5df-d7f9-411b-8fd8-dc8f770d9103\",\"subtype\":\"Figure\",\"type\":\"Plot\"},{\"attributes\":{},\"id\":\"48d6b66a-d85e-41df-880a-cd5c6664f216\",\"type\":\"BasicTickFormatter\"},{\"attributes\":{},\"id\":\"1788ab1a-38e6-4de0-9b16-a873dc40fb1e\",\"type\":\"PanTool\"}],\"root_ids\":[\"598e5419-fe5f-4a51-bd64-ded5b0bed704\"]},\"title\":\"Bokeh Application\",\"version\":\"0.12.13\"}};\n",
       "  var render_items = [{\"docid\":\"2ae8f4e9-1729-4f19-95d4-93a808854ad7\",\"elementid\":\"921aa629-4bb2-422f-9379-15c0a8b34081\",\"modelid\":\"598e5419-fe5f-4a51-bd64-ded5b0bed704\"}];\n",
       "  root.Bokeh.embed.embed_items_notebook(docs_json, render_items);\n",
       "\n",
       "  }\n",
       "  if (root.Bokeh !== undefined) {\n",
       "    embed_document(root);\n",
       "  } else {\n",
       "    var attempts = 0;\n",
       "    var timer = setInterval(function(root) {\n",
       "      if (root.Bokeh !== undefined) {\n",
       "        embed_document(root);\n",
       "        clearInterval(timer);\n",
       "      }\n",
       "      attempts++;\n",
       "      if (attempts > 100) {\n",
       "        console.log(\"Bokeh: ERROR: Unable to run BokehJS code because BokehJS library is missing\")\n",
       "        clearInterval(timer);\n",
       "      }\n",
       "    }, 10, root)\n",
       "  }\n",
       "})(window);"
      ],
      "application/vnd.bokehjs_exec.v0+json": ""
     },
     "metadata": {
      "application/vnd.bokehjs_exec.v0+json": {
       "id": "598e5419-fe5f-4a51-bd64-ded5b0bed704"
      }
     },
     "output_type": "display_data"
    }
   ],
   "source": [
    "from bokeh.models import LinearInterpolator\n",
    "from bokeh.models.mappers import LinearColorMapper\n",
    "from bokeh.palettes import viridis\n",
    "\n",
    "df_ldim=pd.read_csv('./data_banknote_auth_reduced.csv')\n",
    "#print(df_ldim.iloc[:,2])\n",
    "source2=ColumnDataSource(data=dict(idxs=list(range(df_ldim.shape[0])),x=df_ldim.iloc[:,1],y=df_ldim.iloc[:,2],\\\n",
    "                                   preds=preds[0],preds_c=preds_cumsum[0],preds_bf=preds_bf[0],labels=labels))\n",
    "\n",
    "color_mapper=LinearColorMapper(low=0,high=2,\\\n",
    "                              palette=[\"red\",\"green\"])\n",
    "size_mapper=LinearInterpolator(x=[min(source2.data['idxs']),max(source2.data['idxs'])],\\\n",
    "y=[5,20])\n",
    "\n",
    "plot=figure(plot_width=400,plot_height=400,title='full feature preds')\n",
    "plot.circle('x','y',source=source2,fill_color={'field':'preds','transform': color_mapper},\\\n",
    "            size={'field':'idxs', 'transform': size_mapper},fill_alpha=0.2)\n",
    "\n",
    "plot2=figure(plot_width=400,plot_height=400,title='Cumsum preds')\n",
    "plot2.circle('x','y',source=source2,fill_color={'field':'preds_c','transform': color_mapper},\\\n",
    "             size={'field':'idxs', 'transform': size_mapper},fill_alpha=0.2)\n",
    "\n",
    "plot3=figure(plot_width=400,plot_height=400,title='bf preds')\n",
    "plot3.circle('x','y',source=source2,fill_color={'field':'preds_bf','transform': color_mapper},\\\n",
    "             size={'field':'idxs', 'transform': size_mapper},fill_alpha=0.2)\n",
    "\n",
    "plot4=figure(plot_width=400,plot_height=400,title='actual')\n",
    "plot4.circle('x','y',source=source2,fill_color={'field':'labels','transform': color_mapper},\\\n",
    "             size={'field':'idxs', 'transform': size_mapper},fill_alpha=0.2)\n",
    "\n",
    "show(column(row(plot,plot2),row(plot3,plot4)))\n",
    "#show(plot4)"
   ]
  }
 ],
 "metadata": {
  "kernelspec": {
   "display_name": "Python 3",
   "language": "python",
   "name": "python3"
  },
  "language_info": {
   "codemirror_mode": {
    "name": "ipython",
    "version": 3
   },
   "file_extension": ".py",
   "mimetype": "text/x-python",
   "name": "python",
   "nbconvert_exporter": "python",
   "pygments_lexer": "ipython3",
   "version": "3.6.1"
  }
 },
 "nbformat": 4,
 "nbformat_minor": 2
}
