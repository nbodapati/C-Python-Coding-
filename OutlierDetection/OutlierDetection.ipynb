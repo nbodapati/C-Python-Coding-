{
 "cells": [
  {
   "cell_type": "code",
   "execution_count": 150,
   "metadata": {
    "collapsed": true
   },
   "outputs": [],
   "source": [
    "from __future__ import division\n",
    "import pandas as pd\n",
    "import numpy as np\n",
    "from scipy.spatial.distance import cdist \n",
    "\n",
    "import warnings\n",
    "warnings.filterwarnings(\"ignore\")\n",
    "from bokeh.layouts import layout,column,row\n",
    "from bokeh.plotting import figure, show, output_file\n",
    "from bokeh.models import ColumnDataSource"
   ]
  },
  {
   "cell_type": "code",
   "execution_count": 151,
   "metadata": {},
   "outputs": [
    {
     "data": {
      "text/html": [
       "\n",
       "    <div class=\"bk-root\">\n",
       "        <a href=\"https://bokeh.pydata.org\" target=\"_blank\" class=\"bk-logo bk-logo-small bk-logo-notebook\"></a>\n",
       "        <span id=\"72a27a4b-9cba-4e19-b933-7f84e60b3752\">Loading BokehJS ...</span>\n",
       "    </div>"
      ]
     },
     "metadata": {},
     "output_type": "display_data"
    },
    {
     "data": {
      "application/javascript": [
       "\n",
       "(function(root) {\n",
       "  function now() {\n",
       "    return new Date();\n",
       "  }\n",
       "\n",
       "  var force = true;\n",
       "\n",
       "  if (typeof (root._bokeh_onload_callbacks) === \"undefined\" || force === true) {\n",
       "    root._bokeh_onload_callbacks = [];\n",
       "    root._bokeh_is_loading = undefined;\n",
       "  }\n",
       "\n",
       "  var JS_MIME_TYPE = 'application/javascript';\n",
       "  var HTML_MIME_TYPE = 'text/html';\n",
       "  var EXEC_MIME_TYPE = 'application/vnd.bokehjs_exec.v0+json';\n",
       "  var CLASS_NAME = 'output_bokeh rendered_html';\n",
       "\n",
       "  /**\n",
       "   * Render data to the DOM node\n",
       "   */\n",
       "  function render(props, node) {\n",
       "    var script = document.createElement(\"script\");\n",
       "    node.appendChild(script);\n",
       "  }\n",
       "\n",
       "  /**\n",
       "   * Handle when an output is cleared or removed\n",
       "   */\n",
       "  function handleClearOutput(event, handle) {\n",
       "    var cell = handle.cell;\n",
       "\n",
       "    var id = cell.output_area._bokeh_element_id;\n",
       "    var server_id = cell.output_area._bokeh_server_id;\n",
       "    // Clean up Bokeh references\n",
       "    if (id !== undefined) {\n",
       "      Bokeh.index[id].model.document.clear();\n",
       "      delete Bokeh.index[id];\n",
       "    }\n",
       "\n",
       "    if (server_id !== undefined) {\n",
       "      // Clean up Bokeh references\n",
       "      var cmd = \"from bokeh.io.state import curstate; print(curstate().uuid_to_server['\" + server_id + \"'].get_sessions()[0].document.roots[0]._id)\";\n",
       "      cell.notebook.kernel.execute(cmd, {\n",
       "        iopub: {\n",
       "          output: function(msg) {\n",
       "            var element_id = msg.content.text.trim();\n",
       "            Bokeh.index[element_id].model.document.clear();\n",
       "            delete Bokeh.index[element_id];\n",
       "          }\n",
       "        }\n",
       "      });\n",
       "      // Destroy server and session\n",
       "      var cmd = \"import bokeh.io.notebook as ion; ion.destroy_server('\" + server_id + \"')\";\n",
       "      cell.notebook.kernel.execute(cmd);\n",
       "    }\n",
       "  }\n",
       "\n",
       "  /**\n",
       "   * Handle when a new output is added\n",
       "   */\n",
       "  function handleAddOutput(event, handle) {\n",
       "    var output_area = handle.output_area;\n",
       "    var output = handle.output;\n",
       "\n",
       "    // limit handleAddOutput to display_data with EXEC_MIME_TYPE content only\n",
       "    if ((output.output_type != \"display_data\") || (!output.data.hasOwnProperty(EXEC_MIME_TYPE))) {\n",
       "      return\n",
       "    }\n",
       "\n",
       "    var toinsert = output_area.element.find(\".\" + CLASS_NAME.split(' ')[0]);\n",
       "\n",
       "    if (output.metadata[EXEC_MIME_TYPE][\"id\"] !== undefined) {\n",
       "      toinsert[0].firstChild.textContent = output.data[JS_MIME_TYPE];\n",
       "      // store reference to embed id on output_area\n",
       "      output_area._bokeh_element_id = output.metadata[EXEC_MIME_TYPE][\"id\"];\n",
       "    }\n",
       "    if (output.metadata[EXEC_MIME_TYPE][\"server_id\"] !== undefined) {\n",
       "      var bk_div = document.createElement(\"div\");\n",
       "      bk_div.innerHTML = output.data[HTML_MIME_TYPE];\n",
       "      var script_attrs = bk_div.children[0].attributes;\n",
       "      for (var i = 0; i < script_attrs.length; i++) {\n",
       "        toinsert[0].firstChild.setAttribute(script_attrs[i].name, script_attrs[i].value);\n",
       "      }\n",
       "      // store reference to server id on output_area\n",
       "      output_area._bokeh_server_id = output.metadata[EXEC_MIME_TYPE][\"server_id\"];\n",
       "    }\n",
       "  }\n",
       "\n",
       "  function register_renderer(events, OutputArea) {\n",
       "\n",
       "    function append_mime(data, metadata, element) {\n",
       "      // create a DOM node to render to\n",
       "      var toinsert = this.create_output_subarea(\n",
       "        metadata,\n",
       "        CLASS_NAME,\n",
       "        EXEC_MIME_TYPE\n",
       "      );\n",
       "      this.keyboard_manager.register_events(toinsert);\n",
       "      // Render to node\n",
       "      var props = {data: data, metadata: metadata[EXEC_MIME_TYPE]};\n",
       "      render(props, toinsert[0]);\n",
       "      element.append(toinsert);\n",
       "      return toinsert\n",
       "    }\n",
       "\n",
       "    /* Handle when an output is cleared or removed */\n",
       "    events.on('clear_output.CodeCell', handleClearOutput);\n",
       "    events.on('delete.Cell', handleClearOutput);\n",
       "\n",
       "    /* Handle when a new output is added */\n",
       "    events.on('output_added.OutputArea', handleAddOutput);\n",
       "\n",
       "    /**\n",
       "     * Register the mime type and append_mime function with output_area\n",
       "     */\n",
       "    OutputArea.prototype.register_mime_type(EXEC_MIME_TYPE, append_mime, {\n",
       "      /* Is output safe? */\n",
       "      safe: true,\n",
       "      /* Index of renderer in `output_area.display_order` */\n",
       "      index: 0\n",
       "    });\n",
       "  }\n",
       "\n",
       "  // register the mime type if in Jupyter Notebook environment and previously unregistered\n",
       "  if (root.Jupyter !== undefined) {\n",
       "    var events = require('base/js/events');\n",
       "    var OutputArea = require('notebook/js/outputarea').OutputArea;\n",
       "\n",
       "    if (OutputArea.prototype.mime_types().indexOf(EXEC_MIME_TYPE) == -1) {\n",
       "      register_renderer(events, OutputArea);\n",
       "    }\n",
       "  }\n",
       "\n",
       "  \n",
       "  if (typeof (root._bokeh_timeout) === \"undefined\" || force === true) {\n",
       "    root._bokeh_timeout = Date.now() + 5000;\n",
       "    root._bokeh_failed_load = false;\n",
       "  }\n",
       "\n",
       "  var NB_LOAD_WARNING = {'data': {'text/html':\n",
       "     \"<div style='background-color: #fdd'>\\n\"+\n",
       "     \"<p>\\n\"+\n",
       "     \"BokehJS does not appear to have successfully loaded. If loading BokehJS from CDN, this \\n\"+\n",
       "     \"may be due to a slow or bad network connection. Possible fixes:\\n\"+\n",
       "     \"</p>\\n\"+\n",
       "     \"<ul>\\n\"+\n",
       "     \"<li>re-rerun `output_notebook()` to attempt to load from CDN again, or</li>\\n\"+\n",
       "     \"<li>use INLINE resources instead, as so:</li>\\n\"+\n",
       "     \"</ul>\\n\"+\n",
       "     \"<code>\\n\"+\n",
       "     \"from bokeh.resources import INLINE\\n\"+\n",
       "     \"output_notebook(resources=INLINE)\\n\"+\n",
       "     \"</code>\\n\"+\n",
       "     \"</div>\"}};\n",
       "\n",
       "  function display_loaded() {\n",
       "    var el = document.getElementById(\"72a27a4b-9cba-4e19-b933-7f84e60b3752\");\n",
       "    if (el != null) {\n",
       "      el.textContent = \"BokehJS is loading...\";\n",
       "    }\n",
       "    if (root.Bokeh !== undefined) {\n",
       "      if (el != null) {\n",
       "        el.textContent = \"BokehJS \" + root.Bokeh.version + \" successfully loaded.\";\n",
       "      }\n",
       "    } else if (Date.now() < root._bokeh_timeout) {\n",
       "      setTimeout(display_loaded, 100)\n",
       "    }\n",
       "  }\n",
       "\n",
       "\n",
       "  function run_callbacks() {\n",
       "    try {\n",
       "      root._bokeh_onload_callbacks.forEach(function(callback) { callback() });\n",
       "    }\n",
       "    finally {\n",
       "      delete root._bokeh_onload_callbacks\n",
       "    }\n",
       "    console.info(\"Bokeh: all callbacks have finished\");\n",
       "  }\n",
       "\n",
       "  function load_libs(js_urls, callback) {\n",
       "    root._bokeh_onload_callbacks.push(callback);\n",
       "    if (root._bokeh_is_loading > 0) {\n",
       "      console.log(\"Bokeh: BokehJS is being loaded, scheduling callback at\", now());\n",
       "      return null;\n",
       "    }\n",
       "    if (js_urls == null || js_urls.length === 0) {\n",
       "      run_callbacks();\n",
       "      return null;\n",
       "    }\n",
       "    console.log(\"Bokeh: BokehJS not loaded, scheduling load and callback at\", now());\n",
       "    root._bokeh_is_loading = js_urls.length;\n",
       "    for (var i = 0; i < js_urls.length; i++) {\n",
       "      var url = js_urls[i];\n",
       "      var s = document.createElement('script');\n",
       "      s.src = url;\n",
       "      s.async = false;\n",
       "      s.onreadystatechange = s.onload = function() {\n",
       "        root._bokeh_is_loading--;\n",
       "        if (root._bokeh_is_loading === 0) {\n",
       "          console.log(\"Bokeh: all BokehJS libraries loaded\");\n",
       "          run_callbacks()\n",
       "        }\n",
       "      };\n",
       "      s.onerror = function() {\n",
       "        console.warn(\"failed to load library \" + url);\n",
       "      };\n",
       "      console.log(\"Bokeh: injecting script tag for BokehJS library: \", url);\n",
       "      document.getElementsByTagName(\"head\")[0].appendChild(s);\n",
       "    }\n",
       "  };var element = document.getElementById(\"72a27a4b-9cba-4e19-b933-7f84e60b3752\");\n",
       "  if (element == null) {\n",
       "    console.log(\"Bokeh: ERROR: autoload.js configured with elementid '72a27a4b-9cba-4e19-b933-7f84e60b3752' but no matching script tag was found. \")\n",
       "    return false;\n",
       "  }\n",
       "\n",
       "  var js_urls = [\"https://cdn.pydata.org/bokeh/release/bokeh-0.12.13.min.js\", \"https://cdn.pydata.org/bokeh/release/bokeh-widgets-0.12.13.min.js\", \"https://cdn.pydata.org/bokeh/release/bokeh-tables-0.12.13.min.js\", \"https://cdn.pydata.org/bokeh/release/bokeh-gl-0.12.13.min.js\"];\n",
       "\n",
       "  var inline_js = [\n",
       "    function(Bokeh) {\n",
       "      Bokeh.set_log_level(\"info\");\n",
       "    },\n",
       "    \n",
       "    function(Bokeh) {\n",
       "      \n",
       "    },\n",
       "    function(Bokeh) {\n",
       "      console.log(\"Bokeh: injecting CSS: https://cdn.pydata.org/bokeh/release/bokeh-0.12.13.min.css\");\n",
       "      Bokeh.embed.inject_css(\"https://cdn.pydata.org/bokeh/release/bokeh-0.12.13.min.css\");\n",
       "      console.log(\"Bokeh: injecting CSS: https://cdn.pydata.org/bokeh/release/bokeh-widgets-0.12.13.min.css\");\n",
       "      Bokeh.embed.inject_css(\"https://cdn.pydata.org/bokeh/release/bokeh-widgets-0.12.13.min.css\");\n",
       "      console.log(\"Bokeh: injecting CSS: https://cdn.pydata.org/bokeh/release/bokeh-tables-0.12.13.min.css\");\n",
       "      Bokeh.embed.inject_css(\"https://cdn.pydata.org/bokeh/release/bokeh-tables-0.12.13.min.css\");\n",
       "    }\n",
       "  ];\n",
       "\n",
       "  function run_inline_js() {\n",
       "    \n",
       "    if ((root.Bokeh !== undefined) || (force === true)) {\n",
       "      for (var i = 0; i < inline_js.length; i++) {\n",
       "        inline_js[i].call(root, root.Bokeh);\n",
       "      }if (force === true) {\n",
       "        display_loaded();\n",
       "      }} else if (Date.now() < root._bokeh_timeout) {\n",
       "      setTimeout(run_inline_js, 100);\n",
       "    } else if (!root._bokeh_failed_load) {\n",
       "      console.log(\"Bokeh: BokehJS failed to load within specified timeout.\");\n",
       "      root._bokeh_failed_load = true;\n",
       "    } else if (force !== true) {\n",
       "      var cell = $(document.getElementById(\"72a27a4b-9cba-4e19-b933-7f84e60b3752\")).parents('.cell').data().cell;\n",
       "      cell.output_area.append_execute_result(NB_LOAD_WARNING)\n",
       "    }\n",
       "\n",
       "  }\n",
       "\n",
       "  if (root._bokeh_is_loading === 0) {\n",
       "    console.log(\"Bokeh: BokehJS loaded, going straight to plotting\");\n",
       "    run_inline_js();\n",
       "  } else {\n",
       "    load_libs(js_urls, function() {\n",
       "      console.log(\"Bokeh: BokehJS plotting callback run at\", now());\n",
       "      run_inline_js();\n",
       "    });\n",
       "  }\n",
       "}(window));"
      ],
      "application/vnd.bokehjs_load.v0+json": "\n(function(root) {\n  function now() {\n    return new Date();\n  }\n\n  var force = true;\n\n  if (typeof (root._bokeh_onload_callbacks) === \"undefined\" || force === true) {\n    root._bokeh_onload_callbacks = [];\n    root._bokeh_is_loading = undefined;\n  }\n\n  \n\n  \n  if (typeof (root._bokeh_timeout) === \"undefined\" || force === true) {\n    root._bokeh_timeout = Date.now() + 5000;\n    root._bokeh_failed_load = false;\n  }\n\n  var NB_LOAD_WARNING = {'data': {'text/html':\n     \"<div style='background-color: #fdd'>\\n\"+\n     \"<p>\\n\"+\n     \"BokehJS does not appear to have successfully loaded. If loading BokehJS from CDN, this \\n\"+\n     \"may be due to a slow or bad network connection. Possible fixes:\\n\"+\n     \"</p>\\n\"+\n     \"<ul>\\n\"+\n     \"<li>re-rerun `output_notebook()` to attempt to load from CDN again, or</li>\\n\"+\n     \"<li>use INLINE resources instead, as so:</li>\\n\"+\n     \"</ul>\\n\"+\n     \"<code>\\n\"+\n     \"from bokeh.resources import INLINE\\n\"+\n     \"output_notebook(resources=INLINE)\\n\"+\n     \"</code>\\n\"+\n     \"</div>\"}};\n\n  function display_loaded() {\n    var el = document.getElementById(\"72a27a4b-9cba-4e19-b933-7f84e60b3752\");\n    if (el != null) {\n      el.textContent = \"BokehJS is loading...\";\n    }\n    if (root.Bokeh !== undefined) {\n      if (el != null) {\n        el.textContent = \"BokehJS \" + root.Bokeh.version + \" successfully loaded.\";\n      }\n    } else if (Date.now() < root._bokeh_timeout) {\n      setTimeout(display_loaded, 100)\n    }\n  }\n\n\n  function run_callbacks() {\n    try {\n      root._bokeh_onload_callbacks.forEach(function(callback) { callback() });\n    }\n    finally {\n      delete root._bokeh_onload_callbacks\n    }\n    console.info(\"Bokeh: all callbacks have finished\");\n  }\n\n  function load_libs(js_urls, callback) {\n    root._bokeh_onload_callbacks.push(callback);\n    if (root._bokeh_is_loading > 0) {\n      console.log(\"Bokeh: BokehJS is being loaded, scheduling callback at\", now());\n      return null;\n    }\n    if (js_urls == null || js_urls.length === 0) {\n      run_callbacks();\n      return null;\n    }\n    console.log(\"Bokeh: BokehJS not loaded, scheduling load and callback at\", now());\n    root._bokeh_is_loading = js_urls.length;\n    for (var i = 0; i < js_urls.length; i++) {\n      var url = js_urls[i];\n      var s = document.createElement('script');\n      s.src = url;\n      s.async = false;\n      s.onreadystatechange = s.onload = function() {\n        root._bokeh_is_loading--;\n        if (root._bokeh_is_loading === 0) {\n          console.log(\"Bokeh: all BokehJS libraries loaded\");\n          run_callbacks()\n        }\n      };\n      s.onerror = function() {\n        console.warn(\"failed to load library \" + url);\n      };\n      console.log(\"Bokeh: injecting script tag for BokehJS library: \", url);\n      document.getElementsByTagName(\"head\")[0].appendChild(s);\n    }\n  };var element = document.getElementById(\"72a27a4b-9cba-4e19-b933-7f84e60b3752\");\n  if (element == null) {\n    console.log(\"Bokeh: ERROR: autoload.js configured with elementid '72a27a4b-9cba-4e19-b933-7f84e60b3752' but no matching script tag was found. \")\n    return false;\n  }\n\n  var js_urls = [\"https://cdn.pydata.org/bokeh/release/bokeh-0.12.13.min.js\", \"https://cdn.pydata.org/bokeh/release/bokeh-widgets-0.12.13.min.js\", \"https://cdn.pydata.org/bokeh/release/bokeh-tables-0.12.13.min.js\", \"https://cdn.pydata.org/bokeh/release/bokeh-gl-0.12.13.min.js\"];\n\n  var inline_js = [\n    function(Bokeh) {\n      Bokeh.set_log_level(\"info\");\n    },\n    \n    function(Bokeh) {\n      \n    },\n    function(Bokeh) {\n      console.log(\"Bokeh: injecting CSS: https://cdn.pydata.org/bokeh/release/bokeh-0.12.13.min.css\");\n      Bokeh.embed.inject_css(\"https://cdn.pydata.org/bokeh/release/bokeh-0.12.13.min.css\");\n      console.log(\"Bokeh: injecting CSS: https://cdn.pydata.org/bokeh/release/bokeh-widgets-0.12.13.min.css\");\n      Bokeh.embed.inject_css(\"https://cdn.pydata.org/bokeh/release/bokeh-widgets-0.12.13.min.css\");\n      console.log(\"Bokeh: injecting CSS: https://cdn.pydata.org/bokeh/release/bokeh-tables-0.12.13.min.css\");\n      Bokeh.embed.inject_css(\"https://cdn.pydata.org/bokeh/release/bokeh-tables-0.12.13.min.css\");\n    }\n  ];\n\n  function run_inline_js() {\n    \n    if ((root.Bokeh !== undefined) || (force === true)) {\n      for (var i = 0; i < inline_js.length; i++) {\n        inline_js[i].call(root, root.Bokeh);\n      }if (force === true) {\n        display_loaded();\n      }} else if (Date.now() < root._bokeh_timeout) {\n      setTimeout(run_inline_js, 100);\n    } else if (!root._bokeh_failed_load) {\n      console.log(\"Bokeh: BokehJS failed to load within specified timeout.\");\n      root._bokeh_failed_load = true;\n    } else if (force !== true) {\n      var cell = $(document.getElementById(\"72a27a4b-9cba-4e19-b933-7f84e60b3752\")).parents('.cell').data().cell;\n      cell.output_area.append_execute_result(NB_LOAD_WARNING)\n    }\n\n  }\n\n  if (root._bokeh_is_loading === 0) {\n    console.log(\"Bokeh: BokehJS loaded, going straight to plotting\");\n    run_inline_js();\n  } else {\n    load_libs(js_urls, function() {\n      console.log(\"Bokeh: BokehJS plotting callback run at\", now());\n      run_inline_js();\n    });\n  }\n}(window));"
     },
     "metadata": {},
     "output_type": "display_data"
    }
   ],
   "source": [
    "from bokeh.io import output_notebook, push_notebook\n",
    "output_notebook()"
   ]
  },
  {
   "cell_type": "code",
   "execution_count": 152,
   "metadata": {},
   "outputs": [
    {
     "name": "stdout",
     "output_type": "stream",
     "text": [
      "Num +ve instances: (762, 5)\n",
      "Num -ve instances: (610, 5)\n"
     ]
    }
   ],
   "source": [
    "df=pd.read_csv('./Datasets/data_banknote_authentication.txt',header=None)\n",
    "df.columns=['variance','skewness','curtosis','entropy','target']\n",
    "\n",
    "real_data=df[df['target']==0]\n",
    "fake_data=df[df['target']==1]\n",
    "#real_data - assume to be actual data.\n",
    "#fake data - assume to be outliers.\n",
    "print(\"Num +ve instances:\",real_data.shape)\n",
    "print(\"Num -ve instances:\",fake_data.shape)"
   ]
  },
  {
   "cell_type": "code",
   "execution_count": 153,
   "metadata": {},
   "outputs": [
    {
     "name": "stdout",
     "output_type": "stream",
     "text": [
      "Reduced number of instances of fake_data: (61, 5)\n"
     ]
    }
   ],
   "source": [
    "#sample -ve to 60.\n",
    "#pick every 10th point.\n",
    "fake_data=fake_data.iloc[::10,:]\n",
    "print(\"Reduced number of instances of fake_data:\",fake_data.shape)"
   ]
  },
  {
   "cell_type": "code",
   "execution_count": 154,
   "metadata": {},
   "outputs": [
    {
     "name": "stdout",
     "output_type": "stream",
     "text": [
      "Final data shape (823, 5)\n",
      "Dataset shape: (823, 5)\n",
      "features shape: (823, 4) (823,)\n"
     ]
    }
   ],
   "source": [
    "#get the t-sne for the original data,actual target and store in CDS for bokeh.\n",
    "original_data=pd.concat([real_data,fake_data],axis=0)\n",
    "print(\"Final data shape\",original_data.shape)\n",
    "\n",
    "#convert it into dataset which is a numpy matrix.\n",
    "dataset=original_data.as_matrix()\n",
    "print(\"Dataset shape:\",dataset.shape)\n",
    "\n",
    "#get features as the first 4 columns and target as the last column.\n",
    "features=dataset[:,:4]\n",
    "labels=dataset[:,-1]\n",
    "print(\"features shape:\",features.shape,labels.shape)"
   ]
  },
  {
   "cell_type": "code",
   "execution_count": 155,
   "metadata": {
    "collapsed": true
   },
   "outputs": [],
   "source": [
    "def get_num_neighbors(dist_list,radius=5):\n",
    "    dist_=[False]*len(dist_list)\n",
    "    dist_=[True for l in dist_list if l<=radius]\n",
    "    return sum(dist_)\n",
    "\n",
    "def LOC_Score(point,data):\n",
    "    #compute loc score of a point with all other points.\n",
    "    #use euclidean distance and loc_score=(num points within a radius r=5)/total points\n",
    "    #the more dense neighborhood - higher score. less likely to be an outlier.\n",
    "    dist_mat=cdist(point,data,'euclidean')\n",
    "    dist_mat=sorted(dist_mat.tolist()[0])\n",
    "    total_neigh=len(dist_mat)\n",
    "    num_neigh=get_num_neighbors(dist_mat,5)\n",
    "    score=num_neigh/total_neigh\n",
    "    #print(\"Num neighbors within r=5\",num_neigh)\n",
    "    #print(\"Score of the point:\",score)\n",
    "    return score\n",
    "\n",
    "def get_loc_scores(feats): \n",
    "    #feats - features matrix with shape NxF\n",
    "    loc_scores_all_features=[]\n",
    "    for i in range(feats.shape[0]):\n",
    "        score=LOC_Score(feats[i,:].reshape(-1,feats.shape[1]),feats)\n",
    "        loc_scores_all_features.append(score) \n",
    "    return loc_scores_all_features\n",
    "\n",
    "loc_scores_all_features=get_loc_scores(features)"
   ]
  },
  {
   "cell_type": "code",
   "execution_count": 156,
   "metadata": {},
   "outputs": [
    {
     "name": "stdout",
     "output_type": "stream",
     "text": [
      "MAx of outliers:  0.24787363304981774\n",
      "Min of real points:  0.020656136087484813\n"
     ]
    }
   ],
   "source": [
    "outlier_scores=loc_scores_all_features[-61:]\n",
    "real_scores=loc_scores_all_features[:-61]\n",
    "print(\"MAx of outliers: \",max(loc_scores_all_features[-61:]))\n",
    "print(\"Min of real points: \",min(loc_scores_all_features[:-61]))"
   ]
  },
  {
   "cell_type": "code",
   "execution_count": 157,
   "metadata": {
    "collapsed": true
   },
   "outputs": [],
   "source": [
    "thresholds=[0.1,0.2,0.3,0.4,0.5,0.6,0.7,0.8,0.9]"
   ]
  },
  {
   "cell_type": "code",
   "execution_count": 158,
   "metadata": {
    "collapsed": true
   },
   "outputs": [],
   "source": [
    "def classify_point(score,th):\n",
    "    #for different thresholds of scores - give differnt results\n",
    "    #false negative rate vs false positive rate\n",
    "    if(score<=th):\n",
    "        return 1 #outlier\n",
    "    else:\n",
    "        return 0 #real point\n",
    "\n",
    "def get_pred(scores,th):\n",
    "    #scores - scores matrix with the predicted LOC scores.\n",
    "    #th - to use as guide for classification.\n",
    "    pred_=[]\n",
    "    for score in scores:\n",
    "        pred_.append(classify_point(score,th)) \n",
    "    return pred_\n",
    "\n",
    "def get_predictions(scores):\n",
    "    preds=[[] for _ in range(len(thresholds))]\n",
    "    for i,th in enumerate(thresholds):\n",
    "        preds[i]= get_pred(scores,th)\n",
    "    return preds    \n",
    "\n",
    "#preds - list of lists with predictions for different thresholds.\n",
    "preds=get_predictions(loc_scores_all_features)       \n"
   ]
  },
  {
   "cell_type": "code",
   "execution_count": 159,
   "metadata": {
    "collapsed": true
   },
   "outputs": [],
   "source": [
    "def calculate_TP(y_true,y_pred):\n",
    "    #compute with respect to ouliers. - class 1\n",
    "    #num_true==1,num_pred==1 and (num_pred==num_true)\n",
    "    num_true=(y_true==1)\n",
    "    num_pred=(np.array(y_pred)==1)\n",
    "    #print(num_true,num_pred)\n",
    "    return sum(num_true==num_pred)\n",
    "\n",
    "def calculate_FP(y_true,y_pred):\n",
    "    #compute with respect to ouliers. - class 1\n",
    "    #num_true==0,num_pred==1 and (num_pred==num_true)\n",
    "    num_true=(np.array(y_true)==0)\n",
    "    num_pred=(np.array(y_pred)==1)\n",
    "    #print(num_true,num_pred)\n",
    "    return sum(num_true==num_pred)\n",
    "\n",
    "def calculate_FN(y_true,y_pred):\n",
    "    #compute with respect to ouliers. - class 1\n",
    "    #num_true==0,num_pred==1 and (num_pred==num_true)\n",
    "    num_true=(np.array(y_true)==1)\n",
    "    num_pred=(np.array(y_pred)==0)\n",
    "    #print(num_true,num_pred)\n",
    "    return sum(num_true==num_pred)\n",
    "\n",
    "def calculate_TN(y_true,y_pred):\n",
    "    #compute with respect to ouliers. - class 1\n",
    "    #num_true==0,num_pred==1 and (num_pred==num_true)\n",
    "    num_true=(np.array(y_true)==0)\n",
    "    num_pred=(np.array(y_pred)==0)\n",
    "    #print(num_true,num_pred)\n",
    "    return sum(num_true==num_pred)\n",
    "\n",
    "def get_rates(preds):\n",
    "    detection_rate=[]\n",
    "    false_rate=[]  \n",
    "    for pred in preds:\n",
    "        tp=calculate_TP(labels,pred)\n",
    "        fn=calculate_FN(labels,pred)\n",
    "        dr=tp/(tp+fn)\n",
    "        detection_rate.append(dr)\n",
    "    \n",
    "        tn=calculate_TN(labels,pred)\n",
    "        fp=calculate_FP(labels,pred)\n",
    "        fr=fp/(fp+tn)\n",
    "        false_rate.append(fr)\n",
    "        #print(tp,fn,dr,tn,fp,fr)\n",
    "    return (detection_rate,false_rate)\n",
    "\n",
    "detection_rate,false_rate=get_rates(preds)"
   ]
  },
  {
   "cell_type": "code",
   "execution_count": 160,
   "metadata": {},
   "outputs": [],
   "source": [
    "def get_Nt_Features():\n",
    "    nt=4\n",
    "    global features\n",
    "    total=range(features.shape[1]) #5\n",
    "    Nt=np.random.choice(total,nt,replace=False)   \n",
    "    return Nt\n",
    "\n",
    "def get_Ft_Features(Nt):\n",
    "    #random within Nt - without replacement.\n",
    "    ft=3\n",
    "    return np.random.choice(Nt,ft,replace=False)\n",
    "\n",
    "def cumsum(scores_mat):\n",
    "    #scores_mat - np.array of shape TxN where\n",
    "    #T- Num of algorithms\n",
    "    #N- number of data points.\n",
    "    return np.mean(scores_mat,axis=0)\n",
    "\n",
    "def breadth_first(scores_mat,idxs_mat):\n",
    "    ranked_prob=[]\n",
    "    ranked_score=[]\n",
    "    #scores_mat - np.array of shape TxN where sorted scores.\n",
    "    #idxs_mat - np.array of hape TxN with ids of max score.\n",
    "    for t in range(scores_mat.shape[0]):\n",
    "        for m in range(scores_mat.shape[1]):\n",
    "            if(idxs_mat[t,m] not in ranked_prob):\n",
    "                ranked_prob.append(idxs_mat[t,m])\n",
    "                ranked_score.append(scores_mat[t,m])\n",
    "                \n",
    "    return (ranked_prob,ranked_score)            \n",
    "            \n",
    "\n",
    "#T- number of Outlier detection algorithms.\n",
    "T=10\n",
    "chosen_features=[[] for _ in range(T)]\n",
    "algo_loc_scores=[[] for _ in range(T)]\n",
    "for t in range(T):\n",
    "    Nt=get_Nt_Features()\n",
    "    Ft=get_Ft_Features(Nt)\n",
    "    chosen_features[t]=Ft\n",
    "    feats=features[:,Ft]\n",
    "    algo_loc_scores[t]=get_loc_scores(feats)"
   ]
  },
  {
   "cell_type": "code",
   "execution_count": 161,
   "metadata": {
    "collapsed": true
   },
   "outputs": [],
   "source": [
    "algo_loc_scores=np.array(algo_loc_scores)\n",
    "def sort_scores(scores):\n",
    "    sorted_scores=scores\n",
    "    sorted_idxs=list(range(len(scores)))\n",
    "    #insertion sort - like playing cards.\n",
    "    for i in range(len(scores)):\n",
    "        max_=scores[i]\n",
    "        for j in range(i+1,len(scores)):\n",
    "            if(scores[j]> max_):\n",
    "                sorted_scores[i]=sorted_scores[j]\n",
    "                sorted_scores[j]=max_\n",
    "                max_=sorted_scores[i]\n",
    "                \n",
    "                tmp=sorted_idxs[j]\n",
    "                sorted_idxs[j]=sorted_idxs[i]\n",
    "                sorted_idxs[i]=tmp \n",
    "                \n",
    "                \n",
    "    return (sorted_scores,sorted_idxs)           \n",
    "        \n",
    "sorted_algo_loc_scores=[]\n",
    "sorted_algo_loc_idxs=[]\n",
    "for scores in algo_loc_scores:\n",
    "    sorted_scores,sorted_idxs=sort_scores(scores)\n",
    "    sorted_algo_loc_scores.append(sorted_scores)\n",
    "    sorted_algo_loc_idxs.append(sorted_idxs)    "
   ]
  },
  {
   "cell_type": "code",
   "execution_count": 162,
   "metadata": {},
   "outputs": [
    {
     "name": "stdout",
     "output_type": "stream",
     "text": [
      "(10, 823) (10, 823)\n"
     ]
    }
   ],
   "source": [
    "sorted_algo_loc_scores=np.array(sorted_algo_loc_scores)\n",
    "sorted_algo_loc_idxs=np.array(sorted_algo_loc_idxs)\n",
    "print(sorted_algo_loc_scores.shape,sorted_algo_loc_idxs.shape)"
   ]
  },
  {
   "cell_type": "code",
   "execution_count": 163,
   "metadata": {
    "collapsed": true
   },
   "outputs": [],
   "source": [
    "cumsum_scores=cumsum(algo_loc_scores)\n",
    "ranked_prob,ranked_score=breadth_first(sorted_algo_loc_scores,sorted_algo_loc_idxs)\n",
    "\n",
    "def rearrange_scores(idxs,scores):\n",
    "    rearranged=[0]*len(idxs)\n",
    "    for n_i,i in enumerate(idxs):\n",
    "        rearranged[n_i]=scores[idxs[i]]\n",
    "    return rearranged\n",
    "\n",
    "bf_scores=rearrange_scores(ranked_prob,ranked_score)\n",
    "\n",
    "preds_cumsum=get_predictions(cumsum_scores)\n",
    "det_rate_cumsum,false_rate_cumsum=get_rates(preds_cumsum)\n",
    "\n",
    "preds_bf=get_predictions(bf_scores)\n",
    "det_rate_bf,false_rate_bf=get_rates(preds_bf)"
   ]
  },
  {
   "cell_type": "code",
   "execution_count": 168,
   "metadata": {},
   "outputs": [
    {
     "name": "stdout",
     "output_type": "stream",
     "text": [
      "0.1 0.88092345079 0.98177399757 0.89914945322\n",
      "0.2 0.710814094775 0.886998784933 0.811664641555\n",
      "0.3 0.38517618469 0.735115431349 0.629404617254\n",
      "0.4 0.0741190765492 0.469015795869 0.352369380316\n",
      "0.5 0.0741190765492 0.15552855407 0.0741190765492\n",
      "0.6 0.0741190765492 0.0741190765492 0.0741190765492\n",
      "0.7 0.0741190765492 0.0741190765492 0.0741190765492\n",
      "0.8 0.0741190765492 0.0741190765492 0.0741190765492\n",
      "0.9 0.0741190765492 0.0741190765492 0.0741190765492\n",
      "******************\n",
      "0.1 0.11907654921 0.0182260024301 0.10085054678\n",
      "0.2 0.289185905225 0.113001215067 0.188335358445\n",
      "0.3 0.61482381531 0.264884568651 0.370595382746\n",
      "0.4 0.925880923451 0.530984204131 0.647630619684\n",
      "0.5 0.925880923451 0.84447144593 0.925880923451\n",
      "0.6 0.925880923451 0.925880923451 0.925880923451\n",
      "0.7 0.925880923451 0.925880923451 0.925880923451\n",
      "0.8 0.925880923451 0.925880923451 0.925880923451\n",
      "0.9 0.925880923451 0.925880923451 0.925880923451\n"
     ]
    }
   ],
   "source": [
    "def print_lists(l1,l2,l3):\n",
    "    for i in range(len(l1)):\n",
    "        print(thresholds[i],l1[i],l2[i],l3[i])\n",
    "\n",
    "print_lists(detection_rate,det_rate_cumsum,det_rate_bf)\n",
    "print('******************')\n",
    "print_lists(false_rate,false_rate_cumsum,false_rate_bf)"
   ]
  },
  {
   "cell_type": "code",
   "execution_count": 143,
   "metadata": {},
   "outputs": [
    {
     "data": {
      "text/html": [
       "\n",
       "<div class=\"bk-root\">\n",
       "    <div class=\"bk-plotdiv\" id=\"85c40e0c-c31d-4872-92b0-0abc6bcd1c83\"></div>\n",
       "</div>"
      ]
     },
     "metadata": {},
     "output_type": "display_data"
    },
    {
     "data": {
      "application/javascript": [
       "(function(root) {\n",
       "  function embed_document(root) {\n",
       "    \n",
       "  var docs_json = {\"64085866-f674-4eea-ba37-6d71f2e74225\":{\"roots\":{\"references\":[{\"attributes\":{\"callback\":null,\"column_names\":[\"dr\",\"fr\",\"dr_c\",\"fr_c\",\"dr_bf\",\"fr_bf\"],\"data\":{\"dr\":[0.8809234507897934,0.7108140947752126,0.38517618469015796,0.07411907654921021,0.07411907654921021,0.07411907654921021,0.07411907654921021,0.07411907654921021,0.07411907654921021],\"dr_bf\":[0.8675577156743621,0.7509113001215066,0.560145808019441,0.275820170109356,0.07411907654921021,0.07411907654921021,0.07411907654921021,0.07411907654921021,0.07411907654921021],\"dr_c\":[0.9307411907654921,0.8371810449574727,0.7023086269744836,0.4131227217496962,0.07897934386391252,0.07411907654921021,0.07411907654921021,0.07411907654921021,0.07411907654921021],\"fr\":[0.11907654921020656,0.2891859052247874,0.6148238153098421,0.9258809234507898,0.9258809234507898,0.9258809234507898,0.9258809234507898,0.9258809234507898,0.9258809234507898],\"fr_bf\":[0.1324422843256379,0.24908869987849333,0.4398541919805589,0.724179829890644,0.9258809234507898,0.9258809234507898,0.9258809234507898,0.9258809234507898,0.9258809234507898],\"fr_c\":[0.0692588092345079,0.16281895504252733,0.2976913730255164,0.5868772782503038,0.9210206561360875,0.9258809234507898,0.9258809234507898,0.9258809234507898,0.9258809234507898]}},\"id\":\"1854482b-7b5f-45b6-9246-6bc23c126785\",\"type\":\"ColumnDataSource\"},{\"attributes\":{\"line_color\":\"red\",\"x\":{\"field\":\"fr\"},\"y\":{\"field\":\"dr\"}},\"id\":\"cd094853-4f6d-43a3-b47d-aaea141ac573\",\"type\":\"Line\"},{\"attributes\":{},\"id\":\"afd3c793-cf68-45ed-bedf-426480e165aa\",\"type\":\"LinearScale\"},{\"attributes\":{},\"id\":\"e2bdb8d2-27cc-49bf-bcb8-8de2cb67f5f6\",\"type\":\"BasicTicker\"},{\"attributes\":{\"axis_label\":\"False Rate\",\"formatter\":{\"id\":\"5736ce6d-1dff-49c8-b504-a5f11ed2134a\",\"type\":\"BasicTickFormatter\"},\"plot\":{\"id\":\"e04bfde4-c95d-4e77-af24-138be8fd1765\",\"subtype\":\"Figure\",\"type\":\"Plot\"},\"ticker\":{\"id\":\"e2bdb8d2-27cc-49bf-bcb8-8de2cb67f5f6\",\"type\":\"BasicTicker\"}},\"id\":\"37b1311a-4f44-4073-9d3a-bf506858019b\",\"type\":\"LinearAxis\"},{\"attributes\":{\"line_alpha\":0.1,\"line_color\":\"#1f77b4\",\"x\":{\"field\":\"fr_c\"},\"y\":{\"field\":\"dr_c\"}},\"id\":\"9f21fd4b-1d3c-4508-a445-2fb0fc70fcff\",\"type\":\"Line\"},{\"attributes\":{},\"id\":\"eed2c263-8eb5-41bc-ad3e-93573f098cb3\",\"type\":\"PanTool\"},{\"attributes\":{\"line_alpha\":0.1,\"line_color\":\"#1f77b4\",\"x\":{\"field\":\"fr_bf\"},\"y\":{\"field\":\"dr_bf\"}},\"id\":\"f5c056de-f20a-4703-b0ce-7d02dbdc74b8\",\"type\":\"Line\"},{\"attributes\":{\"source\":{\"id\":\"1854482b-7b5f-45b6-9246-6bc23c126785\",\"type\":\"ColumnDataSource\"}},\"id\":\"9bab188e-64a8-470e-8ebd-ec43779fc610\",\"type\":\"CDSView\"},{\"attributes\":{\"plot\":{\"id\":\"e04bfde4-c95d-4e77-af24-138be8fd1765\",\"subtype\":\"Figure\",\"type\":\"Plot\"},\"ticker\":{\"id\":\"e2bdb8d2-27cc-49bf-bcb8-8de2cb67f5f6\",\"type\":\"BasicTicker\"}},\"id\":\"bfb58c50-71f2-4450-99ed-dd65ad444604\",\"type\":\"Grid\"},{\"attributes\":{\"below\":[{\"id\":\"37b1311a-4f44-4073-9d3a-bf506858019b\",\"type\":\"LinearAxis\"}],\"left\":[{\"id\":\"be32b940-2c86-473e-89b9-9e42ecbe0c5f\",\"type\":\"LinearAxis\"}],\"plot_height\":400,\"plot_width\":500,\"renderers\":[{\"id\":\"37b1311a-4f44-4073-9d3a-bf506858019b\",\"type\":\"LinearAxis\"},{\"id\":\"bfb58c50-71f2-4450-99ed-dd65ad444604\",\"type\":\"Grid\"},{\"id\":\"be32b940-2c86-473e-89b9-9e42ecbe0c5f\",\"type\":\"LinearAxis\"},{\"id\":\"015effbd-af25-4f81-b245-3f7a11e4f1b0\",\"type\":\"Grid\"},{\"id\":\"4f850045-912d-4cfa-90ff-378d48ef7278\",\"type\":\"BoxAnnotation\"},{\"id\":\"3e49e0a5-6273-40cc-b022-d8e80cdcff5c\",\"type\":\"GlyphRenderer\"},{\"id\":\"674b4d77-24cb-4163-a5f0-79b49acf999f\",\"type\":\"GlyphRenderer\"},{\"id\":\"c6b51a2a-10dc-496b-87e9-5be3450c0f84\",\"type\":\"GlyphRenderer\"}],\"title\":{\"id\":\"9824a0f0-c386-42ea-a459-c2d5d8cf6177\",\"type\":\"Title\"},\"toolbar\":{\"id\":\"c922bf24-b94b-429e-8042-2dbb1e8d88ea\",\"type\":\"Toolbar\"},\"x_range\":{\"id\":\"294562b2-39d7-4c09-8905-511ec1232d9b\",\"type\":\"DataRange1d\"},\"x_scale\":{\"id\":\"cc3fdef8-c01d-4b0f-a909-6d16ded6397e\",\"type\":\"LinearScale\"},\"y_range\":{\"id\":\"6cea98d5-ab02-4516-b268-37a2adca74fe\",\"type\":\"DataRange1d\"},\"y_scale\":{\"id\":\"afd3c793-cf68-45ed-bedf-426480e165aa\",\"type\":\"LinearScale\"}},\"id\":\"e04bfde4-c95d-4e77-af24-138be8fd1765\",\"subtype\":\"Figure\",\"type\":\"Plot\"},{\"attributes\":{\"callback\":null},\"id\":\"6cea98d5-ab02-4516-b268-37a2adca74fe\",\"type\":\"DataRange1d\"},{\"attributes\":{\"plot\":null,\"text\":\"ROC curve\"},\"id\":\"9824a0f0-c386-42ea-a459-c2d5d8cf6177\",\"type\":\"Title\"},{\"attributes\":{},\"id\":\"f290c5b1-e33a-41c9-a460-c46109e0229e\",\"type\":\"BasicTickFormatter\"},{\"attributes\":{\"source\":{\"id\":\"1854482b-7b5f-45b6-9246-6bc23c126785\",\"type\":\"ColumnDataSource\"}},\"id\":\"07e17bee-934a-4e7a-9847-9b2cec0fcc4b\",\"type\":\"CDSView\"},{\"attributes\":{\"data_source\":{\"id\":\"1854482b-7b5f-45b6-9246-6bc23c126785\",\"type\":\"ColumnDataSource\"},\"glyph\":{\"id\":\"63f2c635-a3ac-479d-80ca-0c9de7065f0f\",\"type\":\"Line\"},\"hover_glyph\":null,\"muted_glyph\":null,\"nonselection_glyph\":{\"id\":\"f5c056de-f20a-4703-b0ce-7d02dbdc74b8\",\"type\":\"Line\"},\"selection_glyph\":null,\"view\":{\"id\":\"9bab188e-64a8-470e-8ebd-ec43779fc610\",\"type\":\"CDSView\"}},\"id\":\"c6b51a2a-10dc-496b-87e9-5be3450c0f84\",\"type\":\"GlyphRenderer\"},{\"attributes\":{},\"id\":\"cc3fdef8-c01d-4b0f-a909-6d16ded6397e\",\"type\":\"LinearScale\"},{\"attributes\":{\"overlay\":{\"id\":\"4f850045-912d-4cfa-90ff-378d48ef7278\",\"type\":\"BoxAnnotation\"}},\"id\":\"08e30d7a-b10a-4a31-9954-7b235adc20f5\",\"type\":\"BoxZoomTool\"},{\"attributes\":{},\"id\":\"b5d76f8c-eace-43e5-b323-9d41ab718541\",\"type\":\"ResetTool\"},{\"attributes\":{\"line_color\":\"lightblue\",\"x\":{\"field\":\"fr_bf\"},\"y\":{\"field\":\"dr_bf\"}},\"id\":\"63f2c635-a3ac-479d-80ca-0c9de7065f0f\",\"type\":\"Line\"},{\"attributes\":{\"callback\":null},\"id\":\"294562b2-39d7-4c09-8905-511ec1232d9b\",\"type\":\"DataRange1d\"},{\"attributes\":{},\"id\":\"c2d0bfa7-e5bf-4b17-811c-2f78e0329fab\",\"type\":\"BasicTicker\"},{\"attributes\":{\"line_alpha\":0.1,\"line_color\":\"#1f77b4\",\"x\":{\"field\":\"fr\"},\"y\":{\"field\":\"dr\"}},\"id\":\"6f0eefb8-c0a9-495a-a064-f4c98ade5974\",\"type\":\"Line\"},{\"attributes\":{\"active_drag\":\"auto\",\"active_inspect\":\"auto\",\"active_scroll\":\"auto\",\"active_tap\":\"auto\",\"tools\":[{\"id\":\"eed2c263-8eb5-41bc-ad3e-93573f098cb3\",\"type\":\"PanTool\"},{\"id\":\"533afa6b-8329-4b34-bdf5-cde401fa1222\",\"type\":\"WheelZoomTool\"},{\"id\":\"08e30d7a-b10a-4a31-9954-7b235adc20f5\",\"type\":\"BoxZoomTool\"},{\"id\":\"c4f1ab28-e060-4ebd-9ecb-2727a3eb1003\",\"type\":\"SaveTool\"},{\"id\":\"b5d76f8c-eace-43e5-b323-9d41ab718541\",\"type\":\"ResetTool\"},{\"id\":\"76f6e728-1e34-4275-b1a2-7a9501da4980\",\"type\":\"HelpTool\"}]},\"id\":\"c922bf24-b94b-429e-8042-2dbb1e8d88ea\",\"type\":\"Toolbar\"},{\"attributes\":{},\"id\":\"533afa6b-8329-4b34-bdf5-cde401fa1222\",\"type\":\"WheelZoomTool\"},{\"attributes\":{\"axis_label\":\"Detection Rate\",\"formatter\":{\"id\":\"f290c5b1-e33a-41c9-a460-c46109e0229e\",\"type\":\"BasicTickFormatter\"},\"plot\":{\"id\":\"e04bfde4-c95d-4e77-af24-138be8fd1765\",\"subtype\":\"Figure\",\"type\":\"Plot\"},\"ticker\":{\"id\":\"c2d0bfa7-e5bf-4b17-811c-2f78e0329fab\",\"type\":\"BasicTicker\"}},\"id\":\"be32b940-2c86-473e-89b9-9e42ecbe0c5f\",\"type\":\"LinearAxis\"},{\"attributes\":{\"data_source\":{\"id\":\"1854482b-7b5f-45b6-9246-6bc23c126785\",\"type\":\"ColumnDataSource\"},\"glyph\":{\"id\":\"cd094853-4f6d-43a3-b47d-aaea141ac573\",\"type\":\"Line\"},\"hover_glyph\":null,\"muted_glyph\":null,\"nonselection_glyph\":{\"id\":\"6f0eefb8-c0a9-495a-a064-f4c98ade5974\",\"type\":\"Line\"},\"selection_glyph\":null,\"view\":{\"id\":\"4056fb96-f19f-4cd6-8c08-8a324a38be1a\",\"type\":\"CDSView\"}},\"id\":\"3e49e0a5-6273-40cc-b022-d8e80cdcff5c\",\"type\":\"GlyphRenderer\"},{\"attributes\":{\"data_source\":{\"id\":\"1854482b-7b5f-45b6-9246-6bc23c126785\",\"type\":\"ColumnDataSource\"},\"glyph\":{\"id\":\"b1103cdf-c8ba-489e-906d-0d71c80e5a74\",\"type\":\"Line\"},\"hover_glyph\":null,\"muted_glyph\":null,\"nonselection_glyph\":{\"id\":\"9f21fd4b-1d3c-4508-a445-2fb0fc70fcff\",\"type\":\"Line\"},\"selection_glyph\":null,\"view\":{\"id\":\"07e17bee-934a-4e7a-9847-9b2cec0fcc4b\",\"type\":\"CDSView\"}},\"id\":\"674b4d77-24cb-4163-a5f0-79b49acf999f\",\"type\":\"GlyphRenderer\"},{\"attributes\":{\"source\":{\"id\":\"1854482b-7b5f-45b6-9246-6bc23c126785\",\"type\":\"ColumnDataSource\"}},\"id\":\"4056fb96-f19f-4cd6-8c08-8a324a38be1a\",\"type\":\"CDSView\"},{\"attributes\":{},\"id\":\"5736ce6d-1dff-49c8-b504-a5f11ed2134a\",\"type\":\"BasicTickFormatter\"},{\"attributes\":{\"bottom_units\":\"screen\",\"fill_alpha\":{\"value\":0.5},\"fill_color\":{\"value\":\"lightgrey\"},\"left_units\":\"screen\",\"level\":\"overlay\",\"line_alpha\":{\"value\":1.0},\"line_color\":{\"value\":\"black\"},\"line_dash\":[4,4],\"line_width\":{\"value\":2},\"plot\":null,\"render_mode\":\"css\",\"right_units\":\"screen\",\"top_units\":\"screen\"},\"id\":\"4f850045-912d-4cfa-90ff-378d48ef7278\",\"type\":\"BoxAnnotation\"},{\"attributes\":{},\"id\":\"c4f1ab28-e060-4ebd-9ecb-2727a3eb1003\",\"type\":\"SaveTool\"},{\"attributes\":{\"dimension\":1,\"plot\":{\"id\":\"e04bfde4-c95d-4e77-af24-138be8fd1765\",\"subtype\":\"Figure\",\"type\":\"Plot\"},\"ticker\":{\"id\":\"c2d0bfa7-e5bf-4b17-811c-2f78e0329fab\",\"type\":\"BasicTicker\"}},\"id\":\"015effbd-af25-4f81-b245-3f7a11e4f1b0\",\"type\":\"Grid\"},{\"attributes\":{},\"id\":\"76f6e728-1e34-4275-b1a2-7a9501da4980\",\"type\":\"HelpTool\"},{\"attributes\":{\"line_color\":\"blue\",\"x\":{\"field\":\"fr_c\"},\"y\":{\"field\":\"dr_c\"}},\"id\":\"b1103cdf-c8ba-489e-906d-0d71c80e5a74\",\"type\":\"Line\"}],\"root_ids\":[\"e04bfde4-c95d-4e77-af24-138be8fd1765\"]},\"title\":\"Bokeh Application\",\"version\":\"0.12.13\"}};\n",
       "  var render_items = [{\"docid\":\"64085866-f674-4eea-ba37-6d71f2e74225\",\"elementid\":\"85c40e0c-c31d-4872-92b0-0abc6bcd1c83\",\"modelid\":\"e04bfde4-c95d-4e77-af24-138be8fd1765\"}];\n",
       "  root.Bokeh.embed.embed_items_notebook(docs_json, render_items);\n",
       "\n",
       "  }\n",
       "  if (root.Bokeh !== undefined) {\n",
       "    embed_document(root);\n",
       "  } else {\n",
       "    var attempts = 0;\n",
       "    var timer = setInterval(function(root) {\n",
       "      if (root.Bokeh !== undefined) {\n",
       "        embed_document(root);\n",
       "        clearInterval(timer);\n",
       "      }\n",
       "      attempts++;\n",
       "      if (attempts > 100) {\n",
       "        console.log(\"Bokeh: ERROR: Unable to run BokehJS code because BokehJS library is missing\")\n",
       "        clearInterval(timer);\n",
       "      }\n",
       "    }, 10, root)\n",
       "  }\n",
       "})(window);"
      ],
      "application/vnd.bokehjs_exec.v0+json": ""
     },
     "metadata": {
      "application/vnd.bokehjs_exec.v0+json": {
       "id": "e04bfde4-c95d-4e77-af24-138be8fd1765"
      }
     },
     "output_type": "display_data"
    }
   ],
   "source": [
    "source=ColumnDataSource(data=dict(dr=detection_rate,fr=false_rate,dr_c=det_rate_cumsum,fr_c=false_rate_cumsum,\\\n",
    "                       dr_bf=det_rate_bf,fr_bf=false_rate_bf))\n",
    "\n",
    "plot=figure(plot_width=500,plot_height=400,x_axis_label='False Rate',y_axis_label='Detection Rate',title='ROC curve')\n",
    "plot.line('fr','dr',source=source,line_color='red')\n",
    "plot.line('fr_c','dr_c',source=source,line_color='blue')\n",
    "plot.line('fr_bf','dr_bf',source=source,line_color='lightblue')\n",
    "show(plot)"
   ]
  },
  {
   "cell_type": "code",
   "execution_count": 149,
   "metadata": {},
   "outputs": [
    {
     "data": {
      "text/html": [
       "\n",
       "<div class=\"bk-root\">\n",
       "    <div class=\"bk-plotdiv\" id=\"71878439-b39b-4266-9f5f-832e4f70a5c5\"></div>\n",
       "</div>"
      ]
     },
     "metadata": {},
     "output_type": "display_data"
    },
    {
     "data": {
      "application/javascript": [
       "(function(root) {\n",
       "  function embed_document(root) {\n",
       "    \n",
       "  var docs_json = {\"915ca171-01ce-4163-99a3-127d0f9adc20\":{\"roots\":{\"references\":[{\"attributes\":{\"plot\":{\"id\":\"fe021f39-59bb-401d-9805-49d8cca250e8\",\"subtype\":\"Figure\",\"type\":\"Plot\"},\"ticker\":{\"id\":\"8a4a0ef7-a915-4204-8b4f-87f606115ee3\",\"type\":\"BasicTicker\"}},\"id\":\"59047e80-85bb-4036-973c-2f3c1dd91971\",\"type\":\"Grid\"},{\"attributes\":{\"data_source\":{\"id\":\"3fedf39d-6324-4450-9f23-30346e813d79\",\"type\":\"ColumnDataSource\"},\"glyph\":{\"id\":\"e794a6aa-250f-4e98-9c4c-a84df970cfcd\",\"type\":\"Circle\"},\"hover_glyph\":null,\"muted_glyph\":null,\"nonselection_glyph\":{\"id\":\"469422e4-7044-44b8-b1be-4df9351e3b9b\",\"type\":\"Circle\"},\"selection_glyph\":null,\"view\":{\"id\":\"6235857c-92d5-4d8a-8aa9-6526e87d4139\",\"type\":\"CDSView\"}},\"id\":\"a85ce688-1560-4776-8a1e-3d1668932bcc\",\"type\":\"GlyphRenderer\"},{\"attributes\":{},\"id\":\"ff7e1026-20d6-4579-b232-0d53505c0c80\",\"type\":\"BasicTickFormatter\"},{\"attributes\":{\"data_source\":{\"id\":\"3fedf39d-6324-4450-9f23-30346e813d79\",\"type\":\"ColumnDataSource\"},\"glyph\":{\"id\":\"a9db96e5-1af3-4ba5-83c8-7e028cad030b\",\"type\":\"Circle\"},\"hover_glyph\":null,\"muted_glyph\":null,\"nonselection_glyph\":{\"id\":\"25773921-6132-4903-889e-f6ffc7c42178\",\"type\":\"Circle\"},\"selection_glyph\":null,\"view\":{\"id\":\"04eb8456-3fd3-4d33-b890-4191bf941bf7\",\"type\":\"CDSView\"}},\"id\":\"d7487e9c-ab73-46be-ab22-5cc4b4534eda\",\"type\":\"GlyphRenderer\"},{\"attributes\":{\"bottom_units\":\"screen\",\"fill_alpha\":{\"value\":0.5},\"fill_color\":{\"value\":\"lightgrey\"},\"left_units\":\"screen\",\"level\":\"overlay\",\"line_alpha\":{\"value\":1.0},\"line_color\":{\"value\":\"black\"},\"line_dash\":[4,4],\"line_width\":{\"value\":2},\"plot\":null,\"render_mode\":\"css\",\"right_units\":\"screen\",\"top_units\":\"screen\"},\"id\":\"694fdda5-c593-4361-9a69-b8826d26479d\",\"type\":\"BoxAnnotation\"},{\"attributes\":{},\"id\":\"a60ab5fb-d332-4c1d-b46f-8558d65d06f0\",\"type\":\"PanTool\"},{\"attributes\":{\"source\":{\"id\":\"3fedf39d-6324-4450-9f23-30346e813d79\",\"type\":\"ColumnDataSource\"}},\"id\":\"6235857c-92d5-4d8a-8aa9-6526e87d4139\",\"type\":\"CDSView\"},{\"attributes\":{},\"id\":\"6557c02b-4b7c-4b1d-b811-cc2d86cdbab8\",\"type\":\"WheelZoomTool\"},{\"attributes\":{\"overlay\":{\"id\":\"694fdda5-c593-4361-9a69-b8826d26479d\",\"type\":\"BoxAnnotation\"}},\"id\":\"a70cf5d3-209f-4bda-8ffb-e436f3a5ca8c\",\"type\":\"BoxZoomTool\"},{\"attributes\":{\"formatter\":{\"id\":\"97070d01-d543-4758-84b4-cde776b20ab5\",\"type\":\"BasicTickFormatter\"},\"plot\":{\"id\":\"fe021f39-59bb-401d-9805-49d8cca250e8\",\"subtype\":\"Figure\",\"type\":\"Plot\"},\"ticker\":{\"id\":\"1b19f442-d944-490f-a377-1c2739c948f2\",\"type\":\"BasicTicker\"}},\"id\":\"97624773-144a-4725-8c4b-9ae4f5212400\",\"type\":\"LinearAxis\"},{\"attributes\":{},\"id\":\"5410669c-da63-4edb-ab8b-0d632ff295a8\",\"type\":\"SaveTool\"},{\"attributes\":{},\"id\":\"c72e5dcd-624b-4631-a529-534076bd6e8d\",\"type\":\"ResetTool\"},{\"attributes\":{},\"id\":\"e829f547-9228-41b8-917b-7e89c0e98cec\",\"type\":\"HelpTool\"},{\"attributes\":{\"active_drag\":\"auto\",\"active_inspect\":\"auto\",\"active_scroll\":\"auto\",\"active_tap\":\"auto\",\"tools\":[{\"id\":\"ce532069-aaec-4c9d-b4b9-11e682f7cb88\",\"type\":\"PanTool\"},{\"id\":\"9767ea5c-bfc5-4201-bac1-b592929190d6\",\"type\":\"WheelZoomTool\"},{\"id\":\"fd0a0669-847d-49c5-bc64-c9336e04ac42\",\"type\":\"BoxZoomTool\"},{\"id\":\"8ccaa3a7-d6a2-46ef-8de9-276ef5c289cf\",\"type\":\"SaveTool\"},{\"id\":\"2d4ca0f4-0067-47e3-8252-043889a473a8\",\"type\":\"ResetTool\"},{\"id\":\"8f1ae472-e49b-471a-98bc-b78d7a27206e\",\"type\":\"HelpTool\"}]},\"id\":\"129816e2-44ce-4180-accd-996e03ae8499\",\"type\":\"Toolbar\"},{\"attributes\":{},\"id\":\"97070d01-d543-4758-84b4-cde776b20ab5\",\"type\":\"BasicTickFormatter\"},{\"attributes\":{\"plot\":null,\"text\":\"\"},\"id\":\"4d00c2c3-28e2-41f6-9c3b-b0f3c7582577\",\"type\":\"Title\"},{\"attributes\":{\"dimension\":1,\"plot\":{\"id\":\"fe021f39-59bb-401d-9805-49d8cca250e8\",\"subtype\":\"Figure\",\"type\":\"Plot\"},\"ticker\":{\"id\":\"1b19f442-d944-490f-a377-1c2739c948f2\",\"type\":\"BasicTicker\"}},\"id\":\"51804211-cb2b-4810-9fd8-60d5b615e567\",\"type\":\"Grid\"},{\"attributes\":{\"callback\":null},\"id\":\"1d49c43d-9245-4a3a-9e5f-089fb2706723\",\"type\":\"DataRange1d\"},{\"attributes\":{\"formatter\":{\"id\":\"4c8ee34d-90cb-4bb6-9bc7-03655f478eaf\",\"type\":\"BasicTickFormatter\"},\"plot\":{\"id\":\"566ee9b2-4606-46e4-8293-794ae0c0789b\",\"subtype\":\"Figure\",\"type\":\"Plot\"},\"ticker\":{\"id\":\"8db83454-8cdc-4118-a374-7cf8c03bc160\",\"type\":\"BasicTicker\"}},\"id\":\"24e7128e-3f17-4298-8432-b6402a7b7db6\",\"type\":\"LinearAxis\"},{\"attributes\":{\"plot\":{\"id\":\"566ee9b2-4606-46e4-8293-794ae0c0789b\",\"subtype\":\"Figure\",\"type\":\"Plot\"},\"ticker\":{\"id\":\"319c243f-299c-43f1-9196-0d05b94a3335\",\"type\":\"BasicTicker\"}},\"id\":\"bbef134f-2e3b-4d4e-b92e-9ef863fa81b5\",\"type\":\"Grid\"},{\"attributes\":{},\"id\":\"cff209b1-9f2f-4ee1-b58b-d7f289e24459\",\"type\":\"BasicTickFormatter\"},{\"attributes\":{},\"id\":\"8405bba3-c257-4c44-859b-29bf484e370d\",\"type\":\"LinearScale\"},{\"attributes\":{\"below\":[{\"id\":\"ecd9708d-a24d-4c32-8d41-109dc6eca3fd\",\"type\":\"LinearAxis\"}],\"left\":[{\"id\":\"2114fa9f-11b3-46a6-9ccc-77dc9db62566\",\"type\":\"LinearAxis\"}],\"plot_height\":400,\"plot_width\":500,\"renderers\":[{\"id\":\"ecd9708d-a24d-4c32-8d41-109dc6eca3fd\",\"type\":\"LinearAxis\"},{\"id\":\"3097e30c-b61a-4b10-81a6-70f8ef3672a0\",\"type\":\"Grid\"},{\"id\":\"2114fa9f-11b3-46a6-9ccc-77dc9db62566\",\"type\":\"LinearAxis\"},{\"id\":\"885d7708-a638-40dd-bb66-586de528ed43\",\"type\":\"Grid\"},{\"id\":\"7fa0368d-46bf-4d26-b9e7-20119473746d\",\"type\":\"BoxAnnotation\"},{\"id\":\"fc0ae098-326a-4d60-bca7-007b145d39c9\",\"type\":\"GlyphRenderer\"}],\"title\":{\"id\":\"8e365693-5913-4bf4-bb56-59fa4b57b205\",\"type\":\"Title\"},\"toolbar\":{\"id\":\"a3fcf5be-856b-4553-b7d5-e37a8e634e9f\",\"type\":\"Toolbar\"},\"x_range\":{\"id\":\"640b0088-795e-4191-811c-603abd198a21\",\"type\":\"DataRange1d\"},\"x_scale\":{\"id\":\"073a4eb5-4106-4291-9632-3e77a854ee51\",\"type\":\"LinearScale\"},\"y_range\":{\"id\":\"7cb7d39a-4d43-4cde-93e8-f66e86080575\",\"type\":\"DataRange1d\"},\"y_scale\":{\"id\":\"c21c0619-e1c9-4e9e-aa78-d169e8d94e9b\",\"type\":\"LinearScale\"}},\"id\":\"5d1b224b-7da8-4e21-a776-c92ef4d1d959\",\"subtype\":\"Figure\",\"type\":\"Plot\"},{\"attributes\":{\"callback\":null},\"id\":\"bd9372dd-8b7f-4747-b98a-dce925788dac\",\"type\":\"DataRange1d\"},{\"attributes\":{},\"id\":\"31e2c320-ec82-42ff-94a9-88c409ec5b45\",\"type\":\"LinearScale\"},{\"attributes\":{\"formatter\":{\"id\":\"cff209b1-9f2f-4ee1-b58b-d7f289e24459\",\"type\":\"BasicTickFormatter\"},\"plot\":{\"id\":\"566ee9b2-4606-46e4-8293-794ae0c0789b\",\"subtype\":\"Figure\",\"type\":\"Plot\"},\"ticker\":{\"id\":\"319c243f-299c-43f1-9196-0d05b94a3335\",\"type\":\"BasicTicker\"}},\"id\":\"4855fe51-5b3d-4b99-bfa4-1f92d3a66040\",\"type\":\"LinearAxis\"},{\"attributes\":{},\"id\":\"319c243f-299c-43f1-9196-0d05b94a3335\",\"type\":\"BasicTicker\"},{\"attributes\":{},\"id\":\"1b19f442-d944-490f-a377-1c2739c948f2\",\"type\":\"BasicTicker\"},{\"attributes\":{},\"id\":\"8db83454-8cdc-4118-a374-7cf8c03bc160\",\"type\":\"BasicTicker\"},{\"attributes\":{\"dimension\":1,\"plot\":{\"id\":\"566ee9b2-4606-46e4-8293-794ae0c0789b\",\"subtype\":\"Figure\",\"type\":\"Plot\"},\"ticker\":{\"id\":\"8db83454-8cdc-4118-a374-7cf8c03bc160\",\"type\":\"BasicTicker\"}},\"id\":\"3d28e205-d886-49dc-91c0-dd1cef51490e\",\"type\":\"Grid\"},{\"attributes\":{\"fill_alpha\":{\"value\":0.1},\"fill_color\":{\"value\":\"#1f77b4\"},\"line_alpha\":{\"value\":0.1},\"line_color\":{\"value\":\"#1f77b4\"},\"x\":{\"field\":\"idxs\"},\"y\":{\"field\":\"preds_c\"}},\"id\":\"25773921-6132-4903-889e-f6ffc7c42178\",\"type\":\"Circle\"},{\"attributes\":{\"fill_color\":{\"value\":\"#1f77b4\"},\"line_color\":{\"value\":\"#1f77b4\"},\"x\":{\"field\":\"idxs\"},\"y\":{\"field\":\"preds_c\"}},\"id\":\"a9db96e5-1af3-4ba5-83c8-7e028cad030b\",\"type\":\"Circle\"},{\"attributes\":{\"below\":[{\"id\":\"4855fe51-5b3d-4b99-bfa4-1f92d3a66040\",\"type\":\"LinearAxis\"}],\"left\":[{\"id\":\"24e7128e-3f17-4298-8432-b6402a7b7db6\",\"type\":\"LinearAxis\"}],\"plot_height\":400,\"plot_width\":500,\"renderers\":[{\"id\":\"4855fe51-5b3d-4b99-bfa4-1f92d3a66040\",\"type\":\"LinearAxis\"},{\"id\":\"bbef134f-2e3b-4d4e-b92e-9ef863fa81b5\",\"type\":\"Grid\"},{\"id\":\"24e7128e-3f17-4298-8432-b6402a7b7db6\",\"type\":\"LinearAxis\"},{\"id\":\"3d28e205-d886-49dc-91c0-dd1cef51490e\",\"type\":\"Grid\"},{\"id\":\"2bcfab40-8338-40bd-9b8b-715ff70cb7af\",\"type\":\"BoxAnnotation\"},{\"id\":\"d7487e9c-ab73-46be-ab22-5cc4b4534eda\",\"type\":\"GlyphRenderer\"}],\"title\":{\"id\":\"886f5e66-7f05-4f0a-8f52-71cbf5258f15\",\"type\":\"Title\"},\"toolbar\":{\"id\":\"129816e2-44ce-4180-accd-996e03ae8499\",\"type\":\"Toolbar\"},\"x_range\":{\"id\":\"1d49c43d-9245-4a3a-9e5f-089fb2706723\",\"type\":\"DataRange1d\"},\"x_scale\":{\"id\":\"31e2c320-ec82-42ff-94a9-88c409ec5b45\",\"type\":\"LinearScale\"},\"y_range\":{\"id\":\"bd9372dd-8b7f-4747-b98a-dce925788dac\",\"type\":\"DataRange1d\"},\"y_scale\":{\"id\":\"8405bba3-c257-4c44-859b-29bf484e370d\",\"type\":\"LinearScale\"}},\"id\":\"566ee9b2-4606-46e4-8293-794ae0c0789b\",\"subtype\":\"Figure\",\"type\":\"Plot\"},{\"attributes\":{\"data_source\":{\"id\":\"3fedf39d-6324-4450-9f23-30346e813d79\",\"type\":\"ColumnDataSource\"},\"glyph\":{\"id\":\"ab85d136-4239-46e5-b04e-54c3b1818e01\",\"type\":\"Circle\"},\"hover_glyph\":null,\"muted_glyph\":null,\"nonselection_glyph\":{\"id\":\"07fe31d2-5e21-4afa-ac64-f853a34c67a5\",\"type\":\"Circle\"},\"selection_glyph\":null,\"view\":{\"id\":\"63ea12b6-0719-4999-9324-8ec886774ac2\",\"type\":\"CDSView\"}},\"id\":\"fc0ae098-326a-4d60-bca7-007b145d39c9\",\"type\":\"GlyphRenderer\"},{\"attributes\":{\"bottom_units\":\"screen\",\"fill_alpha\":{\"value\":0.5},\"fill_color\":{\"value\":\"lightgrey\"},\"left_units\":\"screen\",\"level\":\"overlay\",\"line_alpha\":{\"value\":1.0},\"line_color\":{\"value\":\"black\"},\"line_dash\":[4,4],\"line_width\":{\"value\":2},\"plot\":null,\"render_mode\":\"css\",\"right_units\":\"screen\",\"top_units\":\"screen\"},\"id\":\"2bcfab40-8338-40bd-9b8b-715ff70cb7af\",\"type\":\"BoxAnnotation\"},{\"attributes\":{},\"id\":\"ce532069-aaec-4c9d-b4b9-11e682f7cb88\",\"type\":\"PanTool\"},{\"attributes\":{\"source\":{\"id\":\"3fedf39d-6324-4450-9f23-30346e813d79\",\"type\":\"ColumnDataSource\"}},\"id\":\"04eb8456-3fd3-4d33-b890-4191bf941bf7\",\"type\":\"CDSView\"},{\"attributes\":{},\"id\":\"9767ea5c-bfc5-4201-bac1-b592929190d6\",\"type\":\"WheelZoomTool\"},{\"attributes\":{\"overlay\":{\"id\":\"2bcfab40-8338-40bd-9b8b-715ff70cb7af\",\"type\":\"BoxAnnotation\"}},\"id\":\"fd0a0669-847d-49c5-bc64-c9336e04ac42\",\"type\":\"BoxZoomTool\"},{\"attributes\":{},\"id\":\"8ccaa3a7-d6a2-46ef-8de9-276ef5c289cf\",\"type\":\"SaveTool\"},{\"attributes\":{},\"id\":\"2d4ca0f4-0067-47e3-8252-043889a473a8\",\"type\":\"ResetTool\"},{\"attributes\":{},\"id\":\"8a4a0ef7-a915-4204-8b4f-87f606115ee3\",\"type\":\"BasicTicker\"},{\"attributes\":{},\"id\":\"8f1ae472-e49b-471a-98bc-b78d7a27206e\",\"type\":\"HelpTool\"},{\"attributes\":{\"active_drag\":\"auto\",\"active_inspect\":\"auto\",\"active_scroll\":\"auto\",\"active_tap\":\"auto\",\"tools\":[{\"id\":\"4e412d8a-7bde-4266-8f05-ec81344f1418\",\"type\":\"PanTool\"},{\"id\":\"511b94a8-9c12-47a2-848f-afba5d57b5a7\",\"type\":\"WheelZoomTool\"},{\"id\":\"2886103a-f9a2-4e29-950d-5dac8f48184f\",\"type\":\"BoxZoomTool\"},{\"id\":\"bf8ca9e6-a8b5-4ff8-81b3-e451a441c2bf\",\"type\":\"SaveTool\"},{\"id\":\"b331da9f-813f-4cb0-bceb-82181cd2a5f1\",\"type\":\"ResetTool\"},{\"id\":\"bb7dbad9-0e5f-4ded-99a5-67d8b01fd237\",\"type\":\"HelpTool\"}]},\"id\":\"a3fcf5be-856b-4553-b7d5-e37a8e634e9f\",\"type\":\"Toolbar\"},{\"attributes\":{},\"id\":\"52a6e975-da59-4fc5-b24f-b84e4a1fa81a\",\"type\":\"LinearScale\"},{\"attributes\":{},\"id\":\"4c8ee34d-90cb-4bb6-9bc7-03655f478eaf\",\"type\":\"BasicTickFormatter\"},{\"attributes\":{\"plot\":null,\"text\":\"\"},\"id\":\"886f5e66-7f05-4f0a-8f52-71cbf5258f15\",\"type\":\"Title\"},{\"attributes\":{\"callback\":null},\"id\":\"640b0088-795e-4191-811c-603abd198a21\",\"type\":\"DataRange1d\"},{\"attributes\":{\"plot\":{\"id\":\"5d1b224b-7da8-4e21-a776-c92ef4d1d959\",\"subtype\":\"Figure\",\"type\":\"Plot\"},\"ticker\":{\"id\":\"532c0049-ab39-4acb-9c06-26f8a6dddf73\",\"type\":\"BasicTicker\"}},\"id\":\"3097e30c-b61a-4b10-81a6-70f8ef3672a0\",\"type\":\"Grid\"},{\"attributes\":{\"fill_color\":{\"value\":\"#1f77b4\"},\"line_color\":{\"value\":\"#1f77b4\"},\"x\":{\"field\":\"idxs\"},\"y\":{\"field\":\"preds\"}},\"id\":\"e794a6aa-250f-4e98-9c4c-a84df970cfcd\",\"type\":\"Circle\"},{\"attributes\":{},\"id\":\"f1b4596e-67f6-4aa9-839b-8b08d44a6fe9\",\"type\":\"BasicTickFormatter\"},{\"attributes\":{\"below\":[{\"id\":\"20c07f09-17e7-4c7b-9ecf-2f26eca3f8a3\",\"type\":\"LinearAxis\"}],\"left\":[{\"id\":\"97624773-144a-4725-8c4b-9ae4f5212400\",\"type\":\"LinearAxis\"}],\"plot_height\":400,\"plot_width\":500,\"renderers\":[{\"id\":\"20c07f09-17e7-4c7b-9ecf-2f26eca3f8a3\",\"type\":\"LinearAxis\"},{\"id\":\"59047e80-85bb-4036-973c-2f3c1dd91971\",\"type\":\"Grid\"},{\"id\":\"97624773-144a-4725-8c4b-9ae4f5212400\",\"type\":\"LinearAxis\"},{\"id\":\"51804211-cb2b-4810-9fd8-60d5b615e567\",\"type\":\"Grid\"},{\"id\":\"694fdda5-c593-4361-9a69-b8826d26479d\",\"type\":\"BoxAnnotation\"},{\"id\":\"a85ce688-1560-4776-8a1e-3d1668932bcc\",\"type\":\"GlyphRenderer\"}],\"title\":{\"id\":\"4d00c2c3-28e2-41f6-9c3b-b0f3c7582577\",\"type\":\"Title\"},\"toolbar\":{\"id\":\"9af66fbc-2589-47e3-8cbe-8b051c0e9398\",\"type\":\"Toolbar\"},\"x_range\":{\"id\":\"f07fa5a4-64d8-4ba7-8038-2d5248a04b2a\",\"type\":\"DataRange1d\"},\"x_scale\":{\"id\":\"52a6e975-da59-4fc5-b24f-b84e4a1fa81a\",\"type\":\"LinearScale\"},\"y_range\":{\"id\":\"674e713c-437a-4f13-b7c9-633932713263\",\"type\":\"DataRange1d\"},\"y_scale\":{\"id\":\"5f9f1a58-0eb8-457f-afa7-e240ec34a4bb\",\"type\":\"LinearScale\"}},\"id\":\"fe021f39-59bb-401d-9805-49d8cca250e8\",\"subtype\":\"Figure\",\"type\":\"Plot\"},{\"attributes\":{},\"id\":\"c21c0619-e1c9-4e9e-aa78-d169e8d94e9b\",\"type\":\"LinearScale\"},{\"attributes\":{\"children\":[{\"id\":\"fe021f39-59bb-401d-9805-49d8cca250e8\",\"subtype\":\"Figure\",\"type\":\"Plot\"},{\"id\":\"566ee9b2-4606-46e4-8293-794ae0c0789b\",\"subtype\":\"Figure\",\"type\":\"Plot\"},{\"id\":\"5d1b224b-7da8-4e21-a776-c92ef4d1d959\",\"subtype\":\"Figure\",\"type\":\"Plot\"}]},\"id\":\"88689ea8-c47c-4d3b-a662-0d904e355d43\",\"type\":\"Row\"},{\"attributes\":{\"callback\":null},\"id\":\"7cb7d39a-4d43-4cde-93e8-f66e86080575\",\"type\":\"DataRange1d\"},{\"attributes\":{},\"id\":\"073a4eb5-4106-4291-9632-3e77a854ee51\",\"type\":\"LinearScale\"},{\"attributes\":{\"formatter\":{\"id\":\"ff7e1026-20d6-4579-b232-0d53505c0c80\",\"type\":\"BasicTickFormatter\"},\"plot\":{\"id\":\"fe021f39-59bb-401d-9805-49d8cca250e8\",\"subtype\":\"Figure\",\"type\":\"Plot\"},\"ticker\":{\"id\":\"8a4a0ef7-a915-4204-8b4f-87f606115ee3\",\"type\":\"BasicTicker\"}},\"id\":\"20c07f09-17e7-4c7b-9ecf-2f26eca3f8a3\",\"type\":\"LinearAxis\"},{\"attributes\":{\"formatter\":{\"id\":\"f1b4596e-67f6-4aa9-839b-8b08d44a6fe9\",\"type\":\"BasicTickFormatter\"},\"plot\":{\"id\":\"5d1b224b-7da8-4e21-a776-c92ef4d1d959\",\"subtype\":\"Figure\",\"type\":\"Plot\"},\"ticker\":{\"id\":\"532c0049-ab39-4acb-9c06-26f8a6dddf73\",\"type\":\"BasicTicker\"}},\"id\":\"ecd9708d-a24d-4c32-8d41-109dc6eca3fd\",\"type\":\"LinearAxis\"},{\"attributes\":{},\"id\":\"532c0049-ab39-4acb-9c06-26f8a6dddf73\",\"type\":\"BasicTicker\"},{\"attributes\":{\"formatter\":{\"id\":\"ca761731-0015-4405-9aed-329b8cf90efc\",\"type\":\"BasicTickFormatter\"},\"plot\":{\"id\":\"5d1b224b-7da8-4e21-a776-c92ef4d1d959\",\"subtype\":\"Figure\",\"type\":\"Plot\"},\"ticker\":{\"id\":\"b5d6b683-272d-4314-830f-9af728ca848f\",\"type\":\"BasicTicker\"}},\"id\":\"2114fa9f-11b3-46a6-9ccc-77dc9db62566\",\"type\":\"LinearAxis\"},{\"attributes\":{},\"id\":\"b5d6b683-272d-4314-830f-9af728ca848f\",\"type\":\"BasicTicker\"},{\"attributes\":{\"dimension\":1,\"plot\":{\"id\":\"5d1b224b-7da8-4e21-a776-c92ef4d1d959\",\"subtype\":\"Figure\",\"type\":\"Plot\"},\"ticker\":{\"id\":\"b5d6b683-272d-4314-830f-9af728ca848f\",\"type\":\"BasicTicker\"}},\"id\":\"885d7708-a638-40dd-bb66-586de528ed43\",\"type\":\"Grid\"},{\"attributes\":{\"fill_alpha\":{\"value\":0.1},\"fill_color\":{\"value\":\"#1f77b4\"},\"line_alpha\":{\"value\":0.1},\"line_color\":{\"value\":\"#1f77b4\"},\"x\":{\"field\":\"idxs\"},\"y\":{\"field\":\"preds_bf\"}},\"id\":\"07fe31d2-5e21-4afa-ac64-f853a34c67a5\",\"type\":\"Circle\"},{\"attributes\":{},\"id\":\"5f9f1a58-0eb8-457f-afa7-e240ec34a4bb\",\"type\":\"LinearScale\"},{\"attributes\":{\"fill_color\":{\"value\":\"#1f77b4\"},\"line_color\":{\"value\":\"#1f77b4\"},\"x\":{\"field\":\"idxs\"},\"y\":{\"field\":\"preds_bf\"}},\"id\":\"ab85d136-4239-46e5-b04e-54c3b1818e01\",\"type\":\"Circle\"},{\"attributes\":{\"callback\":null,\"column_names\":[\"idxs\",\"preds\",\"preds_c\",\"preds_bf\"],\"data\":{\"idxs\":[0,1,2,3,4,5,6,7,8,9,10,11,12,13,14,15,16,17,18,19,20,21,22,23,24,25,26,27,28,29,30,31,32,33,34,35,36,37,38,39,40,41,42,43,44,45,46,47,48,49,50,51,52,53,54,55,56,57,58,59,60,61,62,63,64,65,66,67,68,69,70,71,72,73,74,75,76,77,78,79,80,81,82,83,84,85,86,87,88,89,90,91,92,93,94,95,96,97,98,99,100,101,102,103,104,105,106,107,108,109,110,111,112,113,114,115,116,117,118,119,120,121,122,123,124,125,126,127,128,129,130,131,132,133,134,135,136,137,138,139,140,141,142,143,144,145,146,147,148,149,150,151,152,153,154,155,156,157,158,159,160,161,162,163,164,165,166,167,168,169,170,171,172,173,174,175,176,177,178,179,180,181,182,183,184,185,186,187,188,189,190,191,192,193,194,195,196,197,198,199,200,201,202,203,204,205,206,207,208,209,210,211,212,213,214,215,216,217,218,219,220,221,222,223,224,225,226,227,228,229,230,231,232,233,234,235,236,237,238,239,240,241,242,243,244,245,246,247,248,249,250,251,252,253,254,255,256,257,258,259,260,261,262,263,264,265,266,267,268,269,270,271,272,273,274,275,276,277,278,279,280,281,282,283,284,285,286,287,288,289,290,291,292,293,294,295,296,297,298,299,300,301,302,303,304,305,306,307,308,309,310,311,312,313,314,315,316,317,318,319,320,321,322,323,324,325,326,327,328,329,330,331,332,333,334,335,336,337,338,339,340,341,342,343,344,345,346,347,348,349,350,351,352,353,354,355,356,357,358,359,360,361,362,363,364,365,366,367,368,369,370,371,372,373,374,375,376,377,378,379,380,381,382,383,384,385,386,387,388,389,390,391,392,393,394,395,396,397,398,399,400,401,402,403,404,405,406,407,408,409,410,411,412,413,414,415,416,417,418,419,420,421,422,423,424,425,426,427,428,429,430,431,432,433,434,435,436,437,438,439,440,441,442,443,444,445,446,447,448,449,450,451,452,453,454,455,456,457,458,459,460,461,462,463,464,465,466,467,468,469,470,471,472,473,474,475,476,477,478,479,480,481,482,483,484,485,486,487,488,489,490,491,492,493,494,495,496,497,498,499,500,501,502,503,504,505,506,507,508,509,510,511,512,513,514,515,516,517,518,519,520,521,522,523,524,525,526,527,528,529,530,531,532,533,534,535,536,537,538,539,540,541,542,543,544,545,546,547,548,549,550,551,552,553,554,555,556,557,558,559,560,561,562,563,564,565,566,567,568,569,570,571,572,573,574,575,576,577,578,579,580,581,582,583,584,585,586,587,588,589,590,591,592,593,594,595,596,597,598,599,600,601,602,603,604,605,606,607,608,609,610,611,612,613,614,615,616,617,618,619,620,621,622,623,624,625,626,627,628,629,630,631,632,633,634,635,636,637,638,639,640,641,642,643,644,645,646,647,648,649,650,651,652,653,654,655,656,657,658,659,660,661,662,663,664,665,666,667,668,669,670,671,672,673,674,675,676,677,678,679,680,681,682,683,684,685,686,687,688,689,690,691,692,693,694,695,696,697,698,699,700,701,702,703,704,705,706,707,708,709,710,711,712,713,714,715,716,717,718,719,720,721,722,723,724,725,726,727,728,729,730,731,732,733,734,735,736,737,738,739,740,741,742,743,744,745,746,747,748,749,750,751,752,753,754,755,756,757,758,759,760,761,762,763,764,765,766,767,768,769,770,771,772,773,774,775,776,777,778,779,780,781,782,783,784,785,786,787,788,789,790,791,792,793,794,795,796,797,798,799,800,801,802,803,804,805,806,807,808,809,810,811,812,813,814,815,816,817,818,819,820,821,822],\"preds\":[0,0,0,0,0,0,0,1,0,0,0,0,0,0,0,0,0,0,1,0,0,0,0,0,0,1,0,0,0,0,0,0,0,0,1,0,0,0,0,0,0,1,0,0,0,1,0,1,0,0,0,0,0,0,0,0,0,0,0,1,0,0,0,0,0,0,0,0,0,0,0,0,0,0,0,0,0,0,0,0,0,0,0,0,0,0,1,0,0,0,0,0,0,1,0,1,0,1,0,1,0,0,0,0,0,0,0,0,0,0,0,0,0,0,0,0,0,0,0,0,0,0,0,1,0,0,1,0,0,0,0,0,0,0,0,0,0,0,0,1,0,0,0,0,0,0,0,0,0,0,0,1,0,0,0,0,0,0,0,0,0,0,0,0,0,0,0,0,1,0,0,0,1,1,0,0,0,0,0,0,0,0,0,0,1,0,0,0,0,0,0,0,0,0,1,0,0,0,0,0,0,0,1,0,0,0,0,0,0,0,0,0,0,0,0,0,0,0,0,1,1,0,0,0,0,0,0,0,0,0,1,1,0,0,0,0,0,0,0,0,0,1,0,0,0,0,0,0,0,0,0,0,0,0,0,0,0,0,0,0,0,0,0,0,0,0,0,0,0,0,0,0,0,0,0,0,0,1,0,0,1,0,0,1,1,1,1,0,0,0,0,1,0,0,0,0,0,0,0,0,0,0,0,1,0,0,0,1,0,0,0,0,0,0,0,0,0,0,1,0,0,0,1,0,0,0,1,0,0,0,0,0,0,0,0,0,0,0,0,0,0,1,0,0,0,0,0,0,0,1,1,0,0,0,0,0,0,0,0,1,0,0,0,0,0,0,0,0,0,0,0,0,0,0,1,0,0,1,0,0,0,0,0,0,0,0,1,0,1,0,0,0,0,0,1,0,0,0,0,0,0,1,0,0,0,0,0,0,0,0,0,0,0,0,0,0,0,0,1,1,1,1,0,0,0,1,1,1,0,0,0,0,0,0,0,0,0,0,0,0,0,0,0,0,0,0,0,0,0,0,0,0,0,0,0,0,0,0,0,0,0,0,0,0,0,1,0,0,0,0,0,0,0,0,0,0,0,0,1,0,0,0,0,0,0,0,0,0,0,0,0,0,1,0,0,0,0,1,0,0,0,0,1,0,0,0,0,0,0,0,0,0,0,0,0,0,1,0,0,0,0,0,0,0,0,0,0,0,0,1,0,0,0,0,0,1,0,1,0,0,0,0,0,1,0,0,0,0,0,0,0,0,0,0,0,0,0,0,0,0,0,1,1,0,0,0,0,0,0,1,0,0,0,0,0,0,0,0,0,0,0,1,0,1,0,0,0,0,0,0,0,1,0,1,0,0,0,0,0,0,0,0,0,0,0,0,1,0,0,0,0,0,1,0,0,1,0,0,0,0,0,0,0,0,0,0,0,0,0,0,0,0,0,0,0,0,1,0,0,0,0,0,0,0,0,0,0,0,0,1,0,0,0,0,0,0,0,0,1,0,0,0,0,0,0,0,0,1,0,0,0,0,0,1,0,0,0,0,0,0,0,0,0,0,1,0,0,0,0,0,0,0,0,0,0,0,0,0,0,0,0,0,0,0,0,0,0,0,0,0,0,1,0,0,0,0,0,0,0,0,0,0,0,0,0,0,0,0,0,0,0,0,1,0,0,0,0,0,0,1,1,0,0,0,0,0,0,0,0,0,0,0,0,0,0,0,0,0,0,0,0,0,0,1,0,1,1,1,1,1,1,1,1,1,1,0,1,1,1,1,1,1,1,0,1,1,1,1,0,0,1,1,0,1,0,1,1,1,0,1,1,1,1,1,1,1,1,1,0,1,1,1,1,1,1,1,1,0,1,1,1,1,1],\"preds_bf\":[1,0,0,0,0,0,0,0,0,0,0,0,0,0,0,0,0,0,0,0,0,0,0,0,0,0,0,0,1,0,0,0,0,0,0,0,0,0,0,0,1,1,0,0,0,0,0,0,0,0,0,0,0,0,1,0,0,0,0,0,0,0,0,0,0,0,0,0,0,0,0,0,0,0,1,0,0,0,0,0,0,0,0,0,0,0,0,0,0,0,0,0,0,0,0,0,0,0,0,0,0,0,0,0,0,0,0,0,0,0,0,0,0,0,0,0,0,0,0,1,0,0,0,0,0,0,0,0,0,0,1,0,0,0,0,0,0,1,0,0,0,0,0,0,0,0,0,0,0,0,0,0,0,0,0,0,0,0,0,0,0,0,0,0,0,1,0,0,0,0,0,0,0,0,0,0,0,0,0,0,0,0,0,0,0,0,0,0,0,0,0,0,0,0,0,0,0,0,0,0,0,0,0,1,0,0,0,1,0,0,0,0,0,1,0,0,0,1,0,0,0,0,0,0,0,0,0,0,0,0,0,0,0,0,0,1,0,0,0,0,0,0,0,0,0,1,0,0,0,0,0,0,0,0,0,0,0,0,0,1,0,0,0,0,0,0,0,0,0,0,0,0,0,0,0,0,0,0,0,0,0,0,1,0,0,0,0,0,0,0,0,0,0,0,1,1,0,0,0,0,0,0,0,0,0,0,0,0,0,0,0,0,0,0,0,0,0,0,0,0,0,0,0,0,0,0,0,0,0,0,0,0,0,0,0,0,1,1,0,0,0,0,0,0,0,0,0,0,0,0,0,0,0,0,0,0,0,0,0,0,0,0,0,0,0,0,0,0,0,0,0,0,0,0,0,0,0,0,0,0,0,0,0,0,0,0,0,1,0,0,0,0,1,0,0,0,0,0,0,0,0,0,0,0,0,0,0,0,0,0,0,0,0,0,0,0,0,0,0,1,1,0,0,0,0,0,0,1,0,0,0,0,0,0,0,0,0,0,0,0,0,1,1,0,0,0,0,0,0,0,0,0,0,0,0,0,0,0,1,0,0,0,0,0,0,0,1,1,0,0,0,0,0,0,0,0,0,0,0,0,0,1,1,0,0,0,1,0,0,0,0,0,1,0,0,0,0,0,0,0,0,0,0,0,0,0,0,0,0,0,0,0,0,0,0,0,0,0,0,0,0,0,0,0,0,0,0,0,0,0,0,0,0,0,0,0,0,0,0,0,0,0,0,0,1,0,0,0,1,0,0,0,0,0,0,0,0,0,0,0,0,0,0,0,0,0,0,0,0,0,0,0,0,0,0,0,0,0,0,0,0,0,0,0,0,0,0,0,0,0,0,0,0,0,0,0,0,0,0,0,0,0,0,0,0,0,0,0,0,0,0,0,1,0,0,0,0,0,0,0,0,0,0,0,0,0,0,0,0,0,0,0,0,0,0,0,0,0,0,1,0,0,0,0,0,0,0,0,0,0,0,0,0,0,0,0,0,0,0,0,0,0,0,0,0,0,0,0,0,0,0,0,0,0,0,0,0,0,0,0,0,0,0,0,0,1,0,0,1,0,0,0,0,0,1,0,1,0,0,0,0,0,0,0,0,0,0,0,0,0,0,0,1,0,1,0,0,0,0,0,0,0,0,1,0,0,0,0,0,1,0,0,0,0,0,0,1,0,0,0,0,0,0,0,0,0,0,0,0,0,0,0,0,0,0,0,1,1,0,0,0,1,0,1,0,0,0,0,0,0,0,0,0,0,0,0,0,0,0,0,0,0,0,0,0,0,0,0,0,0,0,0,0,0,0,0,0,0,0,0,0,0,0,0,0,0,0,0,1,0,1,0,0,0,0,0,0,0,0,0,0,1,0],\"preds_c\":[0,0,0,0,0,0,0,0,0,0,0,0,0,0,0,0,0,0,0,0,0,0,0,0,0,0,0,0,0,0,0,0,0,0,0,0,0,0,0,0,0,0,0,0,0,0,0,0,0,0,0,0,0,0,0,0,0,0,0,0,0,0,0,0,0,0,0,0,0,0,0,0,0,0,0,0,0,0,0,0,0,0,0,0,0,0,0,0,0,0,0,0,0,0,0,1,0,0,0,1,0,0,0,0,0,0,0,0,0,0,0,0,0,0,0,0,0,0,0,0,0,0,0,0,0,0,1,0,0,0,0,0,0,0,0,0,0,0,0,0,0,0,0,0,0,0,0,0,0,0,0,0,0,0,0,0,0,0,0,0,0,0,0,0,0,0,0,0,0,0,0,0,0,0,0,0,0,0,0,0,0,0,0,0,0,0,0,0,0,0,0,0,0,0,1,0,0,0,0,0,0,0,0,0,0,0,0,0,0,0,0,0,0,0,0,0,0,0,0,0,0,0,0,0,0,0,0,0,0,0,0,1,0,0,0,0,0,0,0,0,0,0,0,0,0,0,0,0,0,0,0,0,0,0,0,0,0,0,0,0,0,0,0,0,0,0,0,0,0,0,0,0,0,0,0,0,0,0,0,0,0,0,0,0,0,0,0,0,0,0,0,1,0,0,0,0,0,0,0,0,0,0,0,0,0,0,0,0,0,0,0,0,0,0,0,0,0,0,0,0,0,0,0,0,0,0,0,0,0,0,0,0,0,0,0,0,0,0,0,0,0,0,0,0,0,0,0,0,0,0,0,0,0,0,0,0,0,0,0,0,0,0,0,0,0,0,0,0,0,0,0,0,0,0,0,0,0,0,0,0,0,0,0,0,0,0,0,0,0,0,0,0,0,0,1,0,0,0,0,0,0,0,0,0,0,0,0,0,0,0,0,0,0,0,0,0,0,0,0,0,0,0,0,0,0,0,0,0,0,0,0,0,0,0,0,0,0,0,0,0,0,0,0,0,0,0,0,0,0,0,0,0,0,0,0,0,0,0,0,0,0,0,0,0,0,1,0,0,0,0,0,0,0,0,0,0,0,0,0,0,0,0,0,0,0,0,0,0,0,0,0,0,0,0,0,0,0,0,0,0,0,0,0,0,0,0,0,0,0,0,0,0,0,0,0,0,1,0,0,0,0,0,0,0,0,0,0,0,0,1,0,0,0,0,0,0,0,0,0,0,0,0,0,0,0,0,0,0,0,0,0,0,0,0,0,0,0,0,0,0,0,0,1,0,0,0,0,0,0,0,0,0,0,0,0,0,0,0,0,0,0,0,0,0,0,0,0,0,0,0,0,0,0,0,0,0,0,0,0,0,0,0,0,0,0,0,0,0,0,0,0,0,0,0,0,0,0,0,0,0,0,0,0,0,0,0,0,0,0,0,0,0,0,0,0,0,0,0,0,0,0,0,0,0,0,0,0,0,0,0,0,0,0,0,0,0,0,0,0,0,0,0,0,0,0,0,0,0,0,0,0,0,0,0,0,0,0,0,0,0,0,0,0,0,0,0,0,0,0,0,0,0,0,0,0,0,0,0,0,0,0,0,0,0,0,0,0,0,0,0,0,0,0,0,0,0,0,0,0,0,0,0,0,0,0,0,0,0,0,0,0,0,0,0,0,0,0,0,0,0,1,0,0,0,0,0,0,0,0,0,0,0,0,0,0,0,0,0,0,0,0,0,0,1,0,0,0,0,0,0,0,1,0,0,1,0,1,0,0,0,1,0,1,0,0,0,0,0,0,0,0,0,0,0,0,1,1,0,0,1,1,1,0,0,1,1,0,0,0,0,1,1,0,1,0,0,0,0,0,0,0,0,0]}},\"id\":\"3fedf39d-6324-4450-9f23-30346e813d79\",\"type\":\"ColumnDataSource\"},{\"attributes\":{\"bottom_units\":\"screen\",\"fill_alpha\":{\"value\":0.5},\"fill_color\":{\"value\":\"lightgrey\"},\"left_units\":\"screen\",\"level\":\"overlay\",\"line_alpha\":{\"value\":1.0},\"line_color\":{\"value\":\"black\"},\"line_dash\":[4,4],\"line_width\":{\"value\":2},\"plot\":null,\"render_mode\":\"css\",\"right_units\":\"screen\",\"top_units\":\"screen\"},\"id\":\"7fa0368d-46bf-4d26-b9e7-20119473746d\",\"type\":\"BoxAnnotation\"},{\"attributes\":{},\"id\":\"4e412d8a-7bde-4266-8f05-ec81344f1418\",\"type\":\"PanTool\"},{\"attributes\":{\"active_drag\":\"auto\",\"active_inspect\":\"auto\",\"active_scroll\":\"auto\",\"active_tap\":\"auto\",\"tools\":[{\"id\":\"a60ab5fb-d332-4c1d-b46f-8558d65d06f0\",\"type\":\"PanTool\"},{\"id\":\"6557c02b-4b7c-4b1d-b811-cc2d86cdbab8\",\"type\":\"WheelZoomTool\"},{\"id\":\"a70cf5d3-209f-4bda-8ffb-e436f3a5ca8c\",\"type\":\"BoxZoomTool\"},{\"id\":\"5410669c-da63-4edb-ab8b-0d632ff295a8\",\"type\":\"SaveTool\"},{\"id\":\"c72e5dcd-624b-4631-a529-534076bd6e8d\",\"type\":\"ResetTool\"},{\"id\":\"e829f547-9228-41b8-917b-7e89c0e98cec\",\"type\":\"HelpTool\"}]},\"id\":\"9af66fbc-2589-47e3-8cbe-8b051c0e9398\",\"type\":\"Toolbar\"},{\"attributes\":{\"source\":{\"id\":\"3fedf39d-6324-4450-9f23-30346e813d79\",\"type\":\"ColumnDataSource\"}},\"id\":\"63ea12b6-0719-4999-9324-8ec886774ac2\",\"type\":\"CDSView\"},{\"attributes\":{},\"id\":\"511b94a8-9c12-47a2-848f-afba5d57b5a7\",\"type\":\"WheelZoomTool\"},{\"attributes\":{\"overlay\":{\"id\":\"7fa0368d-46bf-4d26-b9e7-20119473746d\",\"type\":\"BoxAnnotation\"}},\"id\":\"2886103a-f9a2-4e29-950d-5dac8f48184f\",\"type\":\"BoxZoomTool\"},{\"attributes\":{},\"id\":\"bf8ca9e6-a8b5-4ff8-81b3-e451a441c2bf\",\"type\":\"SaveTool\"},{\"attributes\":{},\"id\":\"b331da9f-813f-4cb0-bceb-82181cd2a5f1\",\"type\":\"ResetTool\"},{\"attributes\":{},\"id\":\"bb7dbad9-0e5f-4ded-99a5-67d8b01fd237\",\"type\":\"HelpTool\"},{\"attributes\":{\"callback\":null},\"id\":\"674e713c-437a-4f13-b7c9-633932713263\",\"type\":\"DataRange1d\"},{\"attributes\":{},\"id\":\"ca761731-0015-4405-9aed-329b8cf90efc\",\"type\":\"BasicTickFormatter\"},{\"attributes\":{\"plot\":null,\"text\":\"\"},\"id\":\"8e365693-5913-4bf4-bb56-59fa4b57b205\",\"type\":\"Title\"},{\"attributes\":{\"fill_alpha\":{\"value\":0.1},\"fill_color\":{\"value\":\"#1f77b4\"},\"line_alpha\":{\"value\":0.1},\"line_color\":{\"value\":\"#1f77b4\"},\"x\":{\"field\":\"idxs\"},\"y\":{\"field\":\"preds\"}},\"id\":\"469422e4-7044-44b8-b1be-4df9351e3b9b\",\"type\":\"Circle\"},{\"attributes\":{\"callback\":null},\"id\":\"f07fa5a4-64d8-4ba7-8038-2d5248a04b2a\",\"type\":\"DataRange1d\"}],\"root_ids\":[\"88689ea8-c47c-4d3b-a662-0d904e355d43\"]},\"title\":\"Bokeh Application\",\"version\":\"0.12.13\"}};\n",
       "  var render_items = [{\"docid\":\"915ca171-01ce-4163-99a3-127d0f9adc20\",\"elementid\":\"71878439-b39b-4266-9f5f-832e4f70a5c5\",\"modelid\":\"88689ea8-c47c-4d3b-a662-0d904e355d43\"}];\n",
       "  root.Bokeh.embed.embed_items_notebook(docs_json, render_items);\n",
       "\n",
       "  }\n",
       "  if (root.Bokeh !== undefined) {\n",
       "    embed_document(root);\n",
       "  } else {\n",
       "    var attempts = 0;\n",
       "    var timer = setInterval(function(root) {\n",
       "      if (root.Bokeh !== undefined) {\n",
       "        embed_document(root);\n",
       "        clearInterval(timer);\n",
       "      }\n",
       "      attempts++;\n",
       "      if (attempts > 100) {\n",
       "        console.log(\"Bokeh: ERROR: Unable to run BokehJS code because BokehJS library is missing\")\n",
       "        clearInterval(timer);\n",
       "      }\n",
       "    }, 10, root)\n",
       "  }\n",
       "})(window);"
      ],
      "application/vnd.bokehjs_exec.v0+json": ""
     },
     "metadata": {
      "application/vnd.bokehjs_exec.v0+json": {
       "id": "88689ea8-c47c-4d3b-a662-0d904e355d43"
      }
     },
     "output_type": "display_data"
    }
   ],
   "source": [
    "source2=ColumnDataSource(data=dict(idxs=list(range(len(preds[0]))),preds=preds[0],preds_c=preds_cumsum[0],preds_bf=preds_bf[0]))\n",
    "plot=figure(plot_width=500,plot_height=400)\n",
    "plot.circle('idxs','preds',source=source2)\n",
    "\n",
    "plot2=figure(plot_width=500,plot_height=400)\n",
    "plot2.circle('idxs','preds_c',source=source2)\n",
    "\n",
    "plot3=figure(plot_width=500,plot_height=400)\n",
    "plot3.circle('idxs','preds_bf',source=source2)\n",
    "\n",
    "show(row(plot,plot2,plot3))"
   ]
  }
 ],
 "metadata": {
  "kernelspec": {
   "display_name": "Python 3",
   "language": "python",
   "name": "python3"
  },
  "language_info": {
   "codemirror_mode": {
    "name": "ipython",
    "version": 3
   },
   "file_extension": ".py",
   "mimetype": "text/x-python",
   "name": "python",
   "nbconvert_exporter": "python",
   "pygments_lexer": "ipython3",
   "version": "3.6.1"
  }
 },
 "nbformat": 4,
 "nbformat_minor": 2
}
